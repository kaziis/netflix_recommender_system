{
 "cells": [
  {
   "attachments": {},
   "cell_type": "markdown",
   "metadata": {
    "cell_id": "b77dd2a895fb4c2fadeb2d5a81d9e781",
    "deepnote_cell_type": "markdown"
   },
   "source": [
    "#### Project Overview\n",
    "\n",
    "**Introduction:** The project is intended to replicate a movie recommender system. The two files which are used are the credits and movie files, credits contain information on the crew and cast members of a movie, and the movie file contains information such as genres, overview, keywords, and much more. We merge the two files later in the project and use a content-based approach to create the ML model."
   ]
  },
  {
   "attachments": {},
   "cell_type": "markdown",
   "metadata": {
    "cell_id": "2bd7fd5494e44b579902024e69009cd2",
    "deepnote_cell_type": "markdown"
   },
   "source": [
    "# Exploratory Data Analysis"
   ]
  },
  {
   "cell_type": "code",
   "execution_count": 1,
   "metadata": {
    "cell_id": "a28bb7f08b7d4c67a173f57019e823f2",
    "deepnote_cell_type": "code",
    "deepnote_to_be_reexecuted": false,
    "execution_millis": 1247,
    "execution_start": 1683247646065,
    "source_hash": "7e0b4d3c"
   },
   "outputs": [],
   "source": [
    "# Libaries used for the EDA section\n",
    "import pandas as pd\n",
    "import matplotlib.pyplot as plt\n",
    "import ast"
   ]
  },
  {
   "cell_type": "code",
   "execution_count": 2,
   "metadata": {
    "cell_id": "230dbd904b674da385758b4ed5bec473",
    "deepnote_cell_type": "code",
    "deepnote_to_be_reexecuted": false,
    "execution_millis": 752,
    "execution_start": 1683247647315,
    "source_hash": "a236eabd"
   },
   "outputs": [],
   "source": [
    "# Storing files in two variables\n",
    "credits_df = pd.read_csv(\"/work/Project/Movie System/Project/CSVs/tmdb_5000_credits.csv\")\n",
    "movies_df = pd.read_csv(\"/work/Project/Movie System/Project/CSVs/tmdb_5000_movies.csv\")"
   ]
  },
  {
   "cell_type": "code",
   "execution_count": 3,
   "metadata": {
    "cell_id": "4b155f4d9248416f85bdfb1094b78a58",
    "deepnote_cell_type": "code",
    "deepnote_to_be_reexecuted": false,
    "execution_millis": 4,
    "execution_start": 1683247648075,
    "source_hash": "d960324d"
   },
   "outputs": [
    {
     "data": {
      "text/plain": [
       "(4803, 20)"
      ]
     },
     "execution_count": 3,
     "metadata": {},
     "output_type": "execute_result"
    }
   ],
   "source": [
    "# Movies shape\n",
    "movies_df.shape"
   ]
  },
  {
   "cell_type": "code",
   "execution_count": 4,
   "metadata": {
    "cell_id": "de5ba873fbf94048a585921f0b3c67e3",
    "deepnote_cell_type": "code",
    "deepnote_to_be_reexecuted": false,
    "execution_millis": 6,
    "execution_start": 1683247648081,
    "source_hash": "3b6f3183"
   },
   "outputs": [
    {
     "data": {
      "text/plain": [
       "(4803, 4)"
      ]
     },
     "execution_count": 4,
     "metadata": {},
     "output_type": "execute_result"
    }
   ],
   "source": [
    "# Credits shape\n",
    "credits_df.shape"
   ]
  },
  {
   "attachments": {},
   "cell_type": "markdown",
   "metadata": {
    "cell_id": "1939bc7c564f48d9a4dc9104e1a7e769",
    "deepnote_cell_type": "markdown"
   },
   "source": [
    "## Data Types"
   ]
  },
  {
   "cell_type": "code",
   "execution_count": 5,
   "metadata": {
    "cell_id": "f26c434cc34041b9ac2617e5fd377771",
    "deepnote_cell_type": "code",
    "deepnote_to_be_reexecuted": false,
    "execution_millis": 21,
    "execution_start": 1683247648090,
    "source_hash": "46986aed"
   },
   "outputs": [
    {
     "data": {
      "text/plain": [
       "budget                    int64\n",
       "genres                   object\n",
       "homepage                 object\n",
       "id                        int64\n",
       "keywords                 object\n",
       "original_language        object\n",
       "original_title           object\n",
       "overview                 object\n",
       "popularity              float64\n",
       "production_companies     object\n",
       "production_countries     object\n",
       "release_date             object\n",
       "revenue                   int64\n",
       "runtime                 float64\n",
       "spoken_languages         object\n",
       "status                   object\n",
       "tagline                  object\n",
       "title                    object\n",
       "vote_average            float64\n",
       "vote_count                int64\n",
       "dtype: object"
      ]
     },
     "execution_count": 5,
     "metadata": {},
     "output_type": "execute_result"
    }
   ],
   "source": [
    "# Understanding data types of the movies file\n",
    "movies_df.dtypes"
   ]
  },
  {
   "cell_type": "code",
   "execution_count": 6,
   "metadata": {
    "cell_id": "8b8c3eaf0ba84b349ef2371827994bb0",
    "deepnote_cell_type": "code",
    "deepnote_to_be_reexecuted": false,
    "execution_millis": 2,
    "execution_start": 1683247648150,
    "source_hash": "65c07c6b"
   },
   "outputs": [
    {
     "data": {
      "text/plain": [
       "movie_id     int64\n",
       "title       object\n",
       "cast        object\n",
       "crew        object\n",
       "dtype: object"
      ]
     },
     "execution_count": 6,
     "metadata": {},
     "output_type": "execute_result"
    }
   ],
   "source": [
    "# Understanding data types of the credits file\n",
    "credits_df.dtypes"
   ]
  },
  {
   "attachments": {},
   "cell_type": "markdown",
   "metadata": {
    "cell_id": "adb032fdae7a4b16a0a15b971007d455",
    "deepnote_cell_type": "markdown"
   },
   "source": [
    "## Missing Values"
   ]
  },
  {
   "cell_type": "code",
   "execution_count": 7,
   "metadata": {
    "cell_id": "66e47156c76d41459edde07771948a76",
    "deepnote_cell_type": "code",
    "deepnote_to_be_reexecuted": false,
    "execution_millis": 3,
    "execution_start": 1683247648150,
    "source_hash": "f8a7874c"
   },
   "outputs": [
    {
     "data": {
      "text/plain": [
       "budget                     0\n",
       "genres                     0\n",
       "homepage                3091\n",
       "id                         0\n",
       "keywords                   0\n",
       "original_language          0\n",
       "original_title             0\n",
       "overview                  31\n",
       "popularity                 0\n",
       "production_companies       0\n",
       "production_countries       0\n",
       "release_date               1\n",
       "revenue                    0\n",
       "runtime                    2\n",
       "spoken_languages           0\n",
       "status                     0\n",
       "tagline                  844\n",
       "title                      0\n",
       "vote_average               0\n",
       "vote_count                 0\n",
       "dtype: int64"
      ]
     },
     "execution_count": 7,
     "metadata": {},
     "output_type": "execute_result"
    }
   ],
   "source": [
    "# To avoid any future errors it is best to check for any missing values\n",
    "movies_df.isna().sum()"
   ]
  },
  {
   "attachments": {},
   "cell_type": "markdown",
   "metadata": {
    "cell_id": "5649a1f728cc4298ac20c1db4af43d7c",
    "deepnote_cell_type": "markdown"
   },
   "source": [
    "#### Overviews"
   ]
  },
  {
   "cell_type": "code",
   "execution_count": 8,
   "metadata": {
    "cell_id": "25245baea9334419a2d8a3875a29cc8a",
    "deepnote_cell_type": "code",
    "deepnote_to_be_reexecuted": false,
    "execution_millis": 51,
    "execution_start": 1683247648165,
    "source_hash": "585f2e0a",
    "tags": []
   },
   "outputs": [],
   "source": [
    "movies_df.loc[movies_df.original_title == 'The Dark Knight','overview'] = \"When the menace known as the Joker wreaks havoc and chaos on the people of Gotham, Batman must accept one of the greatest psychological and physical tests of his ability to fight injustice.\"\n",
    "movies_df.loc[movies_df.original_title == 'Inside Out','overview'] = \"After young Riley is uprooted from her Midwest life and moved to San Francisco, her emotions - Joy, Fear, Anger, Disgust and Sadness - conflict on how best to navigate a new city, house, and school.\"\n",
    "movies_df.loc[movies_df.original_title == 'Guardians of the Galaxy','overview'] = \"A group of intergalactic criminals must pull together to stop a fanatical warrior with plans to purge the universe.\"\n",
    "movies_df.loc[movies_df.original_title == 'Interstellar','overview'] = \"A team of explorers travel through a wormhole in space in an attempt to ensure humanity's survival.\"\n",
    "movies_df.loc[movies_df.original_title == 'Inception','overview'] = \"A thief who steals corporate secrets through the use of dream-sharing technology is given the inverse task of planting an idea into the mind of a C.E.O., but his tragic past may doom the project and his team to disaster.\"\n",
    "movies_df.loc[movies_df.original_title == 'The Lord of the Rings: The Fellowship of the Ring','overview'] = \"A meek Hobbit from the Shire and eight companions set out on a journey to destroy the powerful One Ring and save Middle-earth from the Dark Lord Sauron.\"\n",
    "movies_df.loc[movies_df.original_title == 'Django Unchained','overview'] = \"With the help of a German bounty-hunter, a freed slave sets out to rescue his wife from a brutal plantation owner in Mississippi.\"\n",
    "movies_df.loc[movies_df.original_title == 'The Wolf of Wall Street','overview'] = \"Based on the true story of Jordan Belfort, from his rise to a wealthy stock-broker living the high life to his fall involving crime, corruption and the federal government.\"\n",
    "movies_df.loc[movies_df.original_title == 'The Lord of the Rings: The Return of the King','overview'] = \"Gandalf and Aragorn lead the World of Men against Sauron's army to draw his gaze from Frodo and Sam as they approach Mount Doom with the One Ring.\"\n",
    "movies_df.loc[movies_df.original_title == 'The Lord of the Rings: The Two Towers','overview'] = \"While Frodo and Sam edge closer to Mordor with the help of the shifty Gollum, the divided fellowship makes a stand against Sauron's new ally, Saruman, and his hordes of Isengard.\"\n",
    "movies_df.loc[movies_df.original_title == 'The Lion King','overview'] = \"After the murder of his father, a young lion prince flees his kingdom only to learn the true meaning of responsibility and bravery.\"\n",
    "movies_df.loc[movies_df.original_title == 'The Matrix','overview'] = \"When a beautiful stranger leads computer hacker Neo to a forbidding underworld, he discovers the shocking truth--the life he knows is the elaborate deception of an evil cyber-intelligence.\"\n",
    "movies_df.loc[movies_df.original_title == 'Fight Club','overview'] = \"An insomniac office worker and a devil-may-care soap maker form an underground fight club that evolves into much more.\"\n",
    "movies_df.loc[movies_df.original_title == 'The Green Mile','overview'] = \"The lives of guards on Death Row are affected by one of their charges: a black man accused of child murder and rape, yet who has a mysterious gift.\"\n",
    "movies_df.loc[movies_df.original_title == 'Forrest Gump','overview'] = \"The presidencies of Kennedy and Johnson, the Vietnam War, the Watergate scandal and other historical events unfold from the perspective of an Alabama man with an IQ of 75, whose only desire is to be reunited with his childhood sweetheart\"\n",
    "movies_df.loc[movies_df.original_title == 'Se7en','overview'] = \"Two detectives, a rookie and a veteran, hunt a serial killer who uses the seven deadly sins as his motives.\"\n",
    "movies_df.loc[movies_df.original_title == \"Schindler's List\",'overview'] = \"In German-occupied Poland during World War II, industrialist Oskar Schindler gradually becomes concerned for his Jewish workforce after witnessing their persecution by the Nazis.\"\n",
    "movies_df.loc[movies_df.original_title == 'The Shawshank Redemption','overview'] = \"Over the course of several years, two convicts form a friendship, seeking consolation and, eventually, redemption through basic compassion.\"\n",
    "movies_df.loc[movies_df.original_title == 'The Empire Strikes Back','overview'] = \"After the Rebels are overpowered by the Empire, Luke Skywalker begins Jedi training with Yoda, while his friends are pursued across the galaxy by Darth Vader and bounty hunter Boba Fett.\"\n",
    "movies_df.loc[movies_df.original_title == 'The Silence of the Lambs','overview'] = \"A young F.B.I. cadet must receive the help of an incarcerated and manipulative cannibal killer to help catch another serial killer, a madman who skins his victims.\"\n",
    "movies_df.loc[movies_df.original_title == 'Back to the Future','overview'] = \"Marty McFly, a 17-year-old high school student, is accidentally sent 30 years into the past in a time-traveling DeLorean invented by his close friend, the maverick scientist Doc Brown.\"\n",
    "movies_df.loc[movies_df.original_title == '千と千尋の神隠し','overview'] = \"During her family's move to the suburbs, a sullen 10-year-old girl wanders into a world ruled by gods, witches, and spirits, and where humans are changed into beasts.\"\n",
    "movies_df.loc[movies_df.original_title == 'The Imitation Game','overview'] = \"During World War II, the English mathematical genius Alan Turing tries to crack the German Enigma code with help from fellow mathematicians while attempting to come to terms with his troubled private life.\"\n",
    "movies_df.loc[movies_df.original_title == 'Chiamatemi Francesco - Il Papa della gente','overview'] = \"The story of Pope Francis' life.\"\n",
    "movies_df.loc[movies_df.original_title == 'The Godfather: Part II','overview'] = \"The early life and career of Vito Corleone in 1920s New York City is portrayed, while his son, Michael, expands and tightens his grip on the family crime syndicate.\"\n",
    "movies_df.loc[movies_df.original_title == 'Star Wars','overview'] = \"Luke Skywalker joins forces with a Jedi Knight, a cocky pilot, a Wookiee and two droids to save the galaxy from the Empire's world-destroying battle station, while also attempting to rescue Princess Leia from the mysterious Darth Vader.\"\n",
    "movies_df.loc[movies_df.original_title == 'Pulp Fiction','overview'] = \"The lives of two mob hitmen, a boxer, a gangster and his wife, and a pair of diner bandits intertwine in four tales of violence and redemption.\"\n",
    "movies_df.loc[movies_df.original_title == 'The Godfather','overview'] = \"The aging patriarch of an organized crime dynasty in postwar New York City transfers control of his clandestine empire to his reluctant youngest son.\"\n",
    "movies_df.loc[movies_df.original_title == 'Whiplash','overview'] = \"A promising young drummer enrolls at a cut-throat music conservatory where his dreams of greatness are mentored by an instructor who will stop at nothing to realize a student's potential.\"\n",
    "movies_df.loc[movies_df.original_title == 'To Be Frank, Sinatra at 100','overview'] = \"The life of Frank Sinatra, as an actor and singer and the steps along the way that led him to become such an icon.\"\n",
    "movies_df.loc[movies_df.original_title == 'Food Chains','overview'] = \"There is so much interest in food these days yet there is almost no interest in the hands that pick that food. In the US, farm labor has always been one of the most difficult and poorly paid jobs and has relied on some of the nation's most vulnerable people. While the legal restrictions which kept people bound to farms, like slavery, have been abolished, exploitation still exists, ranging from wage theft to modern-day slavery. These days, this exploitation is perpetuated by the corporations at the top of the food chain: supermarkets. Their buying power has kept wages pitifully low and has created a scenario where desperately poor people are willing to put up with anything to keep their jobs.\""
   ]
  },
  {
   "cell_type": "code",
   "execution_count": 9,
   "metadata": {
    "cell_id": "d0244fae7a9a4912b9b42188468ca2fa",
    "deepnote_cell_type": "code",
    "deepnote_to_be_reexecuted": false,
    "execution_millis": 3,
    "execution_start": 1683247648308,
    "source_hash": "196982db"
   },
   "outputs": [
    {
     "data": {
      "text/plain": [
       "movie_id    0\n",
       "title       0\n",
       "cast        0\n",
       "crew        0\n",
       "dtype: int64"
      ]
     },
     "execution_count": 9,
     "metadata": {},
     "output_type": "execute_result"
    }
   ],
   "source": [
    "# The credits file is not missing any of the values\n",
    "credits_df.isna().sum()"
   ]
  },
  {
   "cell_type": "code",
   "execution_count": 10,
   "metadata": {
    "cell_id": "b48964ea127746a1a32e853bb5b4340c",
    "deepnote_cell_type": "code",
    "deepnote_to_be_reexecuted": false,
    "execution_millis": 5,
    "execution_start": 1683247648308,
    "source_hash": "2101d6e",
    "tags": []
   },
   "outputs": [
    {
     "data": {
      "text/plain": [
       "Released           4795\n",
       "Rumored               5\n",
       "Post Production       3\n",
       "Name: status, dtype: int64"
      ]
     },
     "execution_count": 10,
     "metadata": {},
     "output_type": "execute_result"
    }
   ],
   "source": [
    "# Movie status\n",
    "movies_df.status.value_counts()"
   ]
  },
  {
   "cell_type": "code",
   "execution_count": 11,
   "metadata": {
    "cell_id": "1348eee9178d402e9e06bedaee949674",
    "deepnote_cell_type": "code",
    "deepnote_to_be_reexecuted": false,
    "execution_millis": 86,
    "execution_start": 1683247648308,
    "source_hash": "dfa868d0",
    "tags": []
   },
   "outputs": [
    {
     "data": {
      "application/vnd.deepnote.dataframe.v3+json": {
       "column_count": 20,
       "columns": [
        {
         "dtype": "int64",
         "name": "budget",
         "stats": {
          "histogram": [
           {
            "bin_end": 68700000,
            "bin_start": 58000000,
            "count": 1
           },
           {
            "bin_end": 79400000,
            "bin_start": 68700000,
            "count": 1
           },
           {
            "bin_end": 90100000,
            "bin_start": 79400000,
            "count": 0
           },
           {
            "bin_end": 100800000,
            "bin_start": 90100000,
            "count": 0
           },
           {
            "bin_end": 111500000,
            "bin_start": 100800000,
            "count": 0
           },
           {
            "bin_end": 122200000,
            "bin_start": 111500000,
            "count": 0
           },
           {
            "bin_end": 132900000,
            "bin_start": 122200000,
            "count": 0
           },
           {
            "bin_end": 143600000,
            "bin_start": 132900000,
            "count": 0
           },
           {
            "bin_end": 154300000,
            "bin_start": 143600000,
            "count": 0
           },
           {
            "bin_end": 165000000,
            "bin_start": 154300000,
            "count": 1
           }
          ],
          "max": "165000000",
          "min": "58000000",
          "nan_count": 0,
          "unique_count": 3
         }
        },
        {
         "dtype": "object",
         "name": "genres",
         "stats": {
          "categories": [
           {
            "count": 1,
            "name": "[{\"id\": 10751, \"name\": \"Family\"}, {\"id\": 16, \"name\": \"Animation\"}, {\"id\": 12, \"name\": \"Adventure\"}, {\"id\": 35, \"name\": \"Comedy\"}]"
           },
           {
            "count": 1,
            "name": "[{\"id\": 12, \"name\": \"Adventure\"}, {\"id\": 18, \"name\": \"Drama\"}, {\"id\": 878, \"name\": \"Science Fiction\"}]"
           },
           {
            "count": 1,
            "name": "[{\"id\": 28, \"name\": \"Action\"}, {\"id\": 12, \"name\": \"Adventure\"}, {\"id\": 35, \"name\": \"Comedy\"}]"
           }
          ],
          "nan_count": 0,
          "unique_count": 3
         }
        },
        {
         "dtype": "object",
         "name": "homepage",
         "stats": {
          "categories": [
           {
            "count": 1,
            "name": "http://www.minionsmovie.com/"
           },
           {
            "count": 1,
            "name": "http://www.interstellarmovie.net/"
           },
           {
            "count": 1,
            "name": "http://www.foxmovies.com/movies/deadpool"
           }
          ],
          "nan_count": 0,
          "unique_count": 3
         }
        },
        {
         "dtype": "int64",
         "name": "id",
         "stats": {
          "histogram": [
           {
            "bin_end": 170968.4,
            "bin_start": 157336,
            "count": 1
           },
           {
            "bin_end": 184600.8,
            "bin_start": 170968.4,
            "count": 0
           },
           {
            "bin_end": 198233.2,
            "bin_start": 184600.8,
            "count": 0
           },
           {
            "bin_end": 211865.6,
            "bin_start": 198233.2,
            "count": 1
           },
           {
            "bin_end": 225498,
            "bin_start": 211865.6,
            "count": 0
           },
           {
            "bin_end": 239130.4,
            "bin_start": 225498,
            "count": 0
           },
           {
            "bin_end": 252762.8,
            "bin_start": 239130.4,
            "count": 0
           },
           {
            "bin_end": 266395.2,
            "bin_start": 252762.8,
            "count": 0
           },
           {
            "bin_end": 280027.6,
            "bin_start": 266395.2,
            "count": 0
           },
           {
            "bin_end": 293660,
            "bin_start": 280027.6,
            "count": 1
           }
          ],
          "max": "293660",
          "min": "157336",
          "nan_count": 0,
          "unique_count": 3
         }
        },
        {
         "dtype": "object",
         "name": "keywords",
         "stats": {
          "categories": [
           {
            "count": 1,
            "name": "[{\"id\": 3487, \"name\": \"assistant\"}, {\"id\": 179430, \"name\": \"aftercreditsstinger\"}, {\"id\": 179431, \"name\": \"duringcreditsstinger\"}, {\"id\": 189481, \"name\": \"evil mastermind\"}, {\"id\": 190999, \"name\": \"minions\"}, {\"id\": 209714, \"name\": \"3d\"}]"
           },
           {
            "count": 1,
            "name": "[{\"id\": 83, \"name\": \"saving the world\"}, {\"id\": 310, \"name\": \"artificial intelligence\"}, {\"id\": 494, \"name\": \"father son relationship\"}, {\"id\": 641, \"name\": \"single parent\"}, {\"id\": 1432, \"name\": \"nasa\"}, {\"id\": 1963, \"name\": \"expedition\"}, {\"id\": 3417, \"name\": \"wormhole\"}, {\"id\": 3801, \"name\": \"space travel\"}, {\"id\": 4337, \"name\": \"famine\"}, {\"id\": 4380, \"name\": \"black hole\"}, {\"id\": 4565, \"name\": \"dystopia\"}, {\"id\": 4776, \"name\": \"race against time\"}, {\"id\": 8056, \"name\": \"quantum mechanics\"}, {\"id\": 9831, \"name\": \"spaceship\"}, {\"id\": 9882, \"name\": \"space\"}, {\"id\": 10084, \"name\": \"rescue\"}, {\"id\": 10235, \"name\": \"family relationships\"}, {\"id\": 13127, \"name\": \"farmhouse\"}, {\"id\": 14544, \"name\": \"robot\"}, {\"id\": 14626, \"name\": \"astronaut\"}, {\"id\": 14760, \"name\": \"scientist\"}, {\"id\": 15300, \"name\": \"father daughter relationship\"}, {\"id\": 33479, \"name\": \"single father\"}, {\"id\": 154846, \"name\": \"farmer\"}, {\"id\": 156039, \"name\": \"space station\"}, {\"id\": 156395, \"name\": \"imax\"}, {\"id\": 160331, \"name\": \"astrophysics\"}, {\"id\": 162630, \"name\": \"zero gravity\"}, {\"id\": 189098, \"name\": \"courage\"}, {\"id\": 208757, \"name\": \"time paradox\"}, {\"id\": 214349, \"name\": \"relativity\"}]"
           },
           {
            "count": 1,
            "name": "[{\"id\": 2095, \"name\": \"anti hero\"}, {\"id\": 3070, \"name\": \"mercenary\"}, {\"id\": 8828, \"name\": \"marvel comic\"}, {\"id\": 9715, \"name\": \"superhero\"}, {\"id\": 9717, \"name\": \"based on comic book\"}, {\"id\": 11687, \"name\": \"breaking the fourth wall\"}, {\"id\": 179430, \"name\": \"aftercreditsstinger\"}, {\"id\": 179431, \"name\": \"duringcreditsstinger\"}, {\"id\": 223060, \"name\": \"self healing\"}]"
           }
          ],
          "nan_count": 0,
          "unique_count": 3
         }
        },
        {
         "dtype": "object",
         "name": "original_language",
         "stats": {
          "categories": [
           {
            "count": 3,
            "name": "en"
           }
          ],
          "nan_count": 0,
          "unique_count": 1
         }
        },
        {
         "dtype": "object",
         "name": "original_title",
         "stats": {
          "categories": [
           {
            "count": 1,
            "name": "Minions"
           },
           {
            "count": 1,
            "name": "Interstellar"
           },
           {
            "count": 1,
            "name": "Deadpool"
           }
          ],
          "nan_count": 0,
          "unique_count": 3
         }
        },
        {
         "dtype": "object",
         "name": "overview",
         "stats": {
          "categories": [
           {
            "count": 1,
            "name": "Minions Stuart, Kevin and Bob are recruited by Scarlet Overkill, a super-villain who, alongside her inventor husband Herb, hatches a plot to take over the world."
           },
           {
            "count": 1,
            "name": "A team of explorers travel through a wormhole in space in an attempt to ensure humanity's survival."
           },
           {
            "count": 1,
            "name": "Deadpool tells the origin story of former Special Forces operative turned mercenary Wade Wilson, who after being subjected to a rogue experiment that leaves him with accelerated healing powers, adopts the alter ego Deadpool. Armed with his new abilities and a dark, twisted sense of humor, Deadpool hunts down the man who nearly destroyed his life."
           }
          ],
          "nan_count": 0,
          "unique_count": 3
         }
        },
        {
         "dtype": "float64",
         "name": "popularity",
         "stats": {
          "histogram": [
           {
            "bin_end": 550.6710909000001,
            "bin_start": 514.569956,
            "count": 1
           },
           {
            "bin_end": 586.7722258,
            "bin_start": 550.6710909000001,
            "count": 0
           },
           {
            "bin_end": 622.8733607,
            "bin_start": 586.7722258,
            "count": 0
           },
           {
            "bin_end": 658.9744956000001,
            "bin_start": 622.8733607,
            "count": 0
           },
           {
            "bin_end": 695.0756305,
            "bin_start": 658.9744956000001,
            "count": 0
           },
           {
            "bin_end": 731.1767654,
            "bin_start": 695.0756305,
            "count": 1
           },
           {
            "bin_end": 767.2779003,
            "bin_start": 731.1767654,
            "count": 0
           },
           {
            "bin_end": 803.3790352000001,
            "bin_start": 767.2779003,
            "count": 0
           },
           {
            "bin_end": 839.4801701,
            "bin_start": 803.3790352000001,
            "count": 0
           },
           {
            "bin_end": 875.581305,
            "bin_start": 839.4801701,
            "count": 1
           }
          ],
          "max": "875.581305",
          "min": "514.569956",
          "nan_count": 0,
          "unique_count": 3
         }
        },
        {
         "dtype": "object",
         "name": "production_companies",
         "stats": {
          "categories": [
           {
            "count": 1,
            "name": "[{\"name\": \"Universal Pictures\", \"id\": 33}, {\"name\": \"Illumination Entertainment\", \"id\": 6704}]"
           },
           {
            "count": 1,
            "name": "[{\"name\": \"Paramount Pictures\", \"id\": 4}, {\"name\": \"Legendary Pictures\", \"id\": 923}, {\"name\": \"Warner Bros.\", \"id\": 6194}, {\"name\": \"Syncopy\", \"id\": 9996}, {\"name\": \"Lynda Obst Productions\", \"id\": 13769}]"
           },
           {
            "count": 1,
            "name": "[{\"name\": \"Twentieth Century Fox Film Corporation\", \"id\": 306}, {\"name\": \"Marvel Entertainment\", \"id\": 7505}, {\"name\": \"The Donners' Company\", \"id\": 11307}, {\"name\": \"TSG Entertainment\", \"id\": 22213}, {\"name\": \"Kinberg Genre\", \"id\": 78091}]"
           }
          ],
          "nan_count": 0,
          "unique_count": 3
         }
        },
        {
         "dtype": "object",
         "name": "production_countries",
         "stats": {
          "categories": [
           {
            "count": 2,
            "name": "[{\"iso_3166_1\": \"US\", \"name\": \"United States of America\"}]"
           },
           {
            "count": 1,
            "name": "[{\"iso_3166_1\": \"CA\", \"name\": \"Canada\"}, {\"iso_3166_1\": \"US\", \"name\": \"United States of America\"}, {\"iso_3166_1\": \"GB\", \"name\": \"United Kingdom\"}]"
           }
          ],
          "nan_count": 0,
          "unique_count": 2
         }
        },
        {
         "dtype": "object",
         "name": "release_date",
         "stats": {
          "categories": [
           {
            "count": 1,
            "name": "2015-06-17"
           },
           {
            "count": 1,
            "name": "2014-11-05"
           },
           {
            "count": 1,
            "name": "2016-02-09"
           }
          ],
          "nan_count": 0,
          "unique_count": 3
         }
        },
        {
         "dtype": "int64",
         "name": "revenue",
         "stats": {
          "histogram": [
           {
            "bin_end": 7.232811115E8,
            "bin_start": 675120017,
            "count": 1
           },
           {
            "bin_end": 771442206,
            "bin_start": 7.232811115E8,
            "count": 0
           },
           {
            "bin_end": 8.196033005E8,
            "bin_start": 771442206,
            "count": 1
           },
           {
            "bin_end": 867764395,
            "bin_start": 8.196033005E8,
            "count": 0
           },
           {
            "bin_end": 9.159254895E8,
            "bin_start": 867764395,
            "count": 0
           },
           {
            "bin_end": 964086584,
            "bin_start": 9.159254895E8,
            "count": 0
           },
           {
            "bin_end": 1.0122476785E9,
            "bin_start": 964086584,
            "count": 0
           },
           {
            "bin_end": 1060408773,
            "bin_start": 1.0122476785E9,
            "count": 0
           },
           {
            "bin_end": 1.1085698675E9,
            "bin_start": 1060408773,
            "count": 0
           },
           {
            "bin_end": 1156730962,
            "bin_start": 1.1085698675E9,
            "count": 1
           }
          ],
          "max": "1156730962",
          "min": "675120017",
          "nan_count": 0,
          "unique_count": 3
         }
        },
        {
         "dtype": "float64",
         "name": "runtime",
         "stats": {
          "histogram": [
           {
            "bin_end": 98.8,
            "bin_start": 91,
            "count": 1
           },
           {
            "bin_end": 106.6,
            "bin_start": 98.8,
            "count": 0
           },
           {
            "bin_end": 114.4,
            "bin_start": 106.6,
            "count": 1
           },
           {
            "bin_end": 122.2,
            "bin_start": 114.4,
            "count": 0
           },
           {
            "bin_end": 130,
            "bin_start": 122.2,
            "count": 0
           },
           {
            "bin_end": 137.8,
            "bin_start": 130,
            "count": 0
           },
           {
            "bin_end": 145.6,
            "bin_start": 137.8,
            "count": 0
           },
           {
            "bin_end": 153.4,
            "bin_start": 145.6,
            "count": 0
           },
           {
            "bin_end": 161.2,
            "bin_start": 153.4,
            "count": 0
           },
           {
            "bin_end": 169,
            "bin_start": 161.2,
            "count": 1
           }
          ],
          "max": "169.0",
          "min": "91.0",
          "nan_count": 0,
          "unique_count": 3
         }
        },
        {
         "dtype": "object",
         "name": "spoken_languages",
         "stats": {
          "categories": [
           {
            "count": 3,
            "name": "[{\"iso_639_1\": \"en\", \"name\": \"English\"}]"
           }
          ],
          "nan_count": 0,
          "unique_count": 1
         }
        },
        {
         "dtype": "object",
         "name": "status",
         "stats": {
          "categories": [
           {
            "count": 3,
            "name": "Released"
           }
          ],
          "nan_count": 0,
          "unique_count": 1
         }
        },
        {
         "dtype": "object",
         "name": "tagline",
         "stats": {
          "categories": [
           {
            "count": 1,
            "name": "Before Gru, they had a history of bad bosses"
           },
           {
            "count": 1,
            "name": "Mankind was born on Earth. It was never meant to die here."
           },
           {
            "count": 1,
            "name": "Witness the beginning of a happy ending"
           }
          ],
          "nan_count": 0,
          "unique_count": 3
         }
        },
        {
         "dtype": "object",
         "name": "title",
         "stats": {
          "categories": [
           {
            "count": 1,
            "name": "Minions"
           },
           {
            "count": 1,
            "name": "Interstellar"
           },
           {
            "count": 1,
            "name": "Deadpool"
           }
          ],
          "nan_count": 0,
          "unique_count": 3
         }
        },
        {
         "dtype": "float64",
         "name": "vote_average",
         "stats": {
          "histogram": [
           {
            "bin_end": 6.57,
            "bin_start": 6.4,
            "count": 1
           },
           {
            "bin_end": 6.74,
            "bin_start": 6.57,
            "count": 0
           },
           {
            "bin_end": 6.91,
            "bin_start": 6.74,
            "count": 0
           },
           {
            "bin_end": 7.08,
            "bin_start": 6.91,
            "count": 0
           },
           {
            "bin_end": 7.25,
            "bin_start": 7.08,
            "count": 0
           },
           {
            "bin_end": 7.42,
            "bin_start": 7.25,
            "count": 1
           },
           {
            "bin_end": 7.59,
            "bin_start": 7.42,
            "count": 0
           },
           {
            "bin_end": 7.76,
            "bin_start": 7.59,
            "count": 0
           },
           {
            "bin_end": 7.93,
            "bin_start": 7.76,
            "count": 0
           },
           {
            "bin_end": 8.1,
            "bin_start": 7.93,
            "count": 1
           }
          ],
          "max": "8.1",
          "min": "6.4",
          "nan_count": 0,
          "unique_count": 3
         }
        },
        {
         "dtype": "int64",
         "name": "vote_count",
         "stats": {
          "histogram": [
           {
            "bin_end": 5213.4,
            "bin_start": 4571,
            "count": 1
           },
           {
            "bin_end": 5855.8,
            "bin_start": 5213.4,
            "count": 0
           },
           {
            "bin_end": 6498.2,
            "bin_start": 5855.8,
            "count": 0
           },
           {
            "bin_end": 7140.6,
            "bin_start": 6498.2,
            "count": 0
           },
           {
            "bin_end": 7783,
            "bin_start": 7140.6,
            "count": 0
           },
           {
            "bin_end": 8425.4,
            "bin_start": 7783,
            "count": 0
           },
           {
            "bin_end": 9067.8,
            "bin_start": 8425.4,
            "count": 0
           },
           {
            "bin_end": 9710.2,
            "bin_start": 9067.8,
            "count": 0
           },
           {
            "bin_end": 10352.599999999999,
            "bin_start": 9710.2,
            "count": 0
           },
           {
            "bin_end": 10995,
            "bin_start": 10352.599999999999,
            "count": 2
           }
          ],
          "max": "10995",
          "min": "4571",
          "nan_count": 0,
          "unique_count": 3
         }
        },
        {
         "dtype": "int64",
         "name": "_deepnote_index_column"
        }
       ],
       "row_count": 3,
       "rows": [
        {
         "_deepnote_index_column": "546",
         "budget": "74000000",
         "genres": "[{\"id\": 10751, \"name\": \"Family\"}, {\"id\": 16, \"name\": \"Animation\"}, {\"id\": 12, \"name\": \"Adventure\"}, {\"id\": 35, \"name\": \"Comedy\"}]",
         "homepage": "http://www.minionsmovie.com/",
         "id": "211672",
         "keywords": "[{\"id\": 3487, \"name\": \"assistant\"}, {\"id\": 179430, \"name\": \"aftercreditsstinger\"}, {\"id\": 179431, \"name\": \"duringcreditsstinger\"}, {\"id\": 189481, \"name\": \"evil mastermind\"}, {\"id\": 190999, \"name\": \"minions\"}, {\"id\": 209714, \"name\": \"3d\"}]",
         "original_language": "en",
         "original_title": "Minions",
         "overview": "Minions Stuart, Kevin and Bob are recruited by Scarlet Overkill, a super-villain who, alongside her inventor husband Herb, hatches a plot to take over the world.",
         "popularity": "875.581305",
         "production_companies": "[{\"name\": \"Universal Pictures\", \"id\": 33}, {\"name\": \"Illumination Entertainment\", \"id\": 6704}]",
         "production_countries": "[{\"iso_3166_1\": \"US\", \"name\": \"United States of America\"}]",
         "release_date": "2015-06-17",
         "revenue": "1156730962",
         "runtime": "91.0",
         "spoken_languages": "[{\"iso_639_1\": \"en\", \"name\": \"English\"}]",
         "status": "Released",
         "tagline": "Before Gru, they had a history of bad bosses",
         "title": "Minions",
         "vote_average": "6.4",
         "vote_count": "4571"
        },
        {
         "_deepnote_index_column": "95",
         "budget": "165000000",
         "genres": "[{\"id\": 12, \"name\": \"Adventure\"}, {\"id\": 18, \"name\": \"Drama\"}, {\"id\": 878, \"name\": \"Science Fiction\"}]",
         "homepage": "http://www.interstellarmovie.net/",
         "id": "157336",
         "keywords": "[{\"id\": 83, \"name\": \"saving the world\"}, {\"id\": 310, \"name\": \"artificial intelligence\"}, {\"id\": 494, \"name\": \"father son relationship\"}, {\"id\": 641, \"name\": \"single parent\"}, {\"id\": 1432, \"name\": \"nasa\"}, {\"id\": 1963, \"name\": \"expedition\"}, {\"id\": 3417, \"name\": \"wormhole\"}, {\"id\": 3801, \"name\": \"space travel\"}, {\"id\": 4337, \"name\": \"famine\"}, {\"id\": 4380, \"name\": \"black hole\"}, {\"id\": 4565, \"name\": \"dystopia\"}, {\"id\": 4776, \"name\": \"race against time\"}, {\"id\": 8056, \"name\": \"quantum mechanics\"}, {\"id\": 9831, \"name\": \"spaceship\"}, {\"id\": 9882, \"name\": \"space\"}, {\"id\": 10084, \"name\": \"rescue\"}, {\"id\": 10235, \"name\": \"family relationships\"}, {\"id\": 13127, \"name\": \"farmhouse\"}, {\"id\": 14544, \"name\": \"robot\"}, {\"id\": 14626, \"name\": \"astronaut\"}, {\"id\": 14760, \"name\": \"scientist\"}, {\"id\": 15300, \"name\": \"father daughter relationship\"}, {\"id\": 33479, \"name\": \"single father\"}, {\"id\": 154846, \"name\": \"farmer\"}, {\"id\": 156039, \"name\": \"space station\"}, {\"id\": 156395, \"name\": \"imax\"}, {\"id\": 160…",
         "original_language": "en",
         "original_title": "Interstellar",
         "overview": "A team of explorers travel through a wormhole in space in an attempt to ensure humanity's survival.",
         "popularity": "724.247784",
         "production_companies": "[{\"name\": \"Paramount Pictures\", \"id\": 4}, {\"name\": \"Legendary Pictures\", \"id\": 923}, {\"name\": \"Warner Bros.\", \"id\": 6194}, {\"name\": \"Syncopy\", \"id\": 9996}, {\"name\": \"Lynda Obst Productions\", \"id\": 13769}]",
         "production_countries": "[{\"iso_3166_1\": \"CA\", \"name\": \"Canada\"}, {\"iso_3166_1\": \"US\", \"name\": \"United States of America\"}, {\"iso_3166_1\": \"GB\", \"name\": \"United Kingdom\"}]",
         "release_date": "2014-11-05",
         "revenue": "675120017",
         "runtime": "169.0",
         "spoken_languages": "[{\"iso_639_1\": \"en\", \"name\": \"English\"}]",
         "status": "Released",
         "tagline": "Mankind was born on Earth. It was never meant to die here.",
         "title": "Interstellar",
         "vote_average": "8.1",
         "vote_count": "10867"
        },
        {
         "_deepnote_index_column": "788",
         "budget": "58000000",
         "genres": "[{\"id\": 28, \"name\": \"Action\"}, {\"id\": 12, \"name\": \"Adventure\"}, {\"id\": 35, \"name\": \"Comedy\"}]",
         "homepage": "http://www.foxmovies.com/movies/deadpool",
         "id": "293660",
         "keywords": "[{\"id\": 2095, \"name\": \"anti hero\"}, {\"id\": 3070, \"name\": \"mercenary\"}, {\"id\": 8828, \"name\": \"marvel comic\"}, {\"id\": 9715, \"name\": \"superhero\"}, {\"id\": 9717, \"name\": \"based on comic book\"}, {\"id\": 11687, \"name\": \"breaking the fourth wall\"}, {\"id\": 179430, \"name\": \"aftercreditsstinger\"}, {\"id\": 179431, \"name\": \"duringcreditsstinger\"}, {\"id\": 223060, \"name\": \"self healing\"}]",
         "original_language": "en",
         "original_title": "Deadpool",
         "overview": "Deadpool tells the origin story of former Special Forces operative turned mercenary Wade Wilson, who after being subjected to a rogue experiment that leaves him with accelerated healing powers, adopts the alter ego Deadpool. Armed with his new abilities and a dark, twisted sense of humor, Deadpool hunts down the man who nearly destroyed his life.",
         "popularity": "514.569956",
         "production_companies": "[{\"name\": \"Twentieth Century Fox Film Corporation\", \"id\": 306}, {\"name\": \"Marvel Entertainment\", \"id\": 7505}, {\"name\": \"The Donners' Company\", \"id\": 11307}, {\"name\": \"TSG Entertainment\", \"id\": 22213}, {\"name\": \"Kinberg Genre\", \"id\": 78091}]",
         "production_countries": "[{\"iso_3166_1\": \"US\", \"name\": \"United States of America\"}]",
         "release_date": "2016-02-09",
         "revenue": "783112979",
         "runtime": "108.0",
         "spoken_languages": "[{\"iso_639_1\": \"en\", \"name\": \"English\"}]",
         "status": "Released",
         "tagline": "Witness the beginning of a happy ending",
         "title": "Deadpool",
         "vote_average": "7.4",
         "vote_count": "10995"
        }
       ]
      },
      "text/html": [
       "<div>\n",
       "<style scoped>\n",
       "    .dataframe tbody tr th:only-of-type {\n",
       "        vertical-align: middle;\n",
       "    }\n",
       "\n",
       "    .dataframe tbody tr th {\n",
       "        vertical-align: top;\n",
       "    }\n",
       "\n",
       "    .dataframe thead th {\n",
       "        text-align: right;\n",
       "    }\n",
       "</style>\n",
       "<table border=\"1\" class=\"dataframe\">\n",
       "  <thead>\n",
       "    <tr style=\"text-align: right;\">\n",
       "      <th></th>\n",
       "      <th>budget</th>\n",
       "      <th>genres</th>\n",
       "      <th>homepage</th>\n",
       "      <th>id</th>\n",
       "      <th>keywords</th>\n",
       "      <th>original_language</th>\n",
       "      <th>original_title</th>\n",
       "      <th>overview</th>\n",
       "      <th>popularity</th>\n",
       "      <th>production_companies</th>\n",
       "      <th>production_countries</th>\n",
       "      <th>release_date</th>\n",
       "      <th>revenue</th>\n",
       "      <th>runtime</th>\n",
       "      <th>spoken_languages</th>\n",
       "      <th>status</th>\n",
       "      <th>tagline</th>\n",
       "      <th>title</th>\n",
       "      <th>vote_average</th>\n",
       "      <th>vote_count</th>\n",
       "    </tr>\n",
       "  </thead>\n",
       "  <tbody>\n",
       "    <tr>\n",
       "      <th>546</th>\n",
       "      <td>74000000</td>\n",
       "      <td>[{\"id\": 10751, \"name\": \"Family\"}, {\"id\": 16, \"...</td>\n",
       "      <td>http://www.minionsmovie.com/</td>\n",
       "      <td>211672</td>\n",
       "      <td>[{\"id\": 3487, \"name\": \"assistant\"}, {\"id\": 179...</td>\n",
       "      <td>en</td>\n",
       "      <td>Minions</td>\n",
       "      <td>Minions Stuart, Kevin and Bob are recruited by...</td>\n",
       "      <td>875.581305</td>\n",
       "      <td>[{\"name\": \"Universal Pictures\", \"id\": 33}, {\"n...</td>\n",
       "      <td>[{\"iso_3166_1\": \"US\", \"name\": \"United States o...</td>\n",
       "      <td>2015-06-17</td>\n",
       "      <td>1156730962</td>\n",
       "      <td>91.0</td>\n",
       "      <td>[{\"iso_639_1\": \"en\", \"name\": \"English\"}]</td>\n",
       "      <td>Released</td>\n",
       "      <td>Before Gru, they had a history of bad bosses</td>\n",
       "      <td>Minions</td>\n",
       "      <td>6.4</td>\n",
       "      <td>4571</td>\n",
       "    </tr>\n",
       "    <tr>\n",
       "      <th>95</th>\n",
       "      <td>165000000</td>\n",
       "      <td>[{\"id\": 12, \"name\": \"Adventure\"}, {\"id\": 18, \"...</td>\n",
       "      <td>http://www.interstellarmovie.net/</td>\n",
       "      <td>157336</td>\n",
       "      <td>[{\"id\": 83, \"name\": \"saving the world\"}, {\"id\"...</td>\n",
       "      <td>en</td>\n",
       "      <td>Interstellar</td>\n",
       "      <td>A team of explorers travel through a wormhole ...</td>\n",
       "      <td>724.247784</td>\n",
       "      <td>[{\"name\": \"Paramount Pictures\", \"id\": 4}, {\"na...</td>\n",
       "      <td>[{\"iso_3166_1\": \"CA\", \"name\": \"Canada\"}, {\"iso...</td>\n",
       "      <td>2014-11-05</td>\n",
       "      <td>675120017</td>\n",
       "      <td>169.0</td>\n",
       "      <td>[{\"iso_639_1\": \"en\", \"name\": \"English\"}]</td>\n",
       "      <td>Released</td>\n",
       "      <td>Mankind was born on Earth. It was never meant ...</td>\n",
       "      <td>Interstellar</td>\n",
       "      <td>8.1</td>\n",
       "      <td>10867</td>\n",
       "    </tr>\n",
       "    <tr>\n",
       "      <th>788</th>\n",
       "      <td>58000000</td>\n",
       "      <td>[{\"id\": 28, \"name\": \"Action\"}, {\"id\": 12, \"nam...</td>\n",
       "      <td>http://www.foxmovies.com/movies/deadpool</td>\n",
       "      <td>293660</td>\n",
       "      <td>[{\"id\": 2095, \"name\": \"anti hero\"}, {\"id\": 307...</td>\n",
       "      <td>en</td>\n",
       "      <td>Deadpool</td>\n",
       "      <td>Deadpool tells the origin story of former Spec...</td>\n",
       "      <td>514.569956</td>\n",
       "      <td>[{\"name\": \"Twentieth Century Fox Film Corporat...</td>\n",
       "      <td>[{\"iso_3166_1\": \"US\", \"name\": \"United States o...</td>\n",
       "      <td>2016-02-09</td>\n",
       "      <td>783112979</td>\n",
       "      <td>108.0</td>\n",
       "      <td>[{\"iso_639_1\": \"en\", \"name\": \"English\"}]</td>\n",
       "      <td>Released</td>\n",
       "      <td>Witness the beginning of a happy ending</td>\n",
       "      <td>Deadpool</td>\n",
       "      <td>7.4</td>\n",
       "      <td>10995</td>\n",
       "    </tr>\n",
       "  </tbody>\n",
       "</table>\n",
       "</div>"
      ],
      "text/plain": [
       "        budget                                             genres  \\\n",
       "546   74000000  [{\"id\": 10751, \"name\": \"Family\"}, {\"id\": 16, \"...   \n",
       "95   165000000  [{\"id\": 12, \"name\": \"Adventure\"}, {\"id\": 18, \"...   \n",
       "788   58000000  [{\"id\": 28, \"name\": \"Action\"}, {\"id\": 12, \"nam...   \n",
       "\n",
       "                                     homepage      id  \\\n",
       "546              http://www.minionsmovie.com/  211672   \n",
       "95          http://www.interstellarmovie.net/  157336   \n",
       "788  http://www.foxmovies.com/movies/deadpool  293660   \n",
       "\n",
       "                                              keywords original_language  \\\n",
       "546  [{\"id\": 3487, \"name\": \"assistant\"}, {\"id\": 179...                en   \n",
       "95   [{\"id\": 83, \"name\": \"saving the world\"}, {\"id\"...                en   \n",
       "788  [{\"id\": 2095, \"name\": \"anti hero\"}, {\"id\": 307...                en   \n",
       "\n",
       "    original_title                                           overview  \\\n",
       "546        Minions  Minions Stuart, Kevin and Bob are recruited by...   \n",
       "95    Interstellar  A team of explorers travel through a wormhole ...   \n",
       "788       Deadpool  Deadpool tells the origin story of former Spec...   \n",
       "\n",
       "     popularity                               production_companies  \\\n",
       "546  875.581305  [{\"name\": \"Universal Pictures\", \"id\": 33}, {\"n...   \n",
       "95   724.247784  [{\"name\": \"Paramount Pictures\", \"id\": 4}, {\"na...   \n",
       "788  514.569956  [{\"name\": \"Twentieth Century Fox Film Corporat...   \n",
       "\n",
       "                                  production_countries release_date  \\\n",
       "546  [{\"iso_3166_1\": \"US\", \"name\": \"United States o...   2015-06-17   \n",
       "95   [{\"iso_3166_1\": \"CA\", \"name\": \"Canada\"}, {\"iso...   2014-11-05   \n",
       "788  [{\"iso_3166_1\": \"US\", \"name\": \"United States o...   2016-02-09   \n",
       "\n",
       "        revenue  runtime                          spoken_languages    status  \\\n",
       "546  1156730962     91.0  [{\"iso_639_1\": \"en\", \"name\": \"English\"}]  Released   \n",
       "95    675120017    169.0  [{\"iso_639_1\": \"en\", \"name\": \"English\"}]  Released   \n",
       "788   783112979    108.0  [{\"iso_639_1\": \"en\", \"name\": \"English\"}]  Released   \n",
       "\n",
       "                                               tagline         title  \\\n",
       "546       Before Gru, they had a history of bad bosses       Minions   \n",
       "95   Mankind was born on Earth. It was never meant ...  Interstellar   \n",
       "788            Witness the beginning of a happy ending      Deadpool   \n",
       "\n",
       "     vote_average  vote_count  \n",
       "546           6.4        4571  \n",
       "95            8.1       10867  \n",
       "788           7.4       10995  "
      ]
     },
     "execution_count": 11,
     "metadata": {},
     "output_type": "execute_result"
    }
   ],
   "source": [
    "# Top 3 movies based on popularity\n",
    "movies_df.sort_values(by='popularity', ascending=False).head(3)"
   ]
  },
  {
   "attachments": {},
   "cell_type": "markdown",
   "metadata": {
    "cell_id": "6e945c3baacd401fb2287b32ea928619",
    "deepnote_cell_type": "markdown"
   },
   "source": [
    "# Data Preperation"
   ]
  },
  {
   "attachments": {},
   "cell_type": "markdown",
   "metadata": {
    "cell_id": "3effdf0da6a14447952297589b6e5dca",
    "deepnote_cell_type": "markdown"
   },
   "source": [
    "#### Required Movies\n",
    "Before we start filtering the dataset, we decided to store the required movies in a variable so no matter what rating or popularity we filter the movies dataset to, those movies will be in the dataset."
   ]
  },
  {
   "cell_type": "code",
   "execution_count": 12,
   "metadata": {
    "cell_id": "3954fe702f9a42d897a28fdd12f9b614",
    "deepnote_cell_type": "code",
    "deepnote_to_be_reexecuted": false,
    "execution_millis": 7,
    "execution_start": 1683247648398,
    "source_hash": "d155eee4"
   },
   "outputs": [],
   "source": [
    "# Movies we need in the dataset no matter the rating or popularity\n",
    "req_movies = [\"The Dark Knight Rises\", \"Batman Begins\", \"Batman Returns\", \"Batman\", \"Batman Forever\", \"Prison\", \"Penitentiary\", \"1982\",\\\n",
    "\"Flying By\", \"Buffalo '66\", \"Aladdin\", \"Spirit: Stallion of the Cimarron\", \"Pocahontas\", \"The Legend of Hercules\", \"The Book of Life\"]"
   ]
  },
  {
   "attachments": {},
   "cell_type": "markdown",
   "metadata": {
    "cell_id": "9c477bd582bc4532952d45ba675423c7",
    "deepnote_cell_type": "markdown"
   },
   "source": [
    "## Threshold\n",
    "We can create a threshold based on popularity, vote average, vote count, and language to filter the dataset down to less rows. This will allow the model to predict for better results, and help us during the ML processes."
   ]
  },
  {
   "cell_type": "code",
   "execution_count": 13,
   "metadata": {
    "cell_id": "094b786257de47a7ba242dd2958e14b4",
    "deepnote_cell_type": "code",
    "deepnote_to_be_reexecuted": false,
    "execution_millis": 55,
    "execution_start": 1683247648445,
    "source_hash": "c72c4fe5"
   },
   "outputs": [
    {
     "data": {
      "application/vnd.deepnote.dataframe.v3+json": {
       "column_count": 20,
       "columns": [
        {
         "dtype": "int64",
         "name": "budget",
         "stats": {
          "histogram": [
           {
            "bin_end": 14300000,
            "bin_start": 11000000,
            "count": 1
           },
           {
            "bin_end": 17600000,
            "bin_start": 14300000,
            "count": 0
           },
           {
            "bin_end": 20900000,
            "bin_start": 17600000,
            "count": 0
           },
           {
            "bin_end": 24200000,
            "bin_start": 20900000,
            "count": 0
           },
           {
            "bin_end": 27500000,
            "bin_start": 24200000,
            "count": 0
           },
           {
            "bin_end": 30800000,
            "bin_start": 27500000,
            "count": 0
           },
           {
            "bin_end": 34100000,
            "bin_start": 30800000,
            "count": 0
           },
           {
            "bin_end": 37400000,
            "bin_start": 34100000,
            "count": 0
           },
           {
            "bin_end": 40700000,
            "bin_start": 37400000,
            "count": 0
           },
           {
            "bin_end": 44000000,
            "bin_start": 40700000,
            "count": 1
           }
          ],
          "max": "44000000",
          "min": "11000000",
          "nan_count": 0,
          "unique_count": 2
         }
        },
        {
         "dtype": "object",
         "name": "genres",
         "stats": {
          "categories": [
           {
            "count": 1,
            "name": "[{\"id\": 28, \"name\": \"Action\"}, {\"id\": 12, \"name\": \"Adventure\"}, {\"id\": 10749, \"name\": \"Romance\"}, {\"id\": 878, \"name\": \"Science Fiction\"}, {\"id\": 53, \"name\": \"Thriller\"}]"
           },
           {
            "count": 1,
            "name": "[{\"id\": 27, \"name\": \"Horror\"}, {\"id\": 18, \"name\": \"Drama\"}, {\"id\": 878, \"name\": \"Science Fiction\"}]"
           }
          ],
          "nan_count": 0,
          "unique_count": 2
         }
        },
        {
         "dtype": "object",
         "name": "homepage",
         "stats": {
          "categories": [
           {
            "count": 1,
            "name": "http://www.hostmovie.com/"
           },
           {
            "count": 1,
            "name": "Missing"
           }
          ],
          "nan_count": 1,
          "unique_count": 1
         }
        },
        {
         "dtype": "int64",
         "name": "id",
         "stats": {
          "histogram": [
           {
            "bin_end": 8400.5,
            "bin_start": 1255,
            "count": 1
           },
           {
            "bin_end": 15546,
            "bin_start": 8400.5,
            "count": 0
           },
           {
            "bin_end": 22691.5,
            "bin_start": 15546,
            "count": 0
           },
           {
            "bin_end": 29837,
            "bin_start": 22691.5,
            "count": 0
           },
           {
            "bin_end": 36982.5,
            "bin_start": 29837,
            "count": 0
           },
           {
            "bin_end": 44128,
            "bin_start": 36982.5,
            "count": 0
           },
           {
            "bin_end": 51273.5,
            "bin_start": 44128,
            "count": 0
           },
           {
            "bin_end": 58419,
            "bin_start": 51273.5,
            "count": 0
           },
           {
            "bin_end": 65564.5,
            "bin_start": 58419,
            "count": 0
           },
           {
            "bin_end": 72710,
            "bin_start": 65564.5,
            "count": 1
           }
          ],
          "max": "72710",
          "min": "1255",
          "nan_count": 0,
          "unique_count": 2
         }
        },
        {
         "dtype": "object",
         "name": "keywords",
         "stats": {
          "categories": [
           {
            "count": 1,
            "name": "[{\"id\": 818, \"name\": \"based on novel\"}, {\"id\": 1583, \"name\": \"mass murder\"}, {\"id\": 4565, \"name\": \"dystopia\"}, {\"id\": 14900, \"name\": \"genocide\"}, {\"id\": 14909, \"name\": \"alien invasion\"}, {\"id\": 179431, \"name\": \"duringcreditsstinger\"}, {\"id\": 212760, \"name\": \"interspecies romance\"}, {\"id\": 220392, \"name\": \"alien parasites\"}]"
           },
           {
            "count": 1,
            "name": "[{\"id\": 1261, \"name\": \"river\"}, {\"id\": 1880, \"name\": \"mobile phone\"}, {\"id\": 3930, \"name\": \"bravery\"}, {\"id\": 4393, \"name\": \"archer\"}, {\"id\": 5600, \"name\": \"daughter\"}, {\"id\": 6304, \"name\": \"sewerage\"}, {\"id\": 6305, \"name\": \"pollution\"}, {\"id\": 6617, \"name\": \"formaldehyde\"}, {\"id\": 6618, \"name\": \"snack bar\"}, {\"id\": 18035, \"name\": \"family\"}]"
           }
          ],
          "nan_count": 0,
          "unique_count": 2
         }
        },
        {
         "dtype": "object",
         "name": "original_language",
         "stats": {
          "categories": [
           {
            "count": 1,
            "name": "en"
           },
           {
            "count": 1,
            "name": "ko"
           }
          ],
          "nan_count": 0,
          "unique_count": 2
         }
        },
        {
         "dtype": "object",
         "name": "original_title",
         "stats": {
          "categories": [
           {
            "count": 1,
            "name": "The Host"
           },
           {
            "count": 1,
            "name": "괴물"
           }
          ],
          "nan_count": 0,
          "unique_count": 2
         }
        },
        {
         "dtype": "object",
         "name": "overview",
         "stats": {
          "categories": [
           {
            "count": 1,
            "name": "A parasitic alien soul is injected into the body of Melanie Stryder. Instead of carrying out her race's mission of taking over the Earth, \"Wanda\" (as she comes to be called) forms a bond with her host and sets out to aid other free humans."
           },
           {
            "count": 1,
            "name": "Gang-du is a dim-witted man working at his father's tiny snack bar near the Han River. One day, Gang-du's one and only daughter Hyun-seo comes back from school irritated. She is angry at her uncle, Nam-il, who visited her school as her guardian shamelessly drunk. Ignoring her father's excuses for Nam-il, Hyun-seo is soon engrossed in her aunt Nam-joo's archery tournament on TV. Meanwhile, outside of the snack bar, people are fascinated by an unidentified object hanging onto a bridge. In an instant, the object reveals itself as a terrifying creature turning the riverbank into a gruesome sea of blood¡¦ Amid the chaos, Hyun-seo is helplessly snatched up by the creature right before Gang-du's eyes. These unforeseen circumstances render the government powerless to act. But receiving a call of help from Hyun-seo, the once-ordinary citizen Gang-du and his family are thrust into a battle with the monster to rescue their beloved Hyun-seo."
           }
          ],
          "nan_count": 0,
          "unique_count": 2
         }
        },
        {
         "dtype": "float64",
         "name": "popularity",
         "stats": {
          "histogram": [
           {
            "bin_end": 29.1830457,
            "bin_start": 27.65527,
            "count": 1
           },
           {
            "bin_end": 30.7108214,
            "bin_start": 29.1830457,
            "count": 0
           },
           {
            "bin_end": 32.2385971,
            "bin_start": 30.7108214,
            "count": 0
           },
           {
            "bin_end": 33.7663728,
            "bin_start": 32.2385971,
            "count": 0
           },
           {
            "bin_end": 35.294148500000006,
            "bin_start": 33.7663728,
            "count": 0
           },
           {
            "bin_end": 36.8219242,
            "bin_start": 35.294148500000006,
            "count": 0
           },
           {
            "bin_end": 38.349699900000005,
            "bin_start": 36.8219242,
            "count": 0
           },
           {
            "bin_end": 39.877475600000004,
            "bin_start": 38.349699900000005,
            "count": 0
           },
           {
            "bin_end": 41.4052513,
            "bin_start": 39.877475600000004,
            "count": 0
           },
           {
            "bin_end": 42.933027,
            "bin_start": 41.4052513,
            "count": 1
           }
          ],
          "max": "42.933027",
          "min": "27.65527",
          "nan_count": 0,
          "unique_count": 2
         }
        },
        {
         "dtype": "object",
         "name": "production_companies",
         "stats": {
          "categories": [
           {
            "count": 1,
            "name": "[{\"name\": \"Nick Wechsler Productions\", \"id\": 8073}, {\"name\": \"Open Road Films\", \"id\": 10427}, {\"name\": \"Silver Reel\", \"id\": 12075}, {\"name\": \"Chockstone Pictures\", \"id\": 13649}]"
           },
           {
            "count": 1,
            "name": "[{\"name\": \"Cineclick Asia\", \"id\": 685}, {\"name\": \"Happinet Pictures\", \"id\": 822}, {\"name\": \"Cheongeoram\", \"id\": 945}, {\"name\": \"CJ Capital Investment\", \"id\": 946}]"
           }
          ],
          "nan_count": 0,
          "unique_count": 2
         }
        },
        {
         "dtype": "object",
         "name": "production_countries",
         "stats": {
          "categories": [
           {
            "count": 1,
            "name": "[{\"iso_3166_1\": \"US\", \"name\": \"United States of America\"}]"
           },
           {
            "count": 1,
            "name": "[{\"iso_3166_1\": \"KR\", \"name\": \"South Korea\"}]"
           }
          ],
          "nan_count": 0,
          "unique_count": 2
         }
        },
        {
         "dtype": "object",
         "name": "release_date",
         "stats": {
          "categories": [
           {
            "count": 1,
            "name": "2013-03-22"
           },
           {
            "count": 1,
            "name": "2006-07-27"
           }
          ],
          "nan_count": 0,
          "unique_count": 2
         }
        },
        {
         "dtype": "int64",
         "name": "revenue",
         "stats": {
          "histogram": [
           {
            "bin_end": 6.58434452E7,
            "bin_start": 63327201,
            "count": 1
           },
           {
            "bin_end": 6.83596894E7,
            "bin_start": 6.58434452E7,
            "count": 0
           },
           {
            "bin_end": 7.08759336E7,
            "bin_start": 6.83596894E7,
            "count": 0
           },
           {
            "bin_end": 7.33921778E7,
            "bin_start": 7.08759336E7,
            "count": 0
           },
           {
            "bin_end": 75908422,
            "bin_start": 7.33921778E7,
            "count": 0
           },
           {
            "bin_end": 7.84246662E7,
            "bin_start": 75908422,
            "count": 0
           },
           {
            "bin_end": 8.09409104E7,
            "bin_start": 7.84246662E7,
            "count": 0
           },
           {
            "bin_end": 8.34571546E7,
            "bin_start": 8.09409104E7,
            "count": 0
           },
           {
            "bin_end": 8.59733988E7,
            "bin_start": 8.34571546E7,
            "count": 0
           },
           {
            "bin_end": 88489643,
            "bin_start": 8.59733988E7,
            "count": 1
           }
          ],
          "max": "88489643",
          "min": "63327201",
          "nan_count": 0,
          "unique_count": 2
         }
        },
        {
         "dtype": "float64",
         "name": "runtime",
         "stats": {
          "histogram": [
           {
            "bin_end": 119.6,
            "bin_start": 119,
            "count": 1
           },
           {
            "bin_end": 120.2,
            "bin_start": 119.6,
            "count": 0
           },
           {
            "bin_end": 120.8,
            "bin_start": 120.2,
            "count": 0
           },
           {
            "bin_end": 121.4,
            "bin_start": 120.8,
            "count": 0
           },
           {
            "bin_end": 122,
            "bin_start": 121.4,
            "count": 0
           },
           {
            "bin_end": 122.6,
            "bin_start": 122,
            "count": 0
           },
           {
            "bin_end": 123.2,
            "bin_start": 122.6,
            "count": 0
           },
           {
            "bin_end": 123.8,
            "bin_start": 123.2,
            "count": 0
           },
           {
            "bin_end": 124.4,
            "bin_start": 123.8,
            "count": 0
           },
           {
            "bin_end": 125,
            "bin_start": 124.4,
            "count": 1
           }
          ],
          "max": "125.0",
          "min": "119.0",
          "nan_count": 0,
          "unique_count": 2
         }
        },
        {
         "dtype": "object",
         "name": "spoken_languages",
         "stats": {
          "categories": [
           {
            "count": 1,
            "name": "[{\"iso_639_1\": \"en\", \"name\": \"English\"}]"
           },
           {
            "count": 1,
            "name": "[{\"iso_639_1\": \"ko\", \"name\": \"\\ud55c\\uad6d\\uc5b4/\\uc870\\uc120\\ub9d0\"}]"
           }
          ],
          "nan_count": 0,
          "unique_count": 2
         }
        },
        {
         "dtype": "object",
         "name": "status",
         "stats": {
          "categories": [
           {
            "count": 2,
            "name": "Released"
           }
          ],
          "nan_count": 0,
          "unique_count": 1
         }
        },
        {
         "dtype": "object",
         "name": "tagline",
         "stats": {
          "categories": [
           {
            "count": 1,
            "name": "You will be one of us"
           },
           {
            "count": 1,
            "name": "Monsters are real."
           }
          ],
          "nan_count": 0,
          "unique_count": 2
         }
        },
        {
         "dtype": "object",
         "name": "title",
         "stats": {
          "categories": [
           {
            "count": 2,
            "name": "The Host"
           }
          ],
          "nan_count": 0,
          "unique_count": 1
         }
        },
        {
         "dtype": "float64",
         "name": "vote_average",
         "stats": {
          "histogram": [
           {
            "bin_end": 6.07,
            "bin_start": 6,
            "count": 1
           },
           {
            "bin_end": 6.14,
            "bin_start": 6.07,
            "count": 0
           },
           {
            "bin_end": 6.21,
            "bin_start": 6.14,
            "count": 0
           },
           {
            "bin_end": 6.28,
            "bin_start": 6.21,
            "count": 0
           },
           {
            "bin_end": 6.35,
            "bin_start": 6.28,
            "count": 0
           },
           {
            "bin_end": 6.42,
            "bin_start": 6.35,
            "count": 0
           },
           {
            "bin_end": 6.49,
            "bin_start": 6.42,
            "count": 0
           },
           {
            "bin_end": 6.5600000000000005,
            "bin_start": 6.49,
            "count": 0
           },
           {
            "bin_end": 6.63,
            "bin_start": 6.5600000000000005,
            "count": 0
           },
           {
            "bin_end": 6.7,
            "bin_start": 6.63,
            "count": 1
           }
          ],
          "max": "6.7",
          "min": "6.0",
          "nan_count": 0,
          "unique_count": 2
         }
        },
        {
         "dtype": "int64",
         "name": "vote_count",
         "stats": {
          "histogram": [
           {
            "bin_end": 665,
            "bin_start": 537,
            "count": 1
           },
           {
            "bin_end": 793,
            "bin_start": 665,
            "count": 0
           },
           {
            "bin_end": 921,
            "bin_start": 793,
            "count": 0
           },
           {
            "bin_end": 1049,
            "bin_start": 921,
            "count": 0
           },
           {
            "bin_end": 1177,
            "bin_start": 1049,
            "count": 0
           },
           {
            "bin_end": 1305,
            "bin_start": 1177,
            "count": 0
           },
           {
            "bin_end": 1433,
            "bin_start": 1305,
            "count": 0
           },
           {
            "bin_end": 1561,
            "bin_start": 1433,
            "count": 0
           },
           {
            "bin_end": 1689,
            "bin_start": 1561,
            "count": 0
           },
           {
            "bin_end": 1817,
            "bin_start": 1689,
            "count": 1
           }
          ],
          "max": "1817",
          "min": "537",
          "nan_count": 0,
          "unique_count": 2
         }
        },
        {
         "dtype": "int64",
         "name": "_deepnote_index_column"
        }
       ],
       "row_count": 2,
       "rows": [
        {
         "_deepnote_index_column": "972",
         "budget": "44000000",
         "genres": "[{\"id\": 28, \"name\": \"Action\"}, {\"id\": 12, \"name\": \"Adventure\"}, {\"id\": 10749, \"name\": \"Romance\"}, {\"id\": 878, \"name\": \"Science Fiction\"}, {\"id\": 53, \"name\": \"Thriller\"}]",
         "homepage": "nan",
         "id": "72710",
         "keywords": "[{\"id\": 818, \"name\": \"based on novel\"}, {\"id\": 1583, \"name\": \"mass murder\"}, {\"id\": 4565, \"name\": \"dystopia\"}, {\"id\": 14900, \"name\": \"genocide\"}, {\"id\": 14909, \"name\": \"alien invasion\"}, {\"id\": 179431, \"name\": \"duringcreditsstinger\"}, {\"id\": 212760, \"name\": \"interspecies romance\"}, {\"id\": 220392, \"name\": \"alien parasites\"}]",
         "original_language": "en",
         "original_title": "The Host",
         "overview": "A parasitic alien soul is injected into the body of Melanie Stryder. Instead of carrying out her race's mission of taking over the Earth, \"Wanda\" (as she comes to be called) forms a bond with her host and sets out to aid other free humans.",
         "popularity": "42.933027",
         "production_companies": "[{\"name\": \"Nick Wechsler Productions\", \"id\": 8073}, {\"name\": \"Open Road Films\", \"id\": 10427}, {\"name\": \"Silver Reel\", \"id\": 12075}, {\"name\": \"Chockstone Pictures\", \"id\": 13649}]",
         "production_countries": "[{\"iso_3166_1\": \"US\", \"name\": \"United States of America\"}]",
         "release_date": "2013-03-22",
         "revenue": "63327201",
         "runtime": "125.0",
         "spoken_languages": "[{\"iso_639_1\": \"en\", \"name\": \"English\"}]",
         "status": "Released",
         "tagline": "You will be one of us",
         "title": "The Host",
         "vote_average": "6.0",
         "vote_count": "1817"
        },
        {
         "_deepnote_index_column": "2877",
         "budget": "11000000",
         "genres": "[{\"id\": 27, \"name\": \"Horror\"}, {\"id\": 18, \"name\": \"Drama\"}, {\"id\": 878, \"name\": \"Science Fiction\"}]",
         "homepage": "http://www.hostmovie.com/",
         "id": "1255",
         "keywords": "[{\"id\": 1261, \"name\": \"river\"}, {\"id\": 1880, \"name\": \"mobile phone\"}, {\"id\": 3930, \"name\": \"bravery\"}, {\"id\": 4393, \"name\": \"archer\"}, {\"id\": 5600, \"name\": \"daughter\"}, {\"id\": 6304, \"name\": \"sewerage\"}, {\"id\": 6305, \"name\": \"pollution\"}, {\"id\": 6617, \"name\": \"formaldehyde\"}, {\"id\": 6618, \"name\": \"snack bar\"}, {\"id\": 18035, \"name\": \"family\"}]",
         "original_language": "ko",
         "original_title": "괴물",
         "overview": "Gang-du is a dim-witted man working at his father's tiny snack bar near the Han River. One day, Gang-du's one and only daughter Hyun-seo comes back from school irritated. She is angry at her uncle, Nam-il, who visited her school as her guardian shamelessly drunk. Ignoring her father's excuses for Nam-il, Hyun-seo is soon engrossed in her aunt Nam-joo's archery tournament on TV. Meanwhile, outside of the snack bar, people are fascinated by an unidentified object hanging onto a bridge. In an instant, the object reveals itself as a terrifying creature turning the riverbank into a gruesome sea of blood¡¦ Amid the chaos, Hyun-seo is helplessly snatched up by the creature right before Gang-du's eyes. These unforeseen circumstances render the government powerless to act. But receiving a call of help from Hyun-seo, the once-ordinary citizen Gang-du and his family are thrust into a battle with the monster to rescue their beloved Hyun-seo.",
         "popularity": "27.65527",
         "production_companies": "[{\"name\": \"Cineclick Asia\", \"id\": 685}, {\"name\": \"Happinet Pictures\", \"id\": 822}, {\"name\": \"Cheongeoram\", \"id\": 945}, {\"name\": \"CJ Capital Investment\", \"id\": 946}]",
         "production_countries": "[{\"iso_3166_1\": \"KR\", \"name\": \"South Korea\"}]",
         "release_date": "2006-07-27",
         "revenue": "88489643",
         "runtime": "119.0",
         "spoken_languages": "[{\"iso_639_1\": \"ko\", \"name\": \"\\ud55c\\uad6d\\uc5b4/\\uc870\\uc120\\ub9d0\"}]",
         "status": "Released",
         "tagline": "Monsters are real.",
         "title": "The Host",
         "vote_average": "6.7",
         "vote_count": "537"
        }
       ]
      },
      "text/html": [
       "<div>\n",
       "<style scoped>\n",
       "    .dataframe tbody tr th:only-of-type {\n",
       "        vertical-align: middle;\n",
       "    }\n",
       "\n",
       "    .dataframe tbody tr th {\n",
       "        vertical-align: top;\n",
       "    }\n",
       "\n",
       "    .dataframe thead th {\n",
       "        text-align: right;\n",
       "    }\n",
       "</style>\n",
       "<table border=\"1\" class=\"dataframe\">\n",
       "  <thead>\n",
       "    <tr style=\"text-align: right;\">\n",
       "      <th></th>\n",
       "      <th>budget</th>\n",
       "      <th>genres</th>\n",
       "      <th>homepage</th>\n",
       "      <th>id</th>\n",
       "      <th>keywords</th>\n",
       "      <th>original_language</th>\n",
       "      <th>original_title</th>\n",
       "      <th>overview</th>\n",
       "      <th>popularity</th>\n",
       "      <th>production_companies</th>\n",
       "      <th>production_countries</th>\n",
       "      <th>release_date</th>\n",
       "      <th>revenue</th>\n",
       "      <th>runtime</th>\n",
       "      <th>spoken_languages</th>\n",
       "      <th>status</th>\n",
       "      <th>tagline</th>\n",
       "      <th>title</th>\n",
       "      <th>vote_average</th>\n",
       "      <th>vote_count</th>\n",
       "    </tr>\n",
       "  </thead>\n",
       "  <tbody>\n",
       "    <tr>\n",
       "      <th>972</th>\n",
       "      <td>44000000</td>\n",
       "      <td>[{\"id\": 28, \"name\": \"Action\"}, {\"id\": 12, \"nam...</td>\n",
       "      <td>NaN</td>\n",
       "      <td>72710</td>\n",
       "      <td>[{\"id\": 818, \"name\": \"based on novel\"}, {\"id\":...</td>\n",
       "      <td>en</td>\n",
       "      <td>The Host</td>\n",
       "      <td>A parasitic alien soul is injected into the bo...</td>\n",
       "      <td>42.933027</td>\n",
       "      <td>[{\"name\": \"Nick Wechsler Productions\", \"id\": 8...</td>\n",
       "      <td>[{\"iso_3166_1\": \"US\", \"name\": \"United States o...</td>\n",
       "      <td>2013-03-22</td>\n",
       "      <td>63327201</td>\n",
       "      <td>125.0</td>\n",
       "      <td>[{\"iso_639_1\": \"en\", \"name\": \"English\"}]</td>\n",
       "      <td>Released</td>\n",
       "      <td>You will be one of us</td>\n",
       "      <td>The Host</td>\n",
       "      <td>6.0</td>\n",
       "      <td>1817</td>\n",
       "    </tr>\n",
       "    <tr>\n",
       "      <th>2877</th>\n",
       "      <td>11000000</td>\n",
       "      <td>[{\"id\": 27, \"name\": \"Horror\"}, {\"id\": 18, \"nam...</td>\n",
       "      <td>http://www.hostmovie.com/</td>\n",
       "      <td>1255</td>\n",
       "      <td>[{\"id\": 1261, \"name\": \"river\"}, {\"id\": 1880, \"...</td>\n",
       "      <td>ko</td>\n",
       "      <td>괴물</td>\n",
       "      <td>Gang-du is a dim-witted man working at his fat...</td>\n",
       "      <td>27.655270</td>\n",
       "      <td>[{\"name\": \"Cineclick Asia\", \"id\": 685}, {\"name...</td>\n",
       "      <td>[{\"iso_3166_1\": \"KR\", \"name\": \"South Korea\"}]</td>\n",
       "      <td>2006-07-27</td>\n",
       "      <td>88489643</td>\n",
       "      <td>119.0</td>\n",
       "      <td>[{\"iso_639_1\": \"ko\", \"name\": \"\\ud55c\\uad6d\\uc5...</td>\n",
       "      <td>Released</td>\n",
       "      <td>Monsters are real.</td>\n",
       "      <td>The Host</td>\n",
       "      <td>6.7</td>\n",
       "      <td>537</td>\n",
       "    </tr>\n",
       "  </tbody>\n",
       "</table>\n",
       "</div>"
      ],
      "text/plain": [
       "        budget                                             genres  \\\n",
       "972   44000000  [{\"id\": 28, \"name\": \"Action\"}, {\"id\": 12, \"nam...   \n",
       "2877  11000000  [{\"id\": 27, \"name\": \"Horror\"}, {\"id\": 18, \"nam...   \n",
       "\n",
       "                       homepage     id  \\\n",
       "972                         NaN  72710   \n",
       "2877  http://www.hostmovie.com/   1255   \n",
       "\n",
       "                                               keywords original_language  \\\n",
       "972   [{\"id\": 818, \"name\": \"based on novel\"}, {\"id\":...                en   \n",
       "2877  [{\"id\": 1261, \"name\": \"river\"}, {\"id\": 1880, \"...                ko   \n",
       "\n",
       "     original_title                                           overview  \\\n",
       "972        The Host  A parasitic alien soul is injected into the bo...   \n",
       "2877             괴물  Gang-du is a dim-witted man working at his fat...   \n",
       "\n",
       "      popularity                               production_companies  \\\n",
       "972    42.933027  [{\"name\": \"Nick Wechsler Productions\", \"id\": 8...   \n",
       "2877   27.655270  [{\"name\": \"Cineclick Asia\", \"id\": 685}, {\"name...   \n",
       "\n",
       "                                   production_countries release_date  \\\n",
       "972   [{\"iso_3166_1\": \"US\", \"name\": \"United States o...   2013-03-22   \n",
       "2877      [{\"iso_3166_1\": \"KR\", \"name\": \"South Korea\"}]   2006-07-27   \n",
       "\n",
       "       revenue  runtime                                   spoken_languages  \\\n",
       "972   63327201    125.0           [{\"iso_639_1\": \"en\", \"name\": \"English\"}]   \n",
       "2877  88489643    119.0  [{\"iso_639_1\": \"ko\", \"name\": \"\\ud55c\\uad6d\\uc5...   \n",
       "\n",
       "        status                tagline     title  vote_average  vote_count  \n",
       "972   Released  You will be one of us  The Host           6.0        1817  \n",
       "2877  Released     Monsters are real.  The Host           6.7         537  "
      ]
     },
     "execution_count": 13,
     "metadata": {},
     "output_type": "execute_result"
    }
   ],
   "source": [
    "# For example, the original_language is ko\n",
    "movies_df[movies_df['title']=='The Host']"
   ]
  },
  {
   "attachments": {},
   "cell_type": "markdown",
   "metadata": {
    "cell_id": "48588b59a680477286c2a1282b4844f2",
    "deepnote_cell_type": "markdown"
   },
   "source": [
    "### Original Language"
   ]
  },
  {
   "cell_type": "code",
   "execution_count": 14,
   "metadata": {
    "cell_id": "2b3ef95914184a65a8f5c7eeaf3971eb",
    "deepnote_cell_type": "code",
    "deepnote_to_be_reexecuted": false,
    "execution_millis": 4,
    "execution_start": 1683247648504,
    "source_hash": "1e52bc4e"
   },
   "outputs": [
    {
     "data": {
      "text/plain": [
       "en    4505\n",
       "fr      70\n",
       "es      32\n",
       "zh      27\n",
       "de      27\n",
       "hi      19\n",
       "ja      16\n",
       "it      14\n",
       "cn      12\n",
       "ru      11\n",
       "Name: original_language, dtype: int64"
      ]
     },
     "execution_count": 14,
     "metadata": {},
     "output_type": "execute_result"
    }
   ],
   "source": [
    "# Checking to see the total count of languages in the dataset (Top 10)\n",
    "movies_df.original_language.value_counts()[:10]"
   ]
  },
  {
   "cell_type": "code",
   "execution_count": 15,
   "metadata": {
    "cell_id": "93a61fb23791469695b7efcf5fecbe52",
    "deepnote_cell_type": "code",
    "deepnote_to_be_reexecuted": false,
    "execution_millis": 9,
    "execution_start": 1683247648511,
    "source_hash": "3c3e455c"
   },
   "outputs": [],
   "source": [
    "# Filtering to only English movies\n",
    "movies_df = movies_df.loc[movies_df.original_language=='en']"
   ]
  },
  {
   "cell_type": "code",
   "execution_count": 16,
   "metadata": {
    "cell_id": "10a151a4c4f940d1beda624e433caa6d",
    "deepnote_cell_type": "code",
    "deepnote_to_be_reexecuted": false,
    "execution_millis": 4,
    "execution_start": 1683247648519,
    "source_hash": "cebf32e5"
   },
   "outputs": [
    {
     "data": {
      "text/plain": [
       "en    4505\n",
       "Name: original_language, dtype: int64"
      ]
     },
     "execution_count": 16,
     "metadata": {},
     "output_type": "execute_result"
    }
   ],
   "source": [
    "# Dataset now contains only movies that are English\n",
    "movies_df.original_language.value_counts()"
   ]
  },
  {
   "attachments": {},
   "cell_type": "markdown",
   "metadata": {
    "cell_id": "d8d511556c714f4cb5491d2f82c5bcad",
    "deepnote_cell_type": "markdown"
   },
   "source": [
    "### Popularity"
   ]
  },
  {
   "cell_type": "code",
   "execution_count": 17,
   "metadata": {
    "cell_id": "1e6b66dc502f4369a79c77c9ab025ff0",
    "deepnote_cell_type": "code",
    "deepnote_to_be_reexecuted": false,
    "execution_millis": 44,
    "execution_start": 1683247648524,
    "source_hash": "2faefd8e"
   },
   "outputs": [
    {
     "data": {
      "text/plain": [
       "count    4505.000000\n",
       "mean       22.177435\n",
       "std        32.512782\n",
       "min         0.000000\n",
       "25%         5.000500\n",
       "50%        13.668633\n",
       "75%        29.253833\n",
       "max       875.581305\n",
       "Name: popularity, dtype: float64"
      ]
     },
     "execution_count": 17,
     "metadata": {},
     "output_type": "execute_result"
    }
   ],
   "source": [
    "# The distribution of popularity in the dataset before filtering\n",
    "movies_df.popularity.describe()"
   ]
  },
  {
   "cell_type": "code",
   "execution_count": 18,
   "metadata": {
    "cell_id": "05b297d4230c4771927af6cb68d92b8e",
    "deepnote_cell_type": "code",
    "deepnote_to_be_reexecuted": false,
    "execution_millis": 234,
    "execution_start": 1683247648617,
    "source_hash": "9815ffe0"
   },
   "outputs": [
    {
     "data": {
      "image/png": "[encoded data removed]",
      "text/plain": [
       "<Figure size 2500x500 with 1 Axes>"
      ]
     },
     "metadata": {
      "image/png": {
       "height": 448,
       "width": 1976
      }
     },
     "output_type": "display_data"
    }
   ],
   "source": [
    "# Visual box plot of the distribution before filtering\n",
    "plt.figure(figsize=(25,5))\n",
    "plt.boxplot(movies_df.popularity, vert=False, widths=.5)\n",
    "plt.xlabel(\"Popularity\")\n",
    "plt.show()"
   ]
  },
  {
   "cell_type": "code",
   "execution_count": 19,
   "metadata": {
    "cell_id": "a53e63b92880466da2b07f5b506162d9",
    "deepnote_cell_type": "code",
    "deepnote_to_be_reexecuted": false,
    "execution_millis": 2,
    "execution_start": 1683247648891,
    "source_hash": "334217e7"
   },
   "outputs": [
    {
     "data": {
      "text/plain": [
       "29.253833"
      ]
     },
     "execution_count": 19,
     "metadata": {},
     "output_type": "execute_result"
    }
   ],
   "source": [
    "# Something to keep note off based on box plot\n",
    "movies_df.popularity.quantile(.75)"
   ]
  },
  {
   "attachments": {},
   "cell_type": "markdown",
   "metadata": {
    "cell_id": "1710fe8b32914102a292189759278a49",
    "deepnote_cell_type": "markdown"
   },
   "source": [
    "### Vote Count"
   ]
  },
  {
   "cell_type": "code",
   "execution_count": 20,
   "metadata": {
    "cell_id": "ec5ab31344f24110b3d3bb36d3000e94",
    "deepnote_cell_type": "code",
    "deepnote_to_be_reexecuted": false,
    "execution_millis": 3,
    "execution_start": 1683247648891,
    "source_hash": "319dc4c5"
   },
   "outputs": [
    {
     "data": {
      "text/plain": [
       "count     4505.000000\n",
       "mean       719.023751\n",
       "std       1263.358181\n",
       "min          0.000000\n",
       "25%         58.000000\n",
       "50%        251.000000\n",
       "75%        788.000000\n",
       "max      13752.000000\n",
       "Name: vote_count, dtype: float64"
      ]
     },
     "execution_count": 20,
     "metadata": {},
     "output_type": "execute_result"
    }
   ],
   "source": [
    "# Would like to have the vote counts filtered to the 25th quartile\n",
    "movies_df.vote_count.describe()"
   ]
  },
  {
   "attachments": {},
   "cell_type": "markdown",
   "metadata": {
    "cell_id": "27e8fa6067164c6094917524fa5a66d8",
    "deepnote_cell_type": "markdown"
   },
   "source": [
    "### Vote Average"
   ]
  },
  {
   "cell_type": "code",
   "execution_count": 21,
   "metadata": {
    "cell_id": "78609996eeac4b278b783f55df615b95",
    "deepnote_cell_type": "code",
    "deepnote_to_be_reexecuted": false,
    "execution_millis": 4,
    "execution_start": 1683247648891,
    "source_hash": "2dc8b286"
   },
   "outputs": [
    {
     "data": {
      "text/plain": [
       "count    4505.000000\n",
       "mean        6.065683\n",
       "std         1.185188\n",
       "min         0.000000\n",
       "25%         5.600000\n",
       "50%         6.200000\n",
       "75%         6.800000\n",
       "max        10.000000\n",
       "Name: vote_average, dtype: float64"
      ]
     },
     "execution_count": 21,
     "metadata": {},
     "output_type": "execute_result"
    }
   ],
   "source": [
    "# Filter the vote average to the 50th quartile of the dataset \n",
    "movies_df.vote_average.describe()"
   ]
  },
  {
   "cell_type": "code",
   "execution_count": 22,
   "metadata": {
    "cell_id": "b71f401cbcb64a9881018b5d57732a81",
    "deepnote_cell_type": "code",
    "deepnote_to_be_reexecuted": false,
    "execution_millis": 2,
    "execution_start": 1683247648925,
    "source_hash": "f7d43313"
   },
   "outputs": [],
   "source": [
    "# Filter the data\n",
    "movies_df = movies_df.loc[(movies_df.popularity.quantile(.75)<movies_df.popularity) & (movies_df[\"vote_average\"].quantile(.5)<movies_df[\"vote_average\"])\\\n",
    " & (movies_df[\"vote_count\"].quantile(.25)<movies_df[\"vote_count\"]) | (movies_df['original_title'].isin(req_movies))]"
   ]
  },
  {
   "cell_type": "code",
   "execution_count": 23,
   "metadata": {
    "cell_id": "e416308653144bc689e1ba685c83e3c0",
    "deepnote_cell_type": "code",
    "deepnote_to_be_reexecuted": false,
    "execution_millis": 2,
    "execution_start": 1683247648925,
    "source_hash": "ebbc0418"
   },
   "outputs": [
    {
     "data": {
      "text/plain": [
       "(790, 20)"
      ]
     },
     "execution_count": 23,
     "metadata": {},
     "output_type": "execute_result"
    }
   ],
   "source": [
    "# The dataset now is 790 rows besides 4803\n",
    "movies_df.shape"
   ]
  },
  {
   "cell_type": "code",
   "execution_count": 24,
   "metadata": {
    "cell_id": "ded06f1960c4453489b8a8ecc8ad35c0",
    "deepnote_cell_type": "code",
    "deepnote_to_be_reexecuted": false,
    "execution_millis": 3,
    "execution_start": 1683247648925,
    "source_hash": "408ce398"
   },
   "outputs": [
    {
     "data": {
      "text/plain": [
       "count    790.000000\n",
       "mean      60.935558\n",
       "std       56.254853\n",
       "min        0.001117\n",
       "25%       37.058229\n",
       "50%       47.322015\n",
       "75%       67.425202\n",
       "max      875.581305\n",
       "Name: popularity, dtype: float64"
      ]
     },
     "execution_count": 24,
     "metadata": {},
     "output_type": "execute_result"
    }
   ],
   "source": [
    "# The distribution of popularity in the dataset after filtering\n",
    "movies_df.popularity.describe()"
   ]
  },
  {
   "attachments": {},
   "cell_type": "markdown",
   "metadata": {
    "cell_id": "9463a3a56cee45c18a2c5a1de7aca443",
    "deepnote_cell_type": "markdown"
   },
   "source": [
    "## Columns\n",
    "Each function convert the data into new columns without the packed columns bundled into one."
   ]
  },
  {
   "cell_type": "code",
   "execution_count": 25,
   "metadata": {
    "cell_id": "5868a1a77bd4495381498ed1c7c42d8f",
    "deepnote_cell_type": "code",
    "deepnote_to_be_reexecuted": false,
    "execution_millis": 4,
    "execution_start": 1683247648935,
    "source_hash": "756c00b",
    "tags": []
   },
   "outputs": [],
   "source": [
    "# Returns a list of the data attributes we need\n",
    "def data_cleaner(data):\n",
    "    extract = []\n",
    "    for i in ast.literal_eval(data):\n",
    "        extract.append(i['name'])\n",
    "    return extract"
   ]
  },
  {
   "cell_type": "code",
   "execution_count": 26,
   "metadata": {
    "cell_id": "fcfcca02e9884e319953f25ee5a739f5",
    "deepnote_cell_type": "code",
    "deepnote_to_be_reexecuted": false,
    "execution_millis": 198,
    "execution_start": 1683247648939,
    "source_hash": "61be356"
   },
   "outputs": [],
   "source": [
    "# Create a new dataframe with the transformed data\n",
    "tmovies_df = pd.DataFrame()\n",
    "\n",
    "tmovies_df['id'] = movies_df['id']\n",
    "tmovies_df['genres'] = movies_df['genres'].apply(data_cleaner)\n",
    "tmovies_df['keywords'] = movies_df['keywords'].apply(data_cleaner)\n",
    "tmovies_df['production_company'] = movies_df['production_companies'].apply(data_cleaner)\n",
    "tmovies_df['title'] = movies_df['original_title']\n",
    "tmovies_df['overview'] = movies_df['overview']\n",
    "tmovies_df['tagline'] = movies_df['tagline']\n",
    "tmovies_df['popularity'] = movies_df['popularity']"
   ]
  },
  {
   "attachments": {},
   "cell_type": "markdown",
   "metadata": {
    "cell_id": "5f953330c65c41dba5757adafdb746cb",
    "deepnote_cell_type": "markdown"
   },
   "source": [
    "#### Credits Data"
   ]
  },
  {
   "cell_type": "code",
   "execution_count": 27,
   "metadata": {
    "cell_id": "be438a8508774c0b8d4cbe54bc4c2cf5",
    "deepnote_cell_type": "code",
    "deepnote_to_be_reexecuted": false,
    "execution_millis": 4,
    "execution_start": 1683247649178,
    "source_hash": "d1cd0980"
   },
   "outputs": [],
   "source": [
    "def cast_finder(lis):\n",
    "    extract = []\n",
    "    for i in ast.literal_eval(lis):\n",
    "        if i['character'] != \"Additional Voices (voice)\":\n",
    "            extract.append(i['character'])\n",
    "        extract.append(i['name'])\n",
    "    return extract"
   ]
  },
  {
   "cell_type": "code",
   "execution_count": 28,
   "metadata": {
    "cell_id": "1a4d81692b93477f8e88014451c2c4e2",
    "deepnote_cell_type": "code",
    "deepnote_to_be_reexecuted": false,
    "execution_millis": 3,
    "execution_start": 1683247649179,
    "source_hash": "bf4eeb6c"
   },
   "outputs": [],
   "source": [
    "def crew_finder(lis):\n",
    "    feat = []\n",
    "    for i in ast.literal_eval(lis):\n",
    "        if (\n",
    "            i['job'] == \"Director\" or i['job'] == \"Producer\" or i['job'] == \"Writer\" or\n",
    "            i['job'] == \"Editor\" or i['job'] == \"Visual Effects Producer\" or i['job'] == \"Executive Producer\" or i['job'] == \"Story\" or\n",
    "            i['job'] == \"Production Manager\" or i['job'] == \"Screenplay\" or i['job'] == \"Visual Effects\"\n",
    "            ):\n",
    "            feat.append(i['name'])\n",
    "    return feat"
   ]
  },
  {
   "cell_type": "code",
   "execution_count": 29,
   "metadata": {
    "cell_id": "d98f1bb93851418a96e66dc243e5f865",
    "deepnote_cell_type": "code",
    "deepnote_to_be_reexecuted": false,
    "execution_millis": 4142,
    "execution_start": 1683247649179,
    "source_hash": "5781f1dc"
   },
   "outputs": [],
   "source": [
    "# Cleaning cast column\n",
    "credits_df['cast'] = credits_df['cast'].apply(cast_finder)"
   ]
  },
  {
   "cell_type": "code",
   "execution_count": 30,
   "metadata": {
    "cell_id": "6ae60bbef8924ef58217173f7c1a4b90",
    "deepnote_cell_type": "code",
    "deepnote_to_be_reexecuted": false,
    "execution_millis": 3642,
    "execution_start": 1683247653362,
    "source_hash": "5427d794"
   },
   "outputs": [],
   "source": [
    "# Looking for crew members\n",
    "credits_df['crew'] = credits_df['crew'].apply(crew_finder)"
   ]
  },
  {
   "attachments": {},
   "cell_type": "markdown",
   "metadata": {
    "cell_id": "d94af96439e14075ac9c999948b10c9b",
    "deepnote_cell_type": "markdown"
   },
   "source": [
    "# Machine Learning "
   ]
  },
  {
   "attachments": {},
   "cell_type": "markdown",
   "metadata": {
    "cell_id": "dc1e1609856b4d89aa4c4f543f47f599",
    "deepnote_cell_type": "markdown"
   },
   "source": [
    "## Merging Data"
   ]
  },
  {
   "cell_type": "code",
   "execution_count": 31,
   "metadata": {
    "cell_id": "ed239981308e4e5a8751bb557757bbc6",
    "deepnote_cell_type": "code",
    "deepnote_to_be_reexecuted": false,
    "execution_millis": 6,
    "execution_start": 1683247657006,
    "source_hash": "53701d71"
   },
   "outputs": [],
   "source": [
    "# Just beacuse we do not want this data to be repeated from the credits file\n",
    "credits_df.drop(columns=['title'], inplace=True)"
   ]
  },
  {
   "cell_type": "code",
   "execution_count": 32,
   "metadata": {
    "cell_id": "9f13575d252d478fa8c40b776902a514",
    "deepnote_cell_type": "code",
    "deepnote_to_be_reexecuted": false,
    "execution_millis": 7,
    "execution_start": 1683247657013,
    "source_hash": "957ef31c"
   },
   "outputs": [],
   "source": [
    "# Creating a training dataframe\n",
    "train_df = tmovies_df.merge(credits_df, left_on='id', right_on='movie_id', how='left')"
   ]
  },
  {
   "cell_type": "code",
   "execution_count": 33,
   "metadata": {
    "cell_id": "b1412711139b4e069d35710b18e5c1f6",
    "deepnote_cell_type": "code",
    "deepnote_to_be_reexecuted": false,
    "execution_millis": 5,
    "execution_start": 1683247657022,
    "source_hash": "969cc45"
   },
   "outputs": [],
   "source": [
    "# Droping the extra id\n",
    "train_df.drop(columns='movie_id', inplace=True)"
   ]
  },
  {
   "cell_type": "code",
   "execution_count": 34,
   "metadata": {
    "cell_id": "5be98c053e474a4a899fb0e3a86c4d6a",
    "deepnote_cell_type": "code",
    "deepnote_to_be_reexecuted": false,
    "execution_millis": 56,
    "execution_start": 1683247657026,
    "source_hash": "4b96fa10"
   },
   "outputs": [
    {
     "data": {
      "application/vnd.deepnote.dataframe.v3+json": {
       "column_count": 10,
       "columns": [
        {
         "dtype": "int64",
         "name": "id",
         "stats": {
          "histogram": [
           {
            "bin_end": 20921.2,
            "bin_start": 285,
            "count": 2
           },
           {
            "bin_end": 41557.4,
            "bin_start": 20921.2,
            "count": 1
           },
           {
            "bin_end": 62193.600000000006,
            "bin_start": 41557.4,
            "count": 1
           },
           {
            "bin_end": 82829.8,
            "bin_start": 62193.600000000006,
            "count": 0
           },
           {
            "bin_end": 103466,
            "bin_start": 82829.8,
            "count": 0
           },
           {
            "bin_end": 124102.20000000001,
            "bin_start": 103466,
            "count": 0
           },
           {
            "bin_end": 144738.4,
            "bin_start": 124102.20000000001,
            "count": 0
           },
           {
            "bin_end": 165374.6,
            "bin_start": 144738.4,
            "count": 0
           },
           {
            "bin_end": 186010.80000000002,
            "bin_start": 165374.6,
            "count": 0
           },
           {
            "bin_end": 206647,
            "bin_start": 186010.80000000002,
            "count": 1
           }
          ],
          "max": "206647",
          "min": "285",
          "nan_count": 0,
          "unique_count": 5
         }
        },
        {
         "dtype": "object",
         "name": "genres",
         "stats": {
          "categories": [
           {
            "count": 1,
            "name": "['Action', 'Adventure', 'Fantasy', 'Science Fiction']"
           },
           {
            "count": 1,
            "name": "['Adventure', 'Fantasy', 'Action']"
           },
           {
            "count": 3,
            "name": "3 others"
           }
          ],
          "nan_count": 0,
          "unique_count": 5
         }
        },
        {
         "dtype": "object",
         "name": "keywords",
         "stats": {
          "categories": [
           {
            "count": 1,
            "name": "['culture clash', 'future', 'space war', 'space colony', 'society', 'space travel', 'futuristic', 'romance', 'space', 'alien', 'tribe', 'alien planet', 'cgi', 'marine', 'soldier', 'battle', 'love affair', 'anti war', 'power relations', 'mind and soul', '3d']"
           },
           {
            "count": 1,
            "name": "['ocean', 'drug abuse', 'exotic island', 'east india trading company', \"love of one's life\", 'traitor', 'shipwreck', 'strong woman', 'ship', 'alliance', 'calypso', 'afterlife', 'fighter', 'pirate', 'swashbuckler', 'aftercreditsstinger']"
           },
           {
            "count": 3,
            "name": "3 others"
           }
          ],
          "nan_count": 0,
          "unique_count": 5
         }
        },
        {
         "dtype": "object",
         "name": "production_company",
         "stats": {
          "categories": [
           {
            "count": 1,
            "name": "['Ingenious Film Partners', 'Twentieth Century Fox Film Corporation', 'Dune Entertainment', 'Lightstorm Entertainment']"
           },
           {
            "count": 1,
            "name": "['Walt Disney Pictures', 'Jerry Bruckheimer Films', 'Second Mate Productions']"
           },
           {
            "count": 3,
            "name": "3 others"
           }
          ],
          "nan_count": 0,
          "unique_count": 5
         }
        },
        {
         "dtype": "object",
         "name": "title",
         "stats": {
          "categories": [
           {
            "count": 1,
            "name": "Avatar"
           },
           {
            "count": 1,
            "name": "Pirates of the Caribbean: At World's End"
           },
           {
            "count": 3,
            "name": "3 others"
           }
          ],
          "nan_count": 0,
          "unique_count": 5
         }
        },
        {
         "dtype": "object",
         "name": "overview",
         "stats": {
          "categories": [
           {
            "count": 1,
            "name": "In the 22nd century, a paraplegic Marine is dispatched to the moon Pandora on a unique mission, but becomes torn between following orders and protecting an alien civilization."
           },
           {
            "count": 1,
            "name": "Captain Barbossa, long believed to be dead, has come back to life and is headed to the edge of the Earth with Will Turner and Elizabeth Swann. But nothing is quite as it seems."
           },
           {
            "count": 3,
            "name": "3 others"
           }
          ],
          "nan_count": 0,
          "unique_count": 5
         }
        },
        {
         "dtype": "object",
         "name": "tagline",
         "stats": {
          "categories": [
           {
            "count": 1,
            "name": "Enter the World of Pandora."
           },
           {
            "count": 1,
            "name": "At the end of the world, the adventure begins."
           },
           {
            "count": 3,
            "name": "3 others"
           }
          ],
          "nan_count": 0,
          "unique_count": 5
         }
        },
        {
         "dtype": "float64",
         "name": "popularity",
         "stats": {
          "histogram": [
           {
            "bin_end": 58.8575298,
            "bin_start": 48.681969,
            "count": 1
           },
           {
            "bin_end": 69.03309060000001,
            "bin_start": 58.8575298,
            "count": 0
           },
           {
            "bin_end": 79.20865140000001,
            "bin_start": 69.03309060000001,
            "count": 0
           },
           {
            "bin_end": 89.38421220000001,
            "bin_start": 79.20865140000001,
            "count": 0
           },
           {
            "bin_end": 99.559773,
            "bin_start": 89.38421220000001,
            "count": 0
           },
           {
            "bin_end": 109.7353338,
            "bin_start": 99.559773,
            "count": 1
           },
           {
            "bin_end": 119.9108946,
            "bin_start": 109.7353338,
            "count": 1
           },
           {
            "bin_end": 130.0864554,
            "bin_start": 119.9108946,
            "count": 0
           },
           {
            "bin_end": 140.2620162,
            "bin_start": 130.0864554,
            "count": 1
           },
           {
            "bin_end": 150.437577,
            "bin_start": 140.2620162,
            "count": 1
           }
          ],
          "max": "150.437577",
          "min": "48.681969",
          "nan_count": 0,
          "unique_count": 5
         }
        },
        {
         "dtype": "object",
         "name": "cast",
         "stats": {
          "categories": [
           {
            "count": 1,
            "name": "['Jake Sully', 'Sam Worthington', 'Neytiri', 'Zoe Saldana', 'Dr. Grace Augustine', 'Sigourney Weaver', 'Col. Quaritch', 'Stephen Lang', 'Trudy Chacon', 'Michelle Rodriguez', 'Selfridge', 'Giovanni Ribisi', 'Norm Spellman', 'Joel David Moore', 'Moat', 'CCH Pounder', 'Eytukan', 'Wes Studi', \"Tsu'Tey\", 'Laz Alonso', 'Dr. Max Patel', 'Dileep Rao', 'Lyle Wainfleet', 'Matt Gerald', 'Private Fike', 'Sean Anthony Moran', 'Cryo Vault Med Tech', 'Jason Whyte', 'Venture Star Crew Chief', 'Scott Lawrence', 'Lock Up Trooper', 'Kelly Kilgour', 'Shuttle Pilot', 'James Patrick Pitt', 'Shuttle Co-Pilot', 'Sean Patrick Murphy', 'Shuttle Crew Chief', 'Peter Dillon', 'Tractor Operator / Troupe', 'Kevin Dorman', 'Dragon Gunship Pilot', 'Kelson Henderson', 'Dragon Gunship Gunner', 'David Van Horn', 'Dragon Gunship Navigator', 'Jacob Tomuri', 'Suit #1', 'Michael Blain-Rozgay', 'Suit #2', 'Jon Curry', 'Ambient Room Tech', 'Luke Hawker', 'Ambient Room Tech / Troupe', 'Woody Schultz', 'Horse Clan Leader', 'Peter Mensah', 'Link Room Tech', 'Sonia Yee', 'Basketball Avatar / Troupe', 'Jahnel Curfman', 'Basketball Avatar', 'Ilram Choi', \"Na'vi Child\", 'Kyla Warren', 'Troupe', 'Lisa Roumain', 'Troupe', 'Debra Wilson', 'Troupe', 'Chris Mala', 'Troupe', 'Taylor Kibby', 'Troupe', 'Jodie Landau', 'Troupe', 'Julie Lamm', 'Troupe', 'Cullen B. Madden', 'Troupe', 'Joseph Brady Madden', 'Troupe', 'Frankie Torres', 'Troupe', 'Austin Wilson', 'Troupe', 'Sara Wilson', 'Troupe', 'Tamica Washington-Miller', 'Op Center Staff', 'Lucy Briant', 'Op Center Staff', 'Nathan Meister', 'Op Center Staff', 'Gerry Blair', 'Op Center Staff', 'Matthew Chamberlain', 'Op Center Staff', 'Paul Yates', 'Op Center Duty Officer', 'Wray Wilson', 'Op Center Staff', 'James Gaylyn', 'Dancer', 'Melvin Leno Clark III', 'Dancer', 'Carvon Futrell', 'Dancer', 'Brandon Jelkes', 'Dancer', 'Micah Moch', 'Dancer', 'Hanniyah Muhammad', 'Dancer', 'Christopher Nolen', 'Dancer', 'Christa Oliver', 'Dancer', 'April Marie Thomas', 'Dancer', 'Bravita A. Threatt', 'Mining Chief (uncredited)', 'Colin Bleasdale', 'Veteran Miner (uncredited)', 'Mike Bodnar', 'Richard (uncredited)', 'Matt Clayton', \"Nav'i (uncredited)\", 'Nicole Dionne', 'Trooper (uncredited)', 'Jamie Harrison', 'Trooper (uncredited)', 'Allan Henry', 'Ground Technician (uncredited)', 'Anthony Ingruber', 'Flight Crew Mechanic (uncredited)', 'Ashley Jeffery', 'Samson Pilot', 'Dean Knowsley', 'Trooper (uncredited)', 'Joseph Mika-Hunt', 'Banshee (uncredited)', 'Terry Notary', 'Soldier (uncredited)', 'Kai Pantano', 'Blast Technician (uncredited)', 'Logan Pithyou', 'Vindum Raah (uncredited)', 'Stuart Pollock', 'Hero (uncredited)', 'Raja', 'Ops Centreworker (uncredited)', 'Gareth Ruck', 'Engineer (uncredited)', 'Rhian Sheehan', \"Col. Quaritch's Mech Suit (uncredited)\", 'T. J. Storm', 'Female Marine (uncredited)', 'Jodie Taylor', 'Ikran Clan Leader (uncredited)', 'Alicia Vela-Bailey', 'Geologist (uncredited)', 'Richard Whiteside', \"Na'vi (uncredited)\", 'Nikie Zambo', 'Ambient Room Tech / Troupe', 'Julene Renee']"
           },
           {
            "count": 1,
            "name": "['Captain Jack Sparrow', 'Johnny Depp', 'Will Turner', 'Orlando Bloom', 'Elizabeth Swann', 'Keira Knightley', 'William \"Bootstrap Bill\" Turner', 'Stellan Skarsgård', 'Captain Sao Feng', 'Chow Yun-fat', 'Captain Davy Jones', 'Bill Nighy', 'Captain Hector Barbossa', 'Geoffrey Rush', 'Admiral James Norrington', 'Jack Davenport', 'Joshamee Gibbs', 'Kevin McNally', 'Lord Cutler Beckett', 'Tom Hollander', 'Tia Dalma', 'Naomie Harris', 'Governor Weatherby Swann', 'Jonathan Pryce', 'Captain Teague Sparrow', 'Keith Richards', 'Pintel', 'Lee Arenberg', 'Ragetti', 'Mackenzie Crook', 'Lieutenant Theodore Groves', 'Greg Ellis', 'Cotton', 'David Bailie', 'Marty', 'Martin Klebba', 'Ian Mercer', 'David Schofield', 'Scarlett', 'Lauren Maher', 'Giselle', 'Vanessa Branch', 'Mullroy', 'Angus Barnett', 'Murtogg', 'Giles New', 'Tai Huang', 'Reggie Lee', 'Henry Turner', 'Dominic Scott Kay', 'Mistress Ching', 'Takayo Fischer', 'Lieutenant Greitzer', 'David Meunier', 'Hadras', 'Ho-Kwan Tse', 'Clacker', 'Andy Beckwith', 'Penrod', 'Peter Donald Badalamenti II', \"Cotton's Parrot (voice)\", 'Christopher S. Capp', 'Captain Teague', 'Keith Richards', 'Captain Jocard', 'Hakeem Kae-Kazim', 'Captain Ammand', 'Ghassan Massoud']"
           },
           {
            "count": 3,
            "name": "3 others"
           }
          ],
          "nan_count": 0,
          "unique_count": 5
         }
        },
        {
         "dtype": "object",
         "name": "crew",
         "stats": {
          "categories": [
           {
            "count": 1,
            "name": "['Stephen E. Rivkin', 'James Cameron', 'James Cameron', 'James Cameron', 'James Cameron', 'James Cameron', 'Jill Brooks', 'Jon Landau', 'Laeta Kalogridis', 'John Refoua', 'Alain Lalanne', 'Chris Del Conte', 'Brigitte Yorke', 'Joyce Cox', 'Jenny Foster', 'Cyndi Ochs']"
           },
           {
            "count": 1,
            "name": "['Gore Verbinski', 'Jerry Bruckheimer', 'Ted Elliott', 'Terry Rossio', 'Stephen E. Rivkin', 'Craig Wood', 'Mike Stenson', 'Eric McLeod', 'Chad Oman', 'Peter Kohn', 'Pat Sandston']"
           },
           {
            "count": 3,
            "name": "3 others"
           }
          ],
          "nan_count": 0,
          "unique_count": 5
         }
        },
        {
         "dtype": "int64",
         "name": "_deepnote_index_column"
        }
       ],
       "row_count": 5,
       "rows": [
        {
         "_deepnote_index_column": "0",
         "cast": "['Jake Sully', 'Sam Worthington', 'Neytiri', 'Zoe Saldana', 'Dr. Grace Augustine', 'Sigourney Weaver', 'Col. Quaritch', 'Stephen Lang', 'Trudy Chacon', 'Michelle Rodriguez', 'Selfridge', 'Giovanni Ribisi', 'Norm Spellman', 'Joel David Moore', 'Moat', 'CCH Pounder', 'Eytukan', 'Wes Studi', \"Tsu'Tey\", 'Laz Alonso', 'Dr. Max Patel', 'Dileep Rao', 'Lyle Wainfleet', 'Matt Gerald', 'Private Fike', 'Sean Anthony Moran', 'Cryo Vault Med Tech', 'Jason Whyte', 'Venture Star Crew Chief', 'Scott Lawrence', 'Lock Up Trooper', 'Kelly Kilgour', 'Shuttle Pilot', 'James Patrick Pitt', 'Shuttle Co-Pilot', 'Sean Patrick Murphy', 'Shuttle Crew Chief', 'Peter Dillon', 'Tractor Operator / Troupe', 'Kevin Dorman', 'Dragon Gunship Pilot', 'Kelson Henderson', 'Dragon Gunship Gunner', 'David Van Horn', 'Dragon Gunship Navigator', 'Jacob Tomuri', 'Suit #1', 'Michael Blain-Rozgay', 'Suit #2', 'Jon Curry', 'Ambient Room Tech', 'Luke Hawker', 'Ambient Room Tech / Troupe', 'Woody Schultz', 'Horse Clan Leader', 'Pet…",
         "crew": "['Stephen E. Rivkin', 'James Cameron', 'James Cameron', 'James Cameron', 'James Cameron', 'James Cameron', 'Jill Brooks', 'Jon Landau', 'Laeta Kalogridis', 'John Refoua', 'Alain Lalanne', 'Chris Del Conte', 'Brigitte Yorke', 'Joyce Cox', 'Jenny Foster', 'Cyndi Ochs']",
         "genres": "['Action', 'Adventure', 'Fantasy', 'Science Fiction']",
         "id": "19995",
         "keywords": "['culture clash', 'future', 'space war', 'space colony', 'society', 'space travel', 'futuristic', 'romance', 'space', 'alien', 'tribe', 'alien planet', 'cgi', 'marine', 'soldier', 'battle', 'love affair', 'anti war', 'power relations', 'mind and soul', '3d']",
         "overview": "In the 22nd century, a paraplegic Marine is dispatched to the moon Pandora on a unique mission, but becomes torn between following orders and protecting an alien civilization.",
         "popularity": "150.437577",
         "production_company": "['Ingenious Film Partners', 'Twentieth Century Fox Film Corporation', 'Dune Entertainment', 'Lightstorm Entertainment']",
         "tagline": "Enter the World of Pandora.",
         "title": "Avatar"
        },
        {
         "_deepnote_index_column": "1",
         "cast": "['Captain Jack Sparrow', 'Johnny Depp', 'Will Turner', 'Orlando Bloom', 'Elizabeth Swann', 'Keira Knightley', 'William \"Bootstrap Bill\" Turner', 'Stellan Skarsgård', 'Captain Sao Feng', 'Chow Yun-fat', 'Captain Davy Jones', 'Bill Nighy', 'Captain Hector Barbossa', 'Geoffrey Rush', 'Admiral James Norrington', 'Jack Davenport', 'Joshamee Gibbs', 'Kevin McNally', 'Lord Cutler Beckett', 'Tom Hollander', 'Tia Dalma', 'Naomie Harris', 'Governor Weatherby Swann', 'Jonathan Pryce', 'Captain Teague Sparrow', 'Keith Richards', 'Pintel', 'Lee Arenberg', 'Ragetti', 'Mackenzie Crook', 'Lieutenant Theodore Groves', 'Greg Ellis', 'Cotton', 'David Bailie', 'Marty', 'Martin Klebba', 'Ian Mercer', 'David Schofield', 'Scarlett', 'Lauren Maher', 'Giselle', 'Vanessa Branch', 'Mullroy', 'Angus Barnett', 'Murtogg', 'Giles New', 'Tai Huang', 'Reggie Lee', 'Henry Turner', 'Dominic Scott Kay', 'Mistress Ching', 'Takayo Fischer', 'Lieutenant Greitzer', 'David Meunier', 'Hadras', 'Ho-Kwan Tse', 'Clacker', 'Andy …",
         "crew": "['Gore Verbinski', 'Jerry Bruckheimer', 'Ted Elliott', 'Terry Rossio', 'Stephen E. Rivkin', 'Craig Wood', 'Mike Stenson', 'Eric McLeod', 'Chad Oman', 'Peter Kohn', 'Pat Sandston']",
         "genres": "['Adventure', 'Fantasy', 'Action']",
         "id": "285",
         "keywords": "['ocean', 'drug abuse', 'exotic island', 'east india trading company', \"love of one's life\", 'traitor', 'shipwreck', 'strong woman', 'ship', 'alliance', 'calypso', 'afterlife', 'fighter', 'pirate', 'swashbuckler', 'aftercreditsstinger']",
         "overview": "Captain Barbossa, long believed to be dead, has come back to life and is headed to the edge of the Earth with Will Turner and Elizabeth Swann. But nothing is quite as it seems.",
         "popularity": "139.082615",
         "production_company": "['Walt Disney Pictures', 'Jerry Bruckheimer Films', 'Second Mate Productions']",
         "tagline": "At the end of the world, the adventure begins.",
         "title": "Pirates of the Caribbean: At World's End"
        },
        {
         "_deepnote_index_column": "2",
         "cast": "['James Bond', 'Daniel Craig', 'Blofeld', 'Christoph Waltz', 'Madeleine', 'Léa Seydoux', 'M', 'Ralph Fiennes', 'Lucia', 'Monica Bellucci', 'Q', 'Ben Whishaw', 'Moneypenny', 'Naomie Harris', 'Hinx', 'Dave Bautista', 'C', 'Andrew Scott', 'Tanner', 'Rory Kinnear', 'Mr. White', 'Jesper Christensen', 'Marco Sciarra', 'Alessandro Cremona', 'Estrella', 'Stephanie Sigman', 'Mexican Man in Lift', 'Tenoch Huerta', 'Mexican Woman in Lift', 'Adriana Paz', 'Gallo', 'Domenico Fortunato', \"Gallo's Accomplice\", 'Marco Zingaro', \"Gallo's Accomplice\", 'Stefano Elfi DiClaudia', \"Q's Assistant\", 'Ian Bonar', \"Moneypenny's Boyfriend\", 'Tam Williams', \"Blofeld's London Helicopter Pilot\", 'Richard Banham', 'SC019 Police Commander', 'Pip Carter', 'SC019 Police Officer', 'Simon Lenagan', 'Priest', 'Alessandro Bressanello', 'Moreau', 'Marc Zinga', 'Vogel', 'Brigitte Millar', 'Abrika', 'Adel Bencherif', \"Blofeld's Right Hand Man\", 'Gediminas Adomaitis', 'Lorenzo', 'Peppe Lanzetta', 'Francesco', 'Francesco Arca'…",
         "crew": "['Sam Mendes', 'John Logan', 'John Logan', 'Lee Smith', 'Barbara Broccoli', 'Robert Wade', 'Robert Wade', 'Neal Purvis', 'Neal Purvis', 'Callum McDougall', 'Jez Butterworth', 'Michael G. Wilson', 'Laura Schultz', 'Ken Dailey', 'Kilou Picard', 'Tim Keene', 'Leslie Lerman']",
         "genres": "['Action', 'Adventure', 'Crime']",
         "id": "206647",
         "keywords": "['spy', 'based on novel', 'secret agent', 'sequel', 'mi6', 'british secret service', 'united kingdom']",
         "overview": "A cryptic message from Bond’s past sends him on a trail to uncover a sinister organization. While M battles political forces to keep the secret service alive, Bond peels back the layers of deceit to reveal the terrible truth behind SPECTRE.",
         "popularity": "107.376788",
         "production_company": "['Columbia Pictures', 'Danjaq', 'B24']",
         "tagline": "A Plan No One Escapes",
         "title": "Spectre"
        },
        {
         "_deepnote_index_column": "3",
         "cast": "['Bruce Wayne / Batman', 'Christian Bale', 'Alfred Pennyworth', 'Michael Caine', 'James Gordon', 'Gary Oldman', 'Selina Kyle / Catwoman', 'Anne Hathaway', 'Bane', 'Tom Hardy', 'Miranda Tate', 'Marion Cotillard', 'Blake', 'Joseph Gordon-Levitt', 'Lucius Fox', 'Morgan Freeman', 'Dr. Jonathan Crane / Scarecrow', 'Cillian Murphy', 'Jen', 'Juno Temple', \"Ra's Al Ghul\", 'Liam Neeson', 'Deputy Commissioner Foley', 'Matthew Modine', 'Dr. Pavel', 'Alon Aboutboul', 'Daggett', 'Ben Mendelsohn', 'The Mayor', 'Nestor Carbonell', \"Young Ra's Al Ghul\", 'Josh Pence', 'Prisoner', 'Tom Conti', 'Young Talia Al Ghul', 'Joey King', 'Mercenary Security #1', 'Warren Brown', 'Captain Jones', 'Daniel Sunjata', 'Special Ops Sergeant', 'Sam Kennard', 'Hooded Man #2', 'Aliash Tepina', 'Caterer', 'Nick Julian', 'Maid', 'Miranda Nolan', 'Maid', 'Claire Julien', 'CIA Op', 'Aidan Gillen', 'Stryver', 'Burn Gorman', 'Congressman', 'Brett Cullen', 'Ross', 'Reggie Lee', 'DWP Man', 'Joseph Lyle Taylor', 'Fr. Reilly', 'Ch…",
         "crew": "['Charles Roven', 'Christopher Nolan', 'Christopher Nolan', 'Christopher Nolan', 'Christopher Nolan', 'Jonathan Nolan', 'Emma Thomas', 'David S. Goyer', 'Lee Smith', 'Michael Uslan', 'Benjamin Melniker', 'Thomas Tull', 'Kevin De La Noy', 'Karl McMillan', 'Mike Chambers', 'Emmanuel Pappas', 'Michael Murray', 'Thomas Hayslip', 'Claudia Dehmel']",
         "genres": "['Action', 'Crime', 'Drama', 'Thriller']",
         "id": "49026",
         "keywords": "['dc comics', 'crime fighter', 'terrorist', 'secret identity', 'burglar', 'hostage drama', 'time bomb', 'gotham city', 'vigilante', 'cover-up', 'superhero', 'villainess', 'tragic hero', 'terrorism', 'destruction', 'catwoman', 'cat burglar', 'imax', 'flood', 'criminal underworld', 'batman']",
         "overview": "Following the death of District Attorney Harvey Dent, Batman assumes responsibility for Dent's crimes to protect the late attorney's reputation and is subsequently hunted by the Gotham City Police Department. Eight years later, Batman encounters the mysterious Selina Kyle and the villainous Bane, a new terrorist leader who overwhelms Gotham's finest. The Dark Knight resurfaces to protect a city that has branded him an enemy.",
         "popularity": "112.31295",
         "production_company": "['Legendary Pictures', 'Warner Bros.', 'DC Entertainment', 'Syncopy']",
         "tagline": "The Legend Ends",
         "title": "The Dark Knight Rises"
        },
        {
         "_deepnote_index_column": "4",
         "cast": "['Flynn Rider (voice)', 'Zachary Levi', 'Rapunzel (voice)', 'Mandy Moore', 'Mother Gothel (voice)', 'Donna Murphy', 'Stabbington Brother (voice)', 'Ron Perlman', 'Captain of the Guard (voice)', 'M.C. Gainey', 'Big Nose Thug (voice)', 'Jeffrey Tambor', 'Hook Hand Thug (voice)', 'Brad Garrett', 'Short Thug (voice)', 'Paul F. Tompkins', 'Vlad (voice)', 'Richard Kiel', 'Young Rapunzel / Little Girl (voice)', 'Delaney Rose Stein', 'Guard 1 / Thug 1 (voice)', 'Nathan Greno', 'Guard 2 / Thug 2 (voice)', 'Byron Howard', 'Guard 3 (voice)', 'Tim Mertens']",
         "crew": "['John Lasseter', 'Dan Fogelman', 'Roy Conli', 'Mark Kennedy', 'Tim Mertens', 'Byron Howard', 'Nathan Greno', 'Glen Keane', 'Doeri Welch Greiner']",
         "genres": "['Animation', 'Family']",
         "id": "38757",
         "keywords": "['hostage', 'magic', 'horse', 'fairy tale', 'musical', 'princess', 'animation', 'tower', 'blonde woman', 'selfishness', 'healing power', 'based on fairy tale', 'duringcreditsstinger', 'healing gift', 'animal sidekick']",
         "overview": "When the kingdom's most wanted-and most charming-bandit Flynn Rider hides out in a mysterious tower, he's taken hostage by Rapunzel, a beautiful and feisty tower-bound teen with 70 feet of magical, golden hair. Flynn's curious captor, who's looking for her ticket out of the tower where she's been locked away for years, strikes a deal with the handsome thief and the unlikely duo sets off on an action-packed escapade, complete with a super-cop horse, an over-protective chameleon and a gruff gang of pub thugs.",
         "popularity": "48.681969",
         "production_company": "['Walt Disney Pictures', 'Walt Disney Animation Studios']",
         "tagline": "They're taking adventure to new lengths.",
         "title": "Tangled"
        }
       ]
      },
      "text/html": [
       "<div>\n",
       "<style scoped>\n",
       "    .dataframe tbody tr th:only-of-type {\n",
       "        vertical-align: middle;\n",
       "    }\n",
       "\n",
       "    .dataframe tbody tr th {\n",
       "        vertical-align: top;\n",
       "    }\n",
       "\n",
       "    .dataframe thead th {\n",
       "        text-align: right;\n",
       "    }\n",
       "</style>\n",
       "<table border=\"1\" class=\"dataframe\">\n",
       "  <thead>\n",
       "    <tr style=\"text-align: right;\">\n",
       "      <th></th>\n",
       "      <th>id</th>\n",
       "      <th>genres</th>\n",
       "      <th>keywords</th>\n",
       "      <th>production_company</th>\n",
       "      <th>title</th>\n",
       "      <th>overview</th>\n",
       "      <th>tagline</th>\n",
       "      <th>popularity</th>\n",
       "      <th>cast</th>\n",
       "      <th>crew</th>\n",
       "    </tr>\n",
       "  </thead>\n",
       "  <tbody>\n",
       "    <tr>\n",
       "      <th>0</th>\n",
       "      <td>19995</td>\n",
       "      <td>[Action, Adventure, Fantasy, Science Fiction]</td>\n",
       "      <td>[culture clash, future, space war, space colon...</td>\n",
       "      <td>[Ingenious Film Partners, Twentieth Century Fo...</td>\n",
       "      <td>Avatar</td>\n",
       "      <td>In the 22nd century, a paraplegic Marine is di...</td>\n",
       "      <td>Enter the World of Pandora.</td>\n",
       "      <td>150.437577</td>\n",
       "      <td>[Jake Sully, Sam Worthington, Neytiri, Zoe Sal...</td>\n",
       "      <td>[Stephen E. Rivkin, James Cameron, James Camer...</td>\n",
       "    </tr>\n",
       "    <tr>\n",
       "      <th>1</th>\n",
       "      <td>285</td>\n",
       "      <td>[Adventure, Fantasy, Action]</td>\n",
       "      <td>[ocean, drug abuse, exotic island, east india ...</td>\n",
       "      <td>[Walt Disney Pictures, Jerry Bruckheimer Films...</td>\n",
       "      <td>Pirates of the Caribbean: At World's End</td>\n",
       "      <td>Captain Barbossa, long believed to be dead, ha...</td>\n",
       "      <td>At the end of the world, the adventure begins.</td>\n",
       "      <td>139.082615</td>\n",
       "      <td>[Captain Jack Sparrow, Johnny Depp, Will Turne...</td>\n",
       "      <td>[Gore Verbinski, Jerry Bruckheimer, Ted Elliot...</td>\n",
       "    </tr>\n",
       "    <tr>\n",
       "      <th>2</th>\n",
       "      <td>206647</td>\n",
       "      <td>[Action, Adventure, Crime]</td>\n",
       "      <td>[spy, based on novel, secret agent, sequel, mi...</td>\n",
       "      <td>[Columbia Pictures, Danjaq, B24]</td>\n",
       "      <td>Spectre</td>\n",
       "      <td>A cryptic message from Bond’s past sends him o...</td>\n",
       "      <td>A Plan No One Escapes</td>\n",
       "      <td>107.376788</td>\n",
       "      <td>[James Bond, Daniel Craig, Blofeld, Christoph ...</td>\n",
       "      <td>[Sam Mendes, John Logan, John Logan, Lee Smith...</td>\n",
       "    </tr>\n",
       "    <tr>\n",
       "      <th>3</th>\n",
       "      <td>49026</td>\n",
       "      <td>[Action, Crime, Drama, Thriller]</td>\n",
       "      <td>[dc comics, crime fighter, terrorist, secret i...</td>\n",
       "      <td>[Legendary Pictures, Warner Bros., DC Entertai...</td>\n",
       "      <td>The Dark Knight Rises</td>\n",
       "      <td>Following the death of District Attorney Harve...</td>\n",
       "      <td>The Legend Ends</td>\n",
       "      <td>112.312950</td>\n",
       "      <td>[Bruce Wayne / Batman, Christian Bale, Alfred ...</td>\n",
       "      <td>[Charles Roven, Christopher Nolan, Christopher...</td>\n",
       "    </tr>\n",
       "    <tr>\n",
       "      <th>4</th>\n",
       "      <td>38757</td>\n",
       "      <td>[Animation, Family]</td>\n",
       "      <td>[hostage, magic, horse, fairy tale, musical, p...</td>\n",
       "      <td>[Walt Disney Pictures, Walt Disney Animation S...</td>\n",
       "      <td>Tangled</td>\n",
       "      <td>When the kingdom's most wanted-and most charmi...</td>\n",
       "      <td>They're taking adventure to new lengths.</td>\n",
       "      <td>48.681969</td>\n",
       "      <td>[Flynn Rider (voice), Zachary Levi, Rapunzel (...</td>\n",
       "      <td>[John Lasseter, Dan Fogelman, Roy Conli, Mark ...</td>\n",
       "    </tr>\n",
       "  </tbody>\n",
       "</table>\n",
       "</div>"
      ],
      "text/plain": [
       "       id                                         genres  \\\n",
       "0   19995  [Action, Adventure, Fantasy, Science Fiction]   \n",
       "1     285                   [Adventure, Fantasy, Action]   \n",
       "2  206647                     [Action, Adventure, Crime]   \n",
       "3   49026               [Action, Crime, Drama, Thriller]   \n",
       "4   38757                            [Animation, Family]   \n",
       "\n",
       "                                            keywords  \\\n",
       "0  [culture clash, future, space war, space colon...   \n",
       "1  [ocean, drug abuse, exotic island, east india ...   \n",
       "2  [spy, based on novel, secret agent, sequel, mi...   \n",
       "3  [dc comics, crime fighter, terrorist, secret i...   \n",
       "4  [hostage, magic, horse, fairy tale, musical, p...   \n",
       "\n",
       "                                  production_company  \\\n",
       "0  [Ingenious Film Partners, Twentieth Century Fo...   \n",
       "1  [Walt Disney Pictures, Jerry Bruckheimer Films...   \n",
       "2                   [Columbia Pictures, Danjaq, B24]   \n",
       "3  [Legendary Pictures, Warner Bros., DC Entertai...   \n",
       "4  [Walt Disney Pictures, Walt Disney Animation S...   \n",
       "\n",
       "                                      title  \\\n",
       "0                                    Avatar   \n",
       "1  Pirates of the Caribbean: At World's End   \n",
       "2                                   Spectre   \n",
       "3                     The Dark Knight Rises   \n",
       "4                                   Tangled   \n",
       "\n",
       "                                            overview  \\\n",
       "0  In the 22nd century, a paraplegic Marine is di...   \n",
       "1  Captain Barbossa, long believed to be dead, ha...   \n",
       "2  A cryptic message from Bond’s past sends him o...   \n",
       "3  Following the death of District Attorney Harve...   \n",
       "4  When the kingdom's most wanted-and most charmi...   \n",
       "\n",
       "                                          tagline  popularity  \\\n",
       "0                     Enter the World of Pandora.  150.437577   \n",
       "1  At the end of the world, the adventure begins.  139.082615   \n",
       "2                           A Plan No One Escapes  107.376788   \n",
       "3                                 The Legend Ends  112.312950   \n",
       "4        They're taking adventure to new lengths.   48.681969   \n",
       "\n",
       "                                                cast  \\\n",
       "0  [Jake Sully, Sam Worthington, Neytiri, Zoe Sal...   \n",
       "1  [Captain Jack Sparrow, Johnny Depp, Will Turne...   \n",
       "2  [James Bond, Daniel Craig, Blofeld, Christoph ...   \n",
       "3  [Bruce Wayne / Batman, Christian Bale, Alfred ...   \n",
       "4  [Flynn Rider (voice), Zachary Levi, Rapunzel (...   \n",
       "\n",
       "                                                crew  \n",
       "0  [Stephen E. Rivkin, James Cameron, James Camer...  \n",
       "1  [Gore Verbinski, Jerry Bruckheimer, Ted Elliot...  \n",
       "2  [Sam Mendes, John Logan, John Logan, Lee Smith...  \n",
       "3  [Charles Roven, Christopher Nolan, Christopher...  \n",
       "4  [John Lasseter, Dan Fogelman, Roy Conli, Mark ...  "
      ]
     },
     "execution_count": 34,
     "metadata": {},
     "output_type": "execute_result"
    }
   ],
   "source": [
    "# New dataset which we will clean in the later steps\n",
    "train_df.head()"
   ]
  },
  {
   "cell_type": "code",
   "execution_count": 35,
   "metadata": {
    "cell_id": "19e28fc57ebe4f8881444191628657f5",
    "deepnote_cell_type": "code",
    "deepnote_table_loading": false,
    "deepnote_table_state": {
     "filters": [],
     "pageIndex": 1,
     "pageSize": 10,
     "sortBy": []
    },
    "deepnote_to_be_reexecuted": false,
    "execution_millis": 12,
    "execution_start": 1683247657129,
    "source_hash": "1e8cc7a9"
   },
   "outputs": [
    {
     "data": {
      "application/vnd.deepnote.dataframe.v3+json": {
       "column_count": 10,
       "columns": [
        {
         "dtype": "int64",
         "name": "id",
         "stats": {
          "histogram": [
           {
            "bin_end": 23073.8,
            "bin_start": 268,
            "count": 10
           },
           {
            "bin_end": 45879.6,
            "bin_start": 23073.8,
            "count": 0
           },
           {
            "bin_end": 68685.4,
            "bin_start": 45879.6,
            "count": 3
           },
           {
            "bin_end": 91491.2,
            "bin_start": 68685.4,
            "count": 0
           },
           {
            "bin_end": 114297,
            "bin_start": 91491.2,
            "count": 0
           },
           {
            "bin_end": 137102.8,
            "bin_start": 114297,
            "count": 0
           },
           {
            "bin_end": 159908.6,
            "bin_start": 137102.8,
            "count": 0
           },
           {
            "bin_end": 182714.4,
            "bin_start": 159908.6,
            "count": 0
           },
           {
            "bin_end": 205520.19999999998,
            "bin_start": 182714.4,
            "count": 1
           },
           {
            "bin_end": 228326,
            "bin_start": 205520.19999999998,
            "count": 2
           }
          ],
          "max": "228326",
          "min": "268",
          "nan_count": 0,
          "unique_count": 16
         }
        },
        {
         "dtype": "object",
         "name": "genres",
         "stats": {
          "categories": [
           {
            "count": 2,
            "name": "['Drama']"
           },
           {
            "count": 1,
            "name": "['Action', 'Crime', 'Drama', 'Thriller']"
           },
           {
            "count": 13,
            "name": "13 others"
           }
          ],
          "nan_count": 0,
          "unique_count": 16
         }
        },
        {
         "dtype": "object",
         "name": "keywords",
         "stats": {
          "categories": [
           {
            "count": 1,
            "name": "['dc comics', 'crime fighter', 'terrorist', 'secret identity', 'burglar', 'hostage drama', 'time bomb', 'gotham city', 'vigilante', 'cover-up', 'superhero', 'villainess', 'tragic hero', 'terrorism', 'destruction', 'catwoman', 'cat burglar', 'imax', 'flood', 'criminal underworld', 'batman']"
           },
           {
            "count": 1,
            "name": "['himalaya', 'martial arts', 'dc comics', 'crime fighter', 'secret identity', 'undercover', 'hero', 'loss of father', 'society', 'gotham city', 'vigilante', 'superhero', 'based on comic book', 'rivalry', 'tragic hero', 'ninja', 'good vs evil', 'crime', 'super powers', 'haunted by the past', 'evil doctor', 'escapade', 'master villain', 'fighting crime', 'unfulfillment', 'love and romance', 'unfulfilled love']"
           },
           {
            "count": 14,
            "name": "14 others"
           }
          ],
          "nan_count": 0,
          "unique_count": 16
         }
        },
        {
         "dtype": "object",
         "name": "production_company",
         "stats": {
          "categories": [
           {
            "count": 4,
            "name": "[]"
           },
           {
            "count": 1,
            "name": "['Legendary Pictures', 'Warner Bros.', 'DC Entertainment', 'Syncopy']"
           },
           {
            "count": 11,
            "name": "11 others"
           }
          ],
          "nan_count": 0,
          "unique_count": 16
         }
        },
        {
         "dtype": "object",
         "name": "title",
         "stats": {
          "categories": [
           {
            "count": 2,
            "name": "Batman"
           },
           {
            "count": 1,
            "name": "The Dark Knight Rises"
           },
           {
            "count": 13,
            "name": "13 others"
           }
          ],
          "nan_count": 0,
          "unique_count": 15
         }
        },
        {
         "dtype": "object",
         "name": "overview",
         "stats": {
          "categories": [
           {
            "count": 1,
            "name": "Following the death of District Attorney Harvey Dent, Batman assumes responsibility for Dent's crimes to protect the late attorney's reputation and is subsequently hunted by the Gotham City Police Department. Eight years later, Batman encounters the mysterious Selina Kyle and the villainous Bane, a new terrorist leader who overwhelms Gotham's finest. The Dark Knight resurfaces to protect a city that has branded him an enemy."
           },
           {
            "count": 1,
            "name": "Driven by tragedy, billionaire Bruce Wayne dedicates his life to uncovering and defeating the corruption that plagues his home, Gotham City.  Unable to work within the system, he instead creates a new identity, a symbol of fear for the criminal underworld - The Batman."
           },
           {
            "count": 14,
            "name": "14 others"
           }
          ],
          "nan_count": 0,
          "unique_count": 16
         }
        },
        {
         "dtype": "object",
         "name": "tagline",
         "stats": {
          "categories": [
           {
            "count": 1,
            "name": "The Legend Ends"
           },
           {
            "count": 13,
            "name": "13 others"
           },
           {
            "count": 2,
            "name": "Missing"
           }
          ],
          "nan_count": 2,
          "unique_count": 14
         }
        },
        {
         "dtype": "float64",
         "name": "popularity",
         "stats": {
          "histogram": [
           {
            "bin_end": 11.505007700000002,
            "bin_start": 0.001117,
            "count": 6
           },
           {
            "bin_end": 23.008898400000003,
            "bin_start": 11.505007700000002,
            "count": 0
           },
           {
            "bin_end": 34.512789100000006,
            "bin_start": 23.008898400000003,
            "count": 1
           },
           {
            "bin_end": 46.016679800000006,
            "bin_start": 34.512789100000006,
            "count": 3
           },
           {
            "bin_end": 57.520570500000005,
            "bin_start": 46.016679800000006,
            "count": 2
           },
           {
            "bin_end": 69.0244612,
            "bin_start": 57.520570500000005,
            "count": 1
           },
           {
            "bin_end": 80.5283519,
            "bin_start": 69.0244612,
            "count": 0
           },
           {
            "bin_end": 92.0322426,
            "bin_start": 80.5283519,
            "count": 0
           },
           {
            "bin_end": 103.5361333,
            "bin_start": 92.0322426,
            "count": 1
           },
           {
            "bin_end": 115.040024,
            "bin_start": 103.5361333,
            "count": 2
           }
          ],
          "max": "115.040024",
          "min": "0.001117",
          "nan_count": 0,
          "unique_count": 16
         }
        },
        {
         "dtype": "object",
         "name": "cast",
         "stats": {
          "categories": [
           {
            "count": 1,
            "name": "['Bruce Wayne / Batman', 'Christian Bale', 'Alfred Pennyworth', 'Michael Caine', 'James Gordon', 'Gary Oldman', 'Selina Kyle / Catwoman', 'Anne Hathaway', 'Bane', 'Tom Hardy', 'Miranda Tate', 'Marion Cotillard', 'Blake', 'Joseph Gordon-Levitt', 'Lucius Fox', 'Morgan Freeman', 'Dr. Jonathan Crane / Scarecrow', 'Cillian Murphy', 'Jen', 'Juno Temple', \"Ra's Al Ghul\", 'Liam Neeson', 'Deputy Commissioner Foley', 'Matthew Modine', 'Dr. Pavel', 'Alon Aboutboul', 'Daggett', 'Ben Mendelsohn', 'The Mayor', 'Nestor Carbonell', \"Young Ra's Al Ghul\", 'Josh Pence', 'Prisoner', 'Tom Conti', 'Young Talia Al Ghul', 'Joey King', 'Mercenary Security #1', 'Warren Brown', 'Captain Jones', 'Daniel Sunjata', 'Special Ops Sergeant', 'Sam Kennard', 'Hooded Man #2', 'Aliash Tepina', 'Caterer', 'Nick Julian', 'Maid', 'Miranda Nolan', 'Maid', 'Claire Julien', 'CIA Op', 'Aidan Gillen', 'Stryver', 'Burn Gorman', 'Congressman', 'Brett Cullen', 'Ross', 'Reggie Lee', 'DWP Man', 'Joseph Lyle Taylor', 'Fr. Reilly', 'Chris Ellis', 'SWAT in Dive Bar', 'Duane Henry', 'SWAT in Alley', 'James Harvey Ward', 'Cop in Manhole', 'Gonzalo Menendez', 'Sewer Thug #1', 'Cameron Jack', 'Sewer Thug #2', 'Lex Daniel', 'Mark', 'Tyler Dean Flores', 'Doctor', 'Thomas Lennon', 'Yuppie', 'Trevor White', 'Allen', 'Rob Brown', 'Exchange Security Chief', 'Fredric Lehne', 'Female Security Guard', 'Courtney Munch', 'Paparazzi #1', 'Chris Hill', 'Paparazzi #2', 'Travis Guba', 'Rich Twit', 'Jay Benedict', 'Officer Simon Jansen', 'Will Estes', 'Shoe Shine Man at GSE', 'David Dayan Fisher', 'Trader #1', 'Glen Powell', 'Trader #3', 'Russ Fega', 'Valet at Museum', 'Andres Perez-Molina', 'Veteran Cop', 'Brent Briscoe', 'Fredericks', 'John Nolan', '2 Star Air Force General', 'Oliver Cotton', 'Airport Cop', 'Mark Killeen', 'Analyst #1', 'Sarah Goldberg', 'Analyst #2', 'John MacMillan', 'Army Captain at Bridge', 'Robert Wisdom', 'Cement Truck Driver', 'Ronnie Gene Blevins', 'CIA Analyst', 'John Hollingworth', 'Cop with Gordon', 'Ian Bohen', 'Blind Prisoner', 'Uri Gavriel', 'Ex-Prisoner at River', 'Noel Gugliemi', 'Gangbanger', 'Hector Atreyu Ruiz', 'Huge Inmate', 'Patrick Cox', 'Kid with Apple', 'Aramis Knight', 'Barsad', 'Josh Stewart', 'President', 'William Devane', 'Skinny Prisoner', 'David Gyasi', 'Special Forces #2', 'Patrick Jordan', 'Mercenary at City Hall', 'Joshua Elijah Reese', 'Uniform', 'Desmond Harrington', 'Bomb Truck Driver', 'Mychael Bates', \"Wayne's Lawyer\", 'Tomas Arana', 'Applied Sciences Tech #1', 'Peter Holden', 'Applied Sciences Tech #2', 'David Monahan', \"Lawyer's Clerk\", 'Jillian Armenante', 'Greeter at Museum', 'Aja Evans', 'Valet at Wayne Enterprises', 'Aldous Davidson', 'Warden at Blackgate', 'Wade Williams', 'Waiter in Florence Café', 'Jake Canuso', 'Janitor at GSE', 'Massi Furlan', 'Mercenary Security #4', 'Christopher Judge', 'Board Member #2', 'Patrick Leahy', 'Uniform #2', 'Todd Gearhart', 'Gotham City Police Officer (uncredited)', 'Marc Abbink', 'Young Stock Broker (uncredited)', 'Isiah Adams', 'Gotham City Police Officer (uncredited)', 'Charlie Alejandro', 'Former Upscaler (uncredited)', 'Robert Arensen', 'Angry Mobster / Prisoner (uncredited)', 'Grant Babbitt', 'Gotham Rogues Fan (uncredited)', 'Fileena Bahris', 'Mercenary (uncredited)', 'Rick Bolander', 'Police Officer (uncredited)', 'Kyle Patrick Brennan', 'Gotham City Police Officer (uncredited)', 'Scott Churchson', 'Gotham Rogues Coach (uncredited)', 'Bill Cowher', 'Pentagon Navy Petty (uncredited)', 'Graham Curry', 'Reporter (uncredited)', 'Stephanie Domini Ehlert', 'Older Upscale Person (uncredited)', 'John Farrer', 'Prisoner / Thug (uncredited)', 'Frank Fata', 'Stock Broker (uncredited)', 'Christopher Bryan Gomez', 'Thug (uncredited)', 'Vito Grassi', 'Stockbroker in Snipers Scoop - Stock Exchange (uncredited)', 'Michael Wren Gucciardo', 'Prisoner (uncredited)', 'Sam Harris', 'Police Officer (uncredited)', 'Ed Heavey', 'Gotham Police Officer / Fan (uncredited)', 'John W. Iwanonkiw', \"Gordon's Cop #4 (uncredited)\", 'Cindy Jackson', 'Boom Operator News Crew (uncredited)', 'Daniel Jordano', 'Gothamite (uncredited)', 'William Kania', 'Gotham Rogues Fan (uncredited)', 'Tiffany Kemp', 'Stock Broker (uncredited)', 'Sun Jae Kim', 'Thug (uncredited)', 'Hrvoje Klecz', 'Wall Street Broker (uncredited)', 'Alex Kruz', 'Gotham City Police Officer (uncredited)', 'Tyler La Marr', 'Thug (uncredited)', 'LeJon', 'Gotham City Police Officer (uncredited)', 'Paul Jude Letersky', 'Prisoner (uncredited)', 'Joe Lipari', 'Tourist (uncredited)', 'Silvia Lombardo', 'Gotham Rogues Fan (uncredited)', 'Jorge Mardel', 'Gotham Rogues Fan (uncredited)', 'Cale McConnell', 'Gotham City Police Officer (uncredited)', 'David Dale McCue', 'Gotham Rogues Fan (uncredited)', 'Tiffany Sander McKenzie', 'Angry Mobster (uncredited)', 'Allen Merritt', 'Wayne Enterprises Security (uncredited)', 'Olan Montgomery', 'Mercenary (uncredited)', 'Alex Moore', 'Gotham City Police Officer (uncredited)', 'Shane Nolan', 'Prisoner / Thug (uncredited)', 'Jackson Nunn', 'Gotham City News Cameraman (uncredited)', \"Joseph O'Brien\", 'Prison Guard (uncredited)', 'Michael Papajohn', 'Prisoner / Mob (uncredited)', 'Salomon Passariello', 'Gotham Stock Trader (uncredited)', 'Kyle David Pierce', 'Gotham Rogues Player (uncredited)', 'Troy Polamalu', 'Gotham Police Officer (uncredited)', 'Michael Power', 'Thug (uncredited)', 'James Rawlings', 'Doris in Black (uncredited)', 'Kirsten Roeters', 'Gotham Rogues Player (uncredited)', 'Ben Roethlisberger', 'Gotham Police Officer (uncredited)', 'Mark Roman', 'Thug (uncredited)', 'Anthony J. Sacco', 'Angry Thug (uncredited)', 'Eric Salazar', 'Hot Football Fan (uncredited)', 'Emily Schooley', 'Gotham Rogues Owner (uncredited)', 'Thomas Tull', 'Thug (uncredited)', 'Chris Vaina', 'Prisoner (voice) (uncredited)', 'Vincent van Ommen', 'Gotham City Press (uncredited)', 'Michelle Vezzani', 'Gotham Rogues Fan (uncredited)', 'Barbara Vincent', 'Gotham City Police Officer (uncredited)', 'Justin Michael Woods', 'Mercenary Soldier (uncredited)', 'Jason Yee', 'Gotham Citizen (uncredited)', 'Maria Zambrana', 'Gotham City Police Officer (uncredited)', 'John Zion', 'Thug (uncredited)', 'Alex Ziwak', 'Gotham City Police Officer (uncredited)', 'Tommy Bayiokos', 'Football Fan (uncredited)', 'Matthew Gooley', 'Cop (uncredited)', 'Jeff Moffitt', 'Football Fan (uncredited)', 'Mark Falvo', 'Thug (uncredited)', 'Diogo Hausen', 'Prisoner (uncredited)', 'Gary Sievers', 'Mercenary (uncredited)', 'Orion McCabe', 'Court Room Thug (uncredited)', 'London May', 'Gothamite (uncredited)', 'James Quinn', 'Thug #2 in Basement', 'Daniel Newman']"
           },
           {
            "count": 1,
            "name": "['Bruce Wayne / Batman', 'Christian Bale', 'Alfred Pennyworth', 'Michael Caine', 'Henri Ducard', 'Liam Neeson', 'Rachel Dawes', 'Katie Holmes', 'Jim Gordon', 'Gary Oldman', 'Dr. Jonathan Crane / Scarecrow', 'Cillian Murphy', 'Carmine Falcone', 'Tom Wilkinson', 'Lucius Fox', 'Morgan Freeman', 'Earle', 'Rutger Hauer', \"Ra's Al Ghul\", 'Ken Watanabe', 'Flass', 'Mark Boone Junior', 'Thomas Wayne', 'Linus Roache', 'Finch', 'Larry Holden', 'Judge Faden', 'Gerard Murphy', 'Loeb', 'Colin McFarlane', 'Little Boy', 'Jack Gleeson', 'Crane Thug #1', 'T.J. Ramini', 'Crane Thug #2', 'Kieran Hurley', 'Blonde Female Reporter / Assassin', 'Catherine Porter', 'Bruce Wayne als Kind', 'Gus Lewis', 'Homeless Man', 'Rade Serbedzija', 'Martha Wayne', 'Sara Stewart', 'Joe Chill', 'Richard Brake', 'Rachel Dawes - age 8', 'Emma Lockhart', 'Jessica', 'Christine Adams', 'Fredericks', 'John Nolan', 'Courthouse Reporter #1', 'Karen David', 'Courthouse Reporter #2', 'Jonathan D. Ellis', \"Faden's Limo Driver\", 'Tamer Hassan', 'Uniformed Policeman #1', 'Ronan Leahy', 'Old Asian Prisoner', 'Vincent Wong', 'Bhutanese Prison Guard #1', 'Tom Wu', 'Bhutanese Prison Guard #2', 'Mark Chiu', 'Enormous Prisoner', 'Turbo Kong', 'Chinese Police Officer', 'Sai-Kit Yung', 'Chinese Police Officer', 'Chike Chan', 'Stocky Chinese Man', 'Jamie Hayden', 'Jumpy Thug', 'David Murray', 'Dock Thug', 'Darragh Kelly', 'Dock Thug', 'John Kazek', 'Dock Cop', 'Joseph Rye', 'Dock Cop', 'Kwaku Ankomah', 'Police Prison Official', 'Jo Martin', 'Wayne Enterprises Executive', 'Charles Edwards', 'Female Restaurant Guest', 'Lucy Russell', 'Male Restaurant Guest', 'Mark Straker', 'Male Restaurant Guest', 'Timothy Deenihan', 'Restaurant Blonde #1', 'Flavia Masetto', 'Restaurant Blonde #2', 'Emily Steven-Daly', 'Maitre D', 'David Bedella', 'Gotham Dock Employee', 'Martin McDougall', 'Arkham Thug #1', 'Noah Lee Margetts', 'Arkham Thug #2', 'Joe Hanley', 'Arkham Thug #3', 'Karl Shiels', 'Arkham Uniformed Policeman', 'Roger Griffiths', 'Arkham Lunatic', 'Stephen Walters', 'Arkham Chase Cop', 'Richard Laing', 'Gotham Car Cop', 'Matt Miller', 'Captain Simonson', 'Risteard Cooper', 'Older Gotham Water Board Technician', 'Shane Rimmer', 'Younger Gotham Water Board Technician', 'Jeremy Theobald', 'Gotham Society Dame', 'Alexandra Bastedo', 'Narrows Bridge Cop', 'John Judd', 'Farmer', 'Soo Hee Ding', 'Transit Cop', 'Phill Curr', 'Mrs. Dawes', 'Sarah Wateridge', 'Basement Club Manager', 'Charlie Kranz', 'Bad Swat Cop #1', 'Terry McMahon', 'Liquor Store Owner', 'Cedric Young', 'Victor Zsas', 'Tim Booth', 'Valet', 'Tom Nolan', 'Hazmat Technician', 'Roger Yuan', 'Narrows Teenager #1', 'Joe Sargent', 'Narrows Teenager #2', 'Emmanuel Idowu', 'Narrows Resident', 'Mel Taylor', 'Barbara Gordon', 'Ilyssa Fradin', 'Uniformed Policeman', 'Andrew Pleavin', 'Driving Cop', 'Jeff Christian', 'Old Himalayan Man', 'Tenzin Gyurme', 'Himalayan Child', 'Tenzin Clive Ball', 'Arkham Lunatic Cell Mate', 'John Burke', 'Arkham Asylum Nurse', 'Earlene Bentley', 'Arkham Asylum Orderly', 'Alex Moggridge', \"Asian Man - Ra's Al Ghul Decoy\", 'Jay Buozzi', 'Opera Performer', 'Rory Campbell', 'Opera Performer Margaret - Soprano', 'Poppy Tierney', 'League of Shadows Warriors', 'Spencer Wilding', 'League of Shadows Warriors', 'Mark Smith', 'League of Shadows Warriors', 'Dave Legeno', 'League of Shadows Warriors', 'Khan Bonfils', 'League of Shadows Warriors', 'Ruben Halse', 'African Boy in Rags', 'Jordan Shaw', 'Narrows Cop', 'Dominic Burgess', 'Additional Restaurant Guest #1', 'Nadia Cameron-Blakey', 'Bridge Cop', 'Jeff Tanner', 'Falafel Stand Vendor', 'Omar Mostafa', 'Pedestrian', 'Leon Delroy Williams', 'Caterer', 'Fabio Cardascia', 'League of Shadows Warriors (uncredited)', 'Dean Alexandrou', 'League of Shadows Warriors (uncredited)', 'Joey Ansah', 'League of Shadows Warriors (uncredited)', 'Jon Foo', 'League of Shadows Warriors (uncredited)', 'Emil Martirossian', 'League of Shadows Warriors (uncredited)', 'Mark Strange', 'Passenger (uncredited)', 'Lasco Atkins', 'Ghotam Car Cop (uncredited)', 'Rick Avery', 'Fighting Shadow Warrior (uncredited)', 'James Embree', 'Narrows Person (uncredited)', 'Gil Kolirin', 'Opera Hag (uncredited)', 'Jane Osborn', 'Narrows Rioter (uncredited)', 'Dan Poole', 'Shadow Warrior (uncredited)', 'Tommy Gunn', 'Victor Zsasz Attorney (uncredited)', 'Philip Harvey', 'Opera Hag (uncredited)', 'Russell Wilcox', 'Gotham Police Officer (uncredited)', 'Ray Donn']"
           },
           {
            "count": 14,
            "name": "14 others"
           }
          ],
          "nan_count": 0,
          "unique_count": 16
         }
        },
        {
         "dtype": "object",
         "name": "crew",
         "stats": {
          "categories": [
           {
            "count": 1,
            "name": "['Charles Roven', 'Christopher Nolan', 'Christopher Nolan', 'Christopher Nolan', 'Christopher Nolan', 'Jonathan Nolan', 'Emma Thomas', 'David S. Goyer', 'Lee Smith', 'Michael Uslan', 'Benjamin Melniker', 'Thomas Tull', 'Kevin De La Noy', 'Karl McMillan', 'Mike Chambers', 'Emmanuel Pappas', 'Michael Murray', 'Thomas Hayslip', 'Claudia Dehmel']"
           },
           {
            "count": 1,
            "name": "['Larry J. Franco', 'Charles Roven', 'Christopher Nolan', 'Christopher Nolan', 'Emma Thomas', 'David S. Goyer', 'Lee Smith', 'Lorne Orleans', 'Michael Uslan', 'Benjamin Melniker', 'Mark Mostyn', 'Aurelia Abate', 'Rohan Claassen']"
           },
           {
            "count": 14,
            "name": "14 others"
           }
          ],
          "nan_count": 0,
          "unique_count": 16
         }
        },
        {
         "dtype": "int64",
         "name": "_deepnote_index_column"
        }
       ],
       "row_count": 16,
       "rows": [
        {
         "_deepnote_index_column": "738",
         "cast": "['George', 'Billy Ray Cyrus', 'Pamela', 'Heather Locklear', 'Rachel', 'Ahnaise Christmas', 'Beth', 'Arabella Field', 'Kate', 'Mo Collins', 'Young Willy', 'Sidney Franklin', 'Michael', 'Robert Gossett', 'Alan', 'David Haack', 'Vicki', 'Judith Hoag', 'Freddy', 'Ted Hutton', 'T.V. Commentator', 'Steven B. Jarnicki', 'Steve', 'Eric Allan Kramer', 'Young George Barron', 'Kevin Montgomery', 'Ally', 'Katie Leclerc', 'Mira', 'Cheryl Noe', 'Rick', 'Gene Rathswohl', 'Margie', 'Patricia Neal', 'Ellie', 'Olesya Rulin', 'Doctor', 'Stephen Michael Shearer', 'Linda', 'Mona Jo Trowbridge', 'Willy', 'Myk Watford', 'Tony', 'David Zayas']",
         "crew": "[]",
         "genres": "['Drama']",
         "id": "19615",
         "keywords": "[]",
         "overview": "A real estate developer goes to his 25th high school reunion without his wife, and finds his old teenage band playing. They get him up on stage for a couple of songs, and convince him come to a rehearsal. His wife is outraged that he played. His daughter thinks it's kind of cool. His Mother, in a retirement home, encourages him to enjoy life. He feels some temporary relief from the pressures of business complexities and the stress of marriage tensions. The band gets booked at a popular bar, which leads to a last minute booking to open for a reunion tour, with the possibility of additional tour dates. But the band has internal conflicts. He faces a tough decision to give it a shot even though it will affect his marriage, his family, particularly his daughter, and his business.",
         "popularity": "1.546169",
         "production_company": "[]",
         "tagline": "It's about the music",
         "title": "Flying By"
        },
        {
         "_deepnote_index_column": "748",
         "cast": "['Burke / Forsythe Electrocution', 'Viggo Mortensen', 'Katherine Walker', 'Chelsea Field', 'Warden Eaton Sharpe', 'Lane Smith', 'Cresus', 'Lincoln Kilpatrick', 'Rabbitt', 'Tom Everett', 'Lasagna', 'Ivan Kane', 'Sandor', 'André De Shields', 'Tiny', 'Tom Lister Jr.', \"'Rhino' Reynolds\", 'Stephen E. Little', 'Brian Young', 'Mickey Yablans', 'Hershey', 'Larry \"Flash\" Jenkins', 'Captain Horton', 'Arlen Dean Snyder', 'Wallace', 'Hal Landon Jr.', 'Johnson', 'Matt Kanen', 'Kramer', 'Rod Lockman']",
         "crew": "['Renny Harlin', 'Charles Band', 'C. Courtney Joyner', 'Andy Horvitch', 'Irwin Yablans']",
         "genres": "['Crime', 'Drama', 'Horror', 'Thriller']",
         "id": "48309",
         "keywords": "['prison', 'prisoner', 'revenge', 'haunting', 'electric chair']",
         "overview": "After Charles Forsyth was sent to the electric chair for a crime he didn't commit, he forever haunts the prison where he was executed. Flash forward several years when the prison is reopened, under the control of its new warden Eaton Sharpe, a former security guard who framed Charlie. When prisoners are ordered to break down the wall to the execution room, they unknowingly release the angry spirit of Charles Forsyth, a powerful being distributing his murderous rage to all, leading up to the Warden himself.",
         "popularity": "7.605291",
         "production_company": "['Empire Pictures']",
         "tagline": "Horror Has A New Home.",
         "title": "Prison"
        },
        {
         "_deepnote_index_column": "769",
         "cast": "['Billy Brown', 'Vincent Gallo', 'Layla', 'Christina Ricci', 'Jimmy Brown', 'Ben Gazzara', 'Bookmacher', 'Mickey Rourke', 'Wendy Balsam', 'Rosanna Arquette', 'Jan Brown', 'Anjelica Huston', 'Sonny', 'Jan-Michael Vincent', 'TV Sportscaster', 'Kevin Pollak', 'TV Sportscaster', 'Alex Karras', 'Little Billy', 'John Sansone', 'The Donut Clerk', 'Manny Fried', 'Don Shanks', 'John Rummel', 'Scott Woods', 'Bob Wahl', 'The Judge', 'Penny Wolfgang', 'The Motel Clerk', 'Anthony Mydcarz', 'The Guy in the Bathroom', 'Michael Maciejewski', \"The Denny's Host\", 'Jack Claxton', 'The Prison Guard', 'Dominic Telesco', 'The Cafe Owner', 'Carl Marchi', \"The Denny's Waitress\", 'Kim Krah', 'The Info Booth Clerk', 'Julius Digennaro', 'The Tap Teacher', 'Terry Braunstein', 'The Gas Station Clerk', 'Jack Hunter', 'The Bus Station Woman', 'Norma Gelose', 'Tap Dance Kid', 'Jamie King', 'Tap Dance Kid', 'Janel King']",
         "crew": "['Curtiss Clayton', 'Chris Hanley', 'Vincent Gallo', 'Vincent Gallo', 'Alison Bagnall']",
         "genres": "['Romance', 'Comedy', 'Crime', 'Drama']",
         "id": "9464",
         "keywords": "['prison', 'gambling', 'compulsive gambling']",
         "overview": "Billy is released after five years in prison. In the next moment, he kidnaps teenage student Layla and visits his parents with her, pretending she is his girlfriend and they will soon marry.",
         "popularity": "10.009994",
         "production_company": "[]",
         "tagline": "Billy Brown just got out of jail. Now he's going to serve some real time. He's going home.",
         "title": "Buffalo '66"
        },
        {
         "_deepnote_index_column": "772",
         "cast": "['Batman / Bruce Wayne', 'Adam West', 'Robin / Dick Grayson', 'Burt Ward', 'The Catwoman / Kitka', 'Lee Meriwether', 'The Joker', 'Cesar Romero', 'The Penguin', 'Burgess Meredith', 'The Riddler', 'Frank Gorshin', 'Alfred', 'Alan Napier', 'Commissioner Gordon', 'Neil Hamilton', \"Chief O'Hara\", 'Stafford Repp', 'Aunt Harriet Cooper', 'Madge Blake', 'Commodore Schmidlapp', 'Reginald Denny', 'Vice Admiral Fangschliester', 'Milton Frome', 'Bluebeard', 'Gil Perkins', 'Morgan', 'Dick Crockett', 'Quetch', 'George Sawaya', 'President Lyndon B. Johnson', 'Van Williams', 'Man', 'Jack LaLanne', 'Cop', 'Arthur Tovey']",
         "crew": "['William Dozier', 'Leslie H. Martinson', 'Lorenzo Semple Jr.']",
         "genres": "['Family', 'Adventure', 'Comedy', 'Science Fiction', 'Crime']",
         "id": "2661",
         "keywords": "['submarine', 'dc comics', 'missile', 'shark attack', 'rescue', 'shark', 'shark repelent', 'black cat', 'super powers']",
         "overview": "The Dynamic Duo faces four super-villains who plan to hold the world for ransom with the help of a secret invention that instantly dehydrates people.",
         "popularity": "9.815394",
         "production_company": "['Twentieth Century Fox Film Corporation', 'DC Comics', 'William Dozier Productions', 'Greenlawn Productions']",
         "tagline": "He's Here Big As Life In A Real Bat-Epic",
         "title": "Batman"
        },
        {
         "_deepnote_index_column": "781",
         "cast": "['Scoop', 'Bokeem Woodbine', 'Shenae Brown', 'Sharon Leal', 'Alonso', 'Wayne Brady', 'Turtle', 'Quinton Aaron', 'Tim Brown', 'Hill Harper', 'Neecy', 'La La Anthony']",
         "crew": "['Tommy Oliver', 'Tommy Oliver', 'Tommy Oliver', 'Tommy Oliver']",
         "genres": "['Drama']",
         "id": "215918",
         "keywords": "['drug addiction', 'father daughter relationship', 'semi autobiographical']",
         "overview": "1982, a film inspired by true events at the onset of the crack epidemic in Philadelphia, tells the story of a father and his efforts to protect his gifted daughter from the insidious epidemic which has literally come home via her drug-addicted mother. As his wife becomes more distant and unreliable, he struggles to raise his daughter on his own, while still striving to help his wife become clean. In the process, he learns some hard truths about his marriage and his life, which will ultimately test him as a parent, a husband, and a man",
         "popularity": "0.175885",
         "production_company": "[]",
         "tagline": "nan",
         "title": "1982"
        },
        {
         "_deepnote_index_column": "789",
         "cast": "['Sweet Pea', \"Wilbur 'Hi-Fi' White\", \"Martel 'Too Sweet' Gordone\", 'Leon Isaac Kennedy', 'Eugene T. Lawson', 'Thommy Pollard ', 'Linda (as Hazel Spear)', 'Hazel Spears ', 'Jesse Amos', 'Donovan Womack ', \"Hezzikia 'Seldom Seen' Jackson (as Floyd Chatman)\", \"Floyd 'Wildcat' Chatman \", 'Peaches', 'Gloria Delaney ', \"'Half Dead' Johnson\", 'Badja Djola', 'Lieutenant Arnsworth', 'Chuck Mitchell ', 'Poindexter', 'Cepheus Jaxon ', 'Lying Latney Winborn', 'Dwaine Fobbs ', 'Cheese', 'Ernest Wilson ', 'Magilla Gorilla', 'Will Richardson ', 'Nut #1', 'Elijah Mitchell ', 'Mook', 'Tony Andrea ']",
         "crew": "['Jamaa Fanaka', 'Jamaa Fanaka']",
         "genres": "['Action', 'Drama']",
         "id": "65448",
         "keywords": "['prison', 'boxing']",
         "overview": "A hitchhiker named Martel Gordone gets in a fight with two bikers over a prostitute, and one of the bikers is killed. Gordone is arrested and sent to prison, where he joins the prison's boxing team in an effort to secure an early parole and to establish his dominance over the prison's toughest gang.",
         "popularity": "0.001117",
         "production_company": "[]",
         "tagline": "There's only one way out, and 100 fools stand in the way!",
         "title": "Penitentiary"
        }
       ]
      },
      "text/html": [
       "<div>\n",
       "<style scoped>\n",
       "    .dataframe tbody tr th:only-of-type {\n",
       "        vertical-align: middle;\n",
       "    }\n",
       "\n",
       "    .dataframe tbody tr th {\n",
       "        vertical-align: top;\n",
       "    }\n",
       "\n",
       "    .dataframe thead th {\n",
       "        text-align: right;\n",
       "    }\n",
       "</style>\n",
       "<table border=\"1\" class=\"dataframe\">\n",
       "  <thead>\n",
       "    <tr style=\"text-align: right;\">\n",
       "      <th></th>\n",
       "      <th>id</th>\n",
       "      <th>genres</th>\n",
       "      <th>keywords</th>\n",
       "      <th>production_company</th>\n",
       "      <th>title</th>\n",
       "      <th>overview</th>\n",
       "      <th>tagline</th>\n",
       "      <th>popularity</th>\n",
       "      <th>cast</th>\n",
       "      <th>crew</th>\n",
       "    </tr>\n",
       "  </thead>\n",
       "  <tbody>\n",
       "    <tr>\n",
       "      <th>3</th>\n",
       "      <td>49026</td>\n",
       "      <td>[Action, Crime, Drama, Thriller]</td>\n",
       "      <td>[dc comics, crime fighter, terrorist, secret i...</td>\n",
       "      <td>[Legendary Pictures, Warner Bros., DC Entertai...</td>\n",
       "      <td>The Dark Knight Rises</td>\n",
       "      <td>Following the death of District Attorney Harve...</td>\n",
       "      <td>The Legend Ends</td>\n",
       "      <td>112.312950</td>\n",
       "      <td>[Bruce Wayne / Batman, Christian Bale, Alfred ...</td>\n",
       "      <td>[Charles Roven, Christopher Nolan, Christopher...</td>\n",
       "    </tr>\n",
       "    <tr>\n",
       "      <th>69</th>\n",
       "      <td>272</td>\n",
       "      <td>[Action, Crime, Drama]</td>\n",
       "      <td>[himalaya, martial arts, dc comics, crime figh...</td>\n",
       "      <td>[DC Comics, Legendary Pictures, Warner Bros., ...</td>\n",
       "      <td>Batman Begins</td>\n",
       "      <td>Driven by tragedy, billionaire Bruce Wayne ded...</td>\n",
       "      <td>Evil fears the knight.</td>\n",
       "      <td>115.040024</td>\n",
       "      <td>[Bruce Wayne / Batman, Christian Bale, Alfred ...</td>\n",
       "      <td>[Larry J. Franco, Charles Roven, Christopher N...</td>\n",
       "    </tr>\n",
       "    <tr>\n",
       "      <th>154</th>\n",
       "      <td>414</td>\n",
       "      <td>[Action, Crime, Fantasy]</td>\n",
       "      <td>[riddle, dc comics, rose, gotham city, partner...</td>\n",
       "      <td>[Warner Bros., Polygram Filmed Entertainment]</td>\n",
       "      <td>Batman Forever</td>\n",
       "      <td>The Dark Knight of Gotham City confronts a das...</td>\n",
       "      <td>Courage now, truth always...</td>\n",
       "      <td>48.205606</td>\n",
       "      <td>[Bruce Wayne / Batman, Val Kilmer, Harvey Dent...</td>\n",
       "      <td>[Tim Burton, Joel Schumacher, Lee Batchler, Ja...</td>\n",
       "    </tr>\n",
       "    <tr>\n",
       "      <th>211</th>\n",
       "      <td>364</td>\n",
       "      <td>[Action, Fantasy]</td>\n",
       "      <td>[holiday, corruption, double life, dc comics, ...</td>\n",
       "      <td>[PolyGram Filmed Entertainment, Warner Bros.]</td>\n",
       "      <td>Batman Returns</td>\n",
       "      <td>Having defeated the Joker, Batman now faces th...</td>\n",
       "      <td>The Bat, the Cat, the Penguin.</td>\n",
       "      <td>59.113174</td>\n",
       "      <td>[Bruce Wayne/Batman, Michael Keaton, Oswald Co...</td>\n",
       "      <td>[Tim Burton, Tim Burton, Chris Lebenzon, Denis...</td>\n",
       "    </tr>\n",
       "    <tr>\n",
       "      <th>224</th>\n",
       "      <td>9023</td>\n",
       "      <td>[Western, Animation, Adventure, Comedy, Family]</td>\n",
       "      <td>[human being, freedom, mustang, rivalry, wildl...</td>\n",
       "      <td>[DreamWorks SKG, DreamWorks Animation]</td>\n",
       "      <td>Spirit: Stallion of the Cimarron</td>\n",
       "      <td>As a wild stallion travels across the frontier...</td>\n",
       "      <td>Leader. Hero. Legend.</td>\n",
       "      <td>41.670544</td>\n",
       "      <td>[Spirit (voice), Matt Damon, The Colonel (voic...</td>\n",
       "      <td>[Jeffrey Katzenberg, Kelly Asbury, John Fusco,...</td>\n",
       "    </tr>\n",
       "    <tr>\n",
       "      <th>257</th>\n",
       "      <td>188207</td>\n",
       "      <td>[Action, Adventure]</td>\n",
       "      <td>[mythology, zeus, ancient greece, demigod, cit...</td>\n",
       "      <td>[Millennium Films]</td>\n",
       "      <td>The Legend of Hercules</td>\n",
       "      <td>In Ancient Greece 1200 B.C., a queen succumbs ...</td>\n",
       "      <td>Every Man Has a Destiny</td>\n",
       "      <td>25.020428</td>\n",
       "      <td>[Hercules, Kellan Lutz, Sotiris, Liam McIntyre...</td>\n",
       "      <td>[Sean Hood, Boaz Davidson, Renny Harlin, Renny...</td>\n",
       "    </tr>\n",
       "    <tr>\n",
       "      <th>304</th>\n",
       "      <td>10530</td>\n",
       "      <td>[Adventure, Animation, Drama, Family]</td>\n",
       "      <td>[culture clash, settler, forbidden love, colon...</td>\n",
       "      <td>[Walt Disney Pictures, Walt Disney Feature Ani...</td>\n",
       "      <td>Pocahontas</td>\n",
       "      <td>History comes gloriously to life in Disney's e...</td>\n",
       "      <td>An American legend comes to life.</td>\n",
       "      <td>47.845589</td>\n",
       "      <td>[Pocahontas (voice), Irene Bedard, John Smith ...</td>\n",
       "      <td>[Susannah Grant, H. Lee Peterson, Philip LaZeb...</td>\n",
       "    </tr>\n",
       "    <tr>\n",
       "      <th>344</th>\n",
       "      <td>228326</td>\n",
       "      <td>[Romance, Animation, Adventure, Comedy, Family...</td>\n",
       "      <td>[love triangle, afterlife, day of the dead, bu...</td>\n",
       "      <td>[Twentieth Century Fox Film Corporation, Reel ...</td>\n",
       "      <td>The Book of Life</td>\n",
       "      <td>The journey of Manolo, a young man who is torn...</td>\n",
       "      <td>NaN</td>\n",
       "      <td>34.890999</td>\n",
       "      <td>[Manolo (voice), Diego Luna, Joaquin (voice), ...</td>\n",
       "      <td>[Guillermo del Toro, Doug Langdale, Jorge R. G...</td>\n",
       "    </tr>\n",
       "    <tr>\n",
       "      <th>423</th>\n",
       "      <td>268</td>\n",
       "      <td>[Fantasy, Action]</td>\n",
       "      <td>[double life, dc comics, dual identity, chemic...</td>\n",
       "      <td>[PolyGram Filmed Entertainment, The Guber-Pete...</td>\n",
       "      <td>Batman</td>\n",
       "      <td>The Dark Knight of Gotham City begins his war ...</td>\n",
       "      <td>Have you ever danced with the devil in the pal...</td>\n",
       "      <td>44.104469</td>\n",
       "      <td>[Jack Napier/The Joker, Jack Nicholson, Bruce ...</td>\n",
       "      <td>[Ray Lovejoy, Tim Burton, Warren Skaaren, Pete...</td>\n",
       "    </tr>\n",
       "    <tr>\n",
       "      <th>492</th>\n",
       "      <td>812</td>\n",
       "      <td>[Animation, Family, Comedy, Adventure, Fantasy...</td>\n",
       "      <td>[magic, musical, cartoon, princess, love, come...</td>\n",
       "      <td>[Walt Disney Pictures]</td>\n",
       "      <td>Aladdin</td>\n",
       "      <td>Princess Jasmine grows tired of being forced t...</td>\n",
       "      <td>Wish granted!</td>\n",
       "      <td>92.982009</td>\n",
       "      <td>[Aladdin \"Al\" (voice), Scott Weinger, Genie (v...</td>\n",
       "      <td>[Ted Elliott, Terry Rossio, Ron Clements, Ron ...</td>\n",
       "    </tr>\n",
       "    <tr>\n",
       "      <th>738</th>\n",
       "      <td>19615</td>\n",
       "      <td>[Drama]</td>\n",
       "      <td>[]</td>\n",
       "      <td>[]</td>\n",
       "      <td>Flying By</td>\n",
       "      <td>A real estate developer goes to his 25th high ...</td>\n",
       "      <td>It's about the music</td>\n",
       "      <td>1.546169</td>\n",
       "      <td>[George, Billy Ray Cyrus, Pamela, Heather Lock...</td>\n",
       "      <td>[]</td>\n",
       "    </tr>\n",
       "    <tr>\n",
       "      <th>748</th>\n",
       "      <td>48309</td>\n",
       "      <td>[Crime, Drama, Horror, Thriller]</td>\n",
       "      <td>[prison, prisoner, revenge, haunting, electric...</td>\n",
       "      <td>[Empire Pictures]</td>\n",
       "      <td>Prison</td>\n",
       "      <td>After Charles Forsyth was sent to the electric...</td>\n",
       "      <td>Horror Has A New Home.</td>\n",
       "      <td>7.605291</td>\n",
       "      <td>[Burke / Forsythe Electrocution, Viggo Mortens...</td>\n",
       "      <td>[Renny Harlin, Charles Band, C. Courtney Joyne...</td>\n",
       "    </tr>\n",
       "    <tr>\n",
       "      <th>769</th>\n",
       "      <td>9464</td>\n",
       "      <td>[Romance, Comedy, Crime, Drama]</td>\n",
       "      <td>[prison, gambling, compulsive gambling]</td>\n",
       "      <td>[]</td>\n",
       "      <td>Buffalo '66</td>\n",
       "      <td>Billy is released after five years in prison. ...</td>\n",
       "      <td>Billy Brown just got out of jail. Now he's goi...</td>\n",
       "      <td>10.009994</td>\n",
       "      <td>[Billy Brown, Vincent Gallo, Layla, Christina ...</td>\n",
       "      <td>[Curtiss Clayton, Chris Hanley, Vincent Gallo,...</td>\n",
       "    </tr>\n",
       "    <tr>\n",
       "      <th>772</th>\n",
       "      <td>2661</td>\n",
       "      <td>[Family, Adventure, Comedy, Science Fiction, C...</td>\n",
       "      <td>[submarine, dc comics, missile, shark attack, ...</td>\n",
       "      <td>[Twentieth Century Fox Film Corporation, DC Co...</td>\n",
       "      <td>Batman</td>\n",
       "      <td>The Dynamic Duo faces four super-villains who ...</td>\n",
       "      <td>He's Here Big As Life In A Real Bat-Epic</td>\n",
       "      <td>9.815394</td>\n",
       "      <td>[Batman / Bruce Wayne, Adam West, Robin / Dick...</td>\n",
       "      <td>[William Dozier, Leslie H. Martinson, Lorenzo ...</td>\n",
       "    </tr>\n",
       "    <tr>\n",
       "      <th>781</th>\n",
       "      <td>215918</td>\n",
       "      <td>[Drama]</td>\n",
       "      <td>[drug addiction, father daughter relationship,...</td>\n",
       "      <td>[]</td>\n",
       "      <td>1982</td>\n",
       "      <td>1982, a film inspired by true events at the on...</td>\n",
       "      <td>NaN</td>\n",
       "      <td>0.175885</td>\n",
       "      <td>[Scoop, Bokeem Woodbine, Shenae Brown, Sharon ...</td>\n",
       "      <td>[Tommy Oliver, Tommy Oliver, Tommy Oliver, Tom...</td>\n",
       "    </tr>\n",
       "    <tr>\n",
       "      <th>789</th>\n",
       "      <td>65448</td>\n",
       "      <td>[Action, Drama]</td>\n",
       "      <td>[prison, boxing]</td>\n",
       "      <td>[]</td>\n",
       "      <td>Penitentiary</td>\n",
       "      <td>A hitchhiker named Martel Gordone gets in a fi...</td>\n",
       "      <td>There's only one way out, and 100 fools stand ...</td>\n",
       "      <td>0.001117</td>\n",
       "      <td>[Sweet Pea, Wilbur 'Hi-Fi' White, Martel 'Too ...</td>\n",
       "      <td>[Jamaa Fanaka, Jamaa Fanaka]</td>\n",
       "    </tr>\n",
       "  </tbody>\n",
       "</table>\n",
       "</div>"
      ],
      "text/plain": [
       "         id                                             genres  \\\n",
       "3     49026                   [Action, Crime, Drama, Thriller]   \n",
       "69      272                             [Action, Crime, Drama]   \n",
       "154     414                           [Action, Crime, Fantasy]   \n",
       "211     364                                  [Action, Fantasy]   \n",
       "224    9023    [Western, Animation, Adventure, Comedy, Family]   \n",
       "257  188207                                [Action, Adventure]   \n",
       "304   10530              [Adventure, Animation, Drama, Family]   \n",
       "344  228326  [Romance, Animation, Adventure, Comedy, Family...   \n",
       "423     268                                  [Fantasy, Action]   \n",
       "492     812  [Animation, Family, Comedy, Adventure, Fantasy...   \n",
       "738   19615                                            [Drama]   \n",
       "748   48309                   [Crime, Drama, Horror, Thriller]   \n",
       "769    9464                    [Romance, Comedy, Crime, Drama]   \n",
       "772    2661  [Family, Adventure, Comedy, Science Fiction, C...   \n",
       "781  215918                                            [Drama]   \n",
       "789   65448                                    [Action, Drama]   \n",
       "\n",
       "                                              keywords  \\\n",
       "3    [dc comics, crime fighter, terrorist, secret i...   \n",
       "69   [himalaya, martial arts, dc comics, crime figh...   \n",
       "154  [riddle, dc comics, rose, gotham city, partner...   \n",
       "211  [holiday, corruption, double life, dc comics, ...   \n",
       "224  [human being, freedom, mustang, rivalry, wildl...   \n",
       "257  [mythology, zeus, ancient greece, demigod, cit...   \n",
       "304  [culture clash, settler, forbidden love, colon...   \n",
       "344  [love triangle, afterlife, day of the dead, bu...   \n",
       "423  [double life, dc comics, dual identity, chemic...   \n",
       "492  [magic, musical, cartoon, princess, love, come...   \n",
       "738                                                 []   \n",
       "748  [prison, prisoner, revenge, haunting, electric...   \n",
       "769            [prison, gambling, compulsive gambling]   \n",
       "772  [submarine, dc comics, missile, shark attack, ...   \n",
       "781  [drug addiction, father daughter relationship,...   \n",
       "789                                   [prison, boxing]   \n",
       "\n",
       "                                    production_company  \\\n",
       "3    [Legendary Pictures, Warner Bros., DC Entertai...   \n",
       "69   [DC Comics, Legendary Pictures, Warner Bros., ...   \n",
       "154      [Warner Bros., Polygram Filmed Entertainment]   \n",
       "211      [PolyGram Filmed Entertainment, Warner Bros.]   \n",
       "224             [DreamWorks SKG, DreamWorks Animation]   \n",
       "257                                 [Millennium Films]   \n",
       "304  [Walt Disney Pictures, Walt Disney Feature Ani...   \n",
       "344  [Twentieth Century Fox Film Corporation, Reel ...   \n",
       "423  [PolyGram Filmed Entertainment, The Guber-Pete...   \n",
       "492                             [Walt Disney Pictures]   \n",
       "738                                                 []   \n",
       "748                                  [Empire Pictures]   \n",
       "769                                                 []   \n",
       "772  [Twentieth Century Fox Film Corporation, DC Co...   \n",
       "781                                                 []   \n",
       "789                                                 []   \n",
       "\n",
       "                                title  \\\n",
       "3               The Dark Knight Rises   \n",
       "69                      Batman Begins   \n",
       "154                    Batman Forever   \n",
       "211                    Batman Returns   \n",
       "224  Spirit: Stallion of the Cimarron   \n",
       "257            The Legend of Hercules   \n",
       "304                        Pocahontas   \n",
       "344                  The Book of Life   \n",
       "423                            Batman   \n",
       "492                           Aladdin   \n",
       "738                         Flying By   \n",
       "748                            Prison   \n",
       "769                       Buffalo '66   \n",
       "772                            Batman   \n",
       "781                              1982   \n",
       "789                      Penitentiary   \n",
       "\n",
       "                                              overview  \\\n",
       "3    Following the death of District Attorney Harve...   \n",
       "69   Driven by tragedy, billionaire Bruce Wayne ded...   \n",
       "154  The Dark Knight of Gotham City confronts a das...   \n",
       "211  Having defeated the Joker, Batman now faces th...   \n",
       "224  As a wild stallion travels across the frontier...   \n",
       "257  In Ancient Greece 1200 B.C., a queen succumbs ...   \n",
       "304  History comes gloriously to life in Disney's e...   \n",
       "344  The journey of Manolo, a young man who is torn...   \n",
       "423  The Dark Knight of Gotham City begins his war ...   \n",
       "492  Princess Jasmine grows tired of being forced t...   \n",
       "738  A real estate developer goes to his 25th high ...   \n",
       "748  After Charles Forsyth was sent to the electric...   \n",
       "769  Billy is released after five years in prison. ...   \n",
       "772  The Dynamic Duo faces four super-villains who ...   \n",
       "781  1982, a film inspired by true events at the on...   \n",
       "789  A hitchhiker named Martel Gordone gets in a fi...   \n",
       "\n",
       "                                               tagline  popularity  \\\n",
       "3                                      The Legend Ends  112.312950   \n",
       "69                              Evil fears the knight.  115.040024   \n",
       "154                       Courage now, truth always...   48.205606   \n",
       "211                     The Bat, the Cat, the Penguin.   59.113174   \n",
       "224                              Leader. Hero. Legend.   41.670544   \n",
       "257                            Every Man Has a Destiny   25.020428   \n",
       "304                  An American legend comes to life.   47.845589   \n",
       "344                                                NaN   34.890999   \n",
       "423  Have you ever danced with the devil in the pal...   44.104469   \n",
       "492                                      Wish granted!   92.982009   \n",
       "738                               It's about the music    1.546169   \n",
       "748                             Horror Has A New Home.    7.605291   \n",
       "769  Billy Brown just got out of jail. Now he's goi...   10.009994   \n",
       "772           He's Here Big As Life In A Real Bat-Epic    9.815394   \n",
       "781                                                NaN    0.175885   \n",
       "789  There's only one way out, and 100 fools stand ...    0.001117   \n",
       "\n",
       "                                                  cast  \\\n",
       "3    [Bruce Wayne / Batman, Christian Bale, Alfred ...   \n",
       "69   [Bruce Wayne / Batman, Christian Bale, Alfred ...   \n",
       "154  [Bruce Wayne / Batman, Val Kilmer, Harvey Dent...   \n",
       "211  [Bruce Wayne/Batman, Michael Keaton, Oswald Co...   \n",
       "224  [Spirit (voice), Matt Damon, The Colonel (voic...   \n",
       "257  [Hercules, Kellan Lutz, Sotiris, Liam McIntyre...   \n",
       "304  [Pocahontas (voice), Irene Bedard, John Smith ...   \n",
       "344  [Manolo (voice), Diego Luna, Joaquin (voice), ...   \n",
       "423  [Jack Napier/The Joker, Jack Nicholson, Bruce ...   \n",
       "492  [Aladdin \"Al\" (voice), Scott Weinger, Genie (v...   \n",
       "738  [George, Billy Ray Cyrus, Pamela, Heather Lock...   \n",
       "748  [Burke / Forsythe Electrocution, Viggo Mortens...   \n",
       "769  [Billy Brown, Vincent Gallo, Layla, Christina ...   \n",
       "772  [Batman / Bruce Wayne, Adam West, Robin / Dick...   \n",
       "781  [Scoop, Bokeem Woodbine, Shenae Brown, Sharon ...   \n",
       "789  [Sweet Pea, Wilbur 'Hi-Fi' White, Martel 'Too ...   \n",
       "\n",
       "                                                  crew  \n",
       "3    [Charles Roven, Christopher Nolan, Christopher...  \n",
       "69   [Larry J. Franco, Charles Roven, Christopher N...  \n",
       "154  [Tim Burton, Joel Schumacher, Lee Batchler, Ja...  \n",
       "211  [Tim Burton, Tim Burton, Chris Lebenzon, Denis...  \n",
       "224  [Jeffrey Katzenberg, Kelly Asbury, John Fusco,...  \n",
       "257  [Sean Hood, Boaz Davidson, Renny Harlin, Renny...  \n",
       "304  [Susannah Grant, H. Lee Peterson, Philip LaZeb...  \n",
       "344  [Guillermo del Toro, Doug Langdale, Jorge R. G...  \n",
       "423  [Ray Lovejoy, Tim Burton, Warren Skaaren, Pete...  \n",
       "492  [Ted Elliott, Terry Rossio, Ron Clements, Ron ...  \n",
       "738                                                 []  \n",
       "748  [Renny Harlin, Charles Band, C. Courtney Joyne...  \n",
       "769  [Curtiss Clayton, Chris Hanley, Vincent Gallo,...  \n",
       "772  [William Dozier, Leslie H. Martinson, Lorenzo ...  \n",
       "781  [Tommy Oliver, Tommy Oliver, Tommy Oliver, Tom...  \n",
       "789                       [Jamaa Fanaka, Jamaa Fanaka]  "
      ]
     },
     "execution_count": 35,
     "metadata": {},
     "output_type": "execute_result"
    }
   ],
   "source": [
    "# Making sure the project movies are in the dataset before moving on\n",
    "train_df[train_df.title.isin(req_movies)]"
   ]
  },
  {
   "attachments": {},
   "cell_type": "markdown",
   "metadata": {
    "cell_id": "c130a3856c8d4b39983ea87e0189ffcd",
    "deepnote_cell_type": "markdown"
   },
   "source": [
    "## Text Mining"
   ]
  },
  {
   "cell_type": "code",
   "execution_count": 36,
   "metadata": {
    "cell_id": "b14fd707f69941a793ddc4ea2f1f5504",
    "deepnote_cell_type": "code",
    "deepnote_to_be_reexecuted": false,
    "execution_millis": 1609,
    "execution_start": 1683247657142,
    "source_hash": "9b6ced2a"
   },
   "outputs": [],
   "source": [
    "# Libaries we will use for the text mining and ML\n",
    "import nltk\n",
    "from nltk.corpus import stopwords\n",
    "from string import punctuation as punc\n",
    "from sklearn.feature_extraction.text import TfidfVectorizer\n",
    "from sklearn.metrics.pairwise import cosine_similarity\n",
    "from nltk.stem import PorterStemmer\n",
    "import re"
   ]
  },
  {
   "cell_type": "code",
   "execution_count": 37,
   "metadata": {
    "cell_id": "25c62d9f4f2d49e3be4daa9ee365f3f2",
    "deepnote_cell_type": "code",
    "deepnote_to_be_reexecuted": false,
    "execution_millis": 31,
    "execution_start": 1683247658755,
    "source_hash": "f1aa6382"
   },
   "outputs": [
    {
     "name": "stderr",
     "output_type": "stream",
     "text": [
      "[nltk_data] Downloading package stopwords to /root/nltk_data...\n",
      "[nltk_data]   Unzipping corpora/stopwords.zip.\n"
     ]
    }
   ],
   "source": [
    "# Had to download stopwords on DeepNote\n",
    "nltk.download('stopwords')\n",
    "pd.set_option('mode.chained_assignment', None)"
   ]
  },
  {
   "cell_type": "code",
   "execution_count": 38,
   "metadata": {
    "cell_id": "14eabb95fbdb46df98206d8c17a4e62a",
    "deepnote_cell_type": "code",
    "deepnote_to_be_reexecuted": false,
    "execution_millis": 3,
    "execution_start": 1683247658792,
    "source_hash": "9b3e6943"
   },
   "outputs": [],
   "source": [
    "# Loops through a column and removes stop words also lowers it\n",
    "def column_unpacker(lis):\n",
    "    extract = \" \".join([word.lower() for word in lis if word not in stopwords.words('english')])\n",
    "    return extract"
   ]
  },
  {
   "cell_type": "code",
   "execution_count": 39,
   "metadata": {
    "cell_id": "3e4e1e98814c49b19e53873f0976f466",
    "deepnote_cell_type": "code",
    "deepnote_to_be_reexecuted": false,
    "execution_millis": 5,
    "execution_start": 1683247658801,
    "source_hash": "f4c645f3"
   },
   "outputs": [],
   "source": [
    "# Cleans the cast and crew names\n",
    "def cast_crew(name):\n",
    "    new_name = \" \".join([\"\".join(letter.lower().replace(\" \", '') for letter in word if letter not in punc) for word in name])\n",
    "    return new_name"
   ]
  },
  {
   "cell_type": "code",
   "execution_count": 40,
   "metadata": {
    "cell_id": "75dd8e955f4d4959be213b7ea38a9705",
    "deepnote_cell_type": "code",
    "deepnote_to_be_reexecuted": false,
    "execution_millis": 1211,
    "execution_start": 1683247658814,
    "source_hash": "8f11b97e"
   },
   "outputs": [],
   "source": [
    "# Create another dataframe for the new text data\n",
    "text_df = pd.DataFrame()\n",
    "\n",
    "text_df['id'] = train_df['id']\n",
    "text_df['title'] = train_df['title']\n",
    "text_df['overview'] = train_df['overview']\n",
    "text_df['tagline'] = train_df['tagline']\n",
    "text_df['genres'] = train_df['genres'].apply(lambda x: column_unpacker(x))\n",
    "text_df['keywords'] = train_df['keywords'].apply(lambda x: column_unpacker(x))\n",
    "text_df['cast'] = train_df['cast'].apply(lambda x: cast_crew(x))\n",
    "text_df['crew'] = train_df['crew'].apply(lambda x: cast_crew(x))\n",
    "text_df['production_companies'] = train_df['production_company'].apply(lambda x: cast_crew(x))"
   ]
  },
  {
   "cell_type": "code",
   "execution_count": 41,
   "metadata": {
    "cell_id": "46a1e76eeaf4493a9851a792f35d360d",
    "deepnote_cell_type": "code",
    "deepnote_table_invalid": false,
    "deepnote_table_loading": false,
    "deepnote_table_state": {
     "filters": [],
     "pageIndex": 1,
     "pageSize": 10,
     "sortBy": []
    },
    "deepnote_to_be_reexecuted": false,
    "execution_millis": 21,
    "execution_start": 1683247660037,
    "source_hash": "c672c751"
   },
   "outputs": [
    {
     "data": {
      "application/vnd.deepnote.dataframe.v3+json": {
       "column_count": 9,
       "columns": [
        {
         "dtype": "int64",
         "name": "id",
         "stats": {
          "histogram": [
           {
            "bin_end": 20921.2,
            "bin_start": 285,
            "count": 2
           },
           {
            "bin_end": 41557.4,
            "bin_start": 20921.2,
            "count": 1
           },
           {
            "bin_end": 62193.600000000006,
            "bin_start": 41557.4,
            "count": 1
           },
           {
            "bin_end": 82829.8,
            "bin_start": 62193.600000000006,
            "count": 0
           },
           {
            "bin_end": 103466,
            "bin_start": 82829.8,
            "count": 0
           },
           {
            "bin_end": 124102.20000000001,
            "bin_start": 103466,
            "count": 0
           },
           {
            "bin_end": 144738.4,
            "bin_start": 124102.20000000001,
            "count": 0
           },
           {
            "bin_end": 165374.6,
            "bin_start": 144738.4,
            "count": 0
           },
           {
            "bin_end": 186010.80000000002,
            "bin_start": 165374.6,
            "count": 0
           },
           {
            "bin_end": 206647,
            "bin_start": 186010.80000000002,
            "count": 1
           }
          ],
          "max": "206647",
          "min": "285",
          "nan_count": 0,
          "unique_count": 5
         }
        },
        {
         "dtype": "object",
         "name": "title",
         "stats": {
          "categories": [
           {
            "count": 1,
            "name": "Avatar"
           },
           {
            "count": 1,
            "name": "Pirates of the Caribbean: At World's End"
           },
           {
            "count": 3,
            "name": "3 others"
           }
          ],
          "nan_count": 0,
          "unique_count": 5
         }
        },
        {
         "dtype": "object",
         "name": "overview",
         "stats": {
          "categories": [
           {
            "count": 1,
            "name": "In the 22nd century, a paraplegic Marine is dispatched to the moon Pandora on a unique mission, but becomes torn between following orders and protecting an alien civilization."
           },
           {
            "count": 1,
            "name": "Captain Barbossa, long believed to be dead, has come back to life and is headed to the edge of the Earth with Will Turner and Elizabeth Swann. But nothing is quite as it seems."
           },
           {
            "count": 3,
            "name": "3 others"
           }
          ],
          "nan_count": 0,
          "unique_count": 5
         }
        },
        {
         "dtype": "object",
         "name": "tagline",
         "stats": {
          "categories": [
           {
            "count": 1,
            "name": "Enter the World of Pandora."
           },
           {
            "count": 1,
            "name": "At the end of the world, the adventure begins."
           },
           {
            "count": 3,
            "name": "3 others"
           }
          ],
          "nan_count": 0,
          "unique_count": 5
         }
        },
        {
         "dtype": "object",
         "name": "genres",
         "stats": {
          "categories": [
           {
            "count": 1,
            "name": "action adventure fantasy science fiction"
           },
           {
            "count": 1,
            "name": "adventure fantasy action"
           },
           {
            "count": 3,
            "name": "3 others"
           }
          ],
          "nan_count": 0,
          "unique_count": 5
         }
        },
        {
         "dtype": "object",
         "name": "keywords",
         "stats": {
          "categories": [
           {
            "count": 1,
            "name": "culture clash future space war space colony society space travel futuristic romance space alien tribe alien planet cgi marine soldier battle love affair anti war power relations mind and soul 3d"
           },
           {
            "count": 1,
            "name": "ocean drug abuse exotic island east india trading company love of one's life traitor shipwreck strong woman ship alliance calypso afterlife fighter pirate swashbuckler aftercreditsstinger"
           },
           {
            "count": 3,
            "name": "3 others"
           }
          ],
          "nan_count": 0,
          "unique_count": 5
         }
        },
        {
         "dtype": "object",
         "name": "cast",
         "stats": {
          "categories": [
           {
            "count": 1,
            "name": "jakesully samworthington neytiri zoesaldana drgraceaugustine sigourneyweaver colquaritch stephenlang trudychacon michellerodriguez selfridge giovanniribisi normspellman joeldavidmoore moat cchpounder eytukan wesstudi tsutey lazalonso drmaxpatel dileeprao lylewainfleet mattgerald privatefike seananthonymoran cryovaultmedtech jasonwhyte venturestarcrewchief scottlawrence lockuptrooper kellykilgour shuttlepilot jamespatrickpitt shuttlecopilot seanpatrickmurphy shuttlecrewchief peterdillon tractoroperatortroupe kevindorman dragongunshippilot kelsonhenderson dragongunshipgunner davidvanhorn dragongunshipnavigator jacobtomuri suit1 michaelblainrozgay suit2 joncurry ambientroomtech lukehawker ambientroomtechtroupe woodyschultz horseclanleader petermensah linkroomtech soniayee basketballavatartroupe jahnelcurfman basketballavatar ilramchoi navichild kylawarren troupe lisaroumain troupe debrawilson troupe chrismala troupe taylorkibby troupe jodielandau troupe julielamm troupe cullenbmadden troupe josephbradymadden troupe frankietorres troupe austinwilson troupe sarawilson troupe tamicawashingtonmiller opcenterstaff lucybriant opcenterstaff nathanmeister opcenterstaff gerryblair opcenterstaff matthewchamberlain opcenterstaff paulyates opcenterdutyofficer wraywilson opcenterstaff jamesgaylyn dancer melvinlenoclarkiii dancer carvonfutrell dancer brandonjelkes dancer micahmoch dancer hanniyahmuhammad dancer christophernolen dancer christaoliver dancer aprilmariethomas dancer bravitaathreatt miningchiefuncredited colinbleasdale veteranmineruncredited mikebodnar richarduncredited mattclayton naviuncredited nicoledionne trooperuncredited jamieharrison trooperuncredited allanhenry groundtechnicianuncredited anthonyingruber flightcrewmechanicuncredited ashleyjeffery samsonpilot deanknowsley trooperuncredited josephmikahunt bansheeuncredited terrynotary soldieruncredited kaipantano blasttechnicianuncredited loganpithyou vindumraahuncredited stuartpollock herouncredited raja opscentreworkeruncredited garethruck engineeruncredited rhiansheehan colquaritchsmechsuituncredited tjstorm femalemarineuncredited jodietaylor ikranclanleaderuncredited aliciavelabailey geologistuncredited richardwhiteside naviuncredited nikiezambo ambientroomtechtroupe julenerenee"
           },
           {
            "count": 1,
            "name": "captainjacksparrow johnnydepp willturner orlandobloom elizabethswann keiraknightley williambootstrapbillturner stellanskarsgård captainsaofeng chowyunfat captaindavyjones billnighy captainhectorbarbossa geoffreyrush admiraljamesnorrington jackdavenport joshameegibbs kevinmcnally lordcutlerbeckett tomhollander tiadalma naomieharris governorweatherbyswann jonathanpryce captainteaguesparrow keithrichards pintel leearenberg ragetti mackenziecrook lieutenanttheodoregroves gregellis cotton davidbailie marty martinklebba ianmercer davidschofield scarlett laurenmaher giselle vanessabranch mullroy angusbarnett murtogg gilesnew taihuang reggielee henryturner dominicscottkay mistressching takayofischer lieutenantgreitzer davidmeunier hadras hokwantse clacker andybeckwith penrod peterdonaldbadalamentiii cottonsparrotvoice christopherscapp captainteague keithrichards captainjocard hakeemkaekazim captainammand ghassanmassoud"
           },
           {
            "count": 3,
            "name": "3 others"
           }
          ],
          "nan_count": 0,
          "unique_count": 5
         }
        },
        {
         "dtype": "object",
         "name": "crew",
         "stats": {
          "categories": [
           {
            "count": 1,
            "name": "stephenerivkin jamescameron jamescameron jamescameron jamescameron jamescameron jillbrooks jonlandau laetakalogridis johnrefoua alainlalanne chrisdelconte brigitteyorke joycecox jennyfoster cyndiochs"
           },
           {
            "count": 1,
            "name": "goreverbinski jerrybruckheimer tedelliott terryrossio stephenerivkin craigwood mikestenson ericmcleod chadoman peterkohn patsandston"
           },
           {
            "count": 3,
            "name": "3 others"
           }
          ],
          "nan_count": 0,
          "unique_count": 5
         }
        },
        {
         "dtype": "object",
         "name": "production_companies",
         "stats": {
          "categories": [
           {
            "count": 1,
            "name": "ingeniousfilmpartners twentiethcenturyfoxfilmcorporation duneentertainment lightstormentertainment"
           },
           {
            "count": 1,
            "name": "waltdisneypictures jerrybruckheimerfilms secondmateproductions"
           },
           {
            "count": 3,
            "name": "3 others"
           }
          ],
          "nan_count": 0,
          "unique_count": 5
         }
        },
        {
         "dtype": "int64",
         "name": "_deepnote_index_column"
        }
       ],
       "row_count": 5,
       "rows": [
        {
         "_deepnote_index_column": "0",
         "cast": "jakesully samworthington neytiri zoesaldana drgraceaugustine sigourneyweaver colquaritch stephenlang trudychacon michellerodriguez selfridge giovanniribisi normspellman joeldavidmoore moat cchpounder eytukan wesstudi tsutey lazalonso drmaxpatel dileeprao lylewainfleet mattgerald privatefike seananthonymoran cryovaultmedtech jasonwhyte venturestarcrewchief scottlawrence lockuptrooper kellykilgour shuttlepilot jamespatrickpitt shuttlecopilot seanpatrickmurphy shuttlecrewchief peterdillon tractoroperatortroupe kevindorman dragongunshippilot kelsonhenderson dragongunshipgunner davidvanhorn dragongunshipnavigator jacobtomuri suit1 michaelblainrozgay suit2 joncurry ambientroomtech lukehawker ambientroomtechtroupe woodyschultz horseclanleader petermensah linkroomtech soniayee basketballavatartroupe jahnelcurfman basketballavatar ilramchoi navichild kylawarren troupe lisaroumain troupe debrawilson troupe chrismala troupe taylorkibby troupe jodielandau troupe julielamm troupe cullenbmadden tro…",
         "crew": "stephenerivkin jamescameron jamescameron jamescameron jamescameron jamescameron jillbrooks jonlandau laetakalogridis johnrefoua alainlalanne chrisdelconte brigitteyorke joycecox jennyfoster cyndiochs",
         "genres": "action adventure fantasy science fiction",
         "id": "19995",
         "keywords": "culture clash future space war space colony society space travel futuristic romance space alien tribe alien planet cgi marine soldier battle love affair anti war power relations mind and soul 3d",
         "overview": "In the 22nd century, a paraplegic Marine is dispatched to the moon Pandora on a unique mission, but becomes torn between following orders and protecting an alien civilization.",
         "production_companies": "ingeniousfilmpartners twentiethcenturyfoxfilmcorporation duneentertainment lightstormentertainment",
         "tagline": "Enter the World of Pandora.",
         "title": "Avatar"
        },
        {
         "_deepnote_index_column": "1",
         "cast": "captainjacksparrow johnnydepp willturner orlandobloom elizabethswann keiraknightley williambootstrapbillturner stellanskarsgård captainsaofeng chowyunfat captaindavyjones billnighy captainhectorbarbossa geoffreyrush admiraljamesnorrington jackdavenport joshameegibbs kevinmcnally lordcutlerbeckett tomhollander tiadalma naomieharris governorweatherbyswann jonathanpryce captainteaguesparrow keithrichards pintel leearenberg ragetti mackenziecrook lieutenanttheodoregroves gregellis cotton davidbailie marty martinklebba ianmercer davidschofield scarlett laurenmaher giselle vanessabranch mullroy angusbarnett murtogg gilesnew taihuang reggielee henryturner dominicscottkay mistressching takayofischer lieutenantgreitzer davidmeunier hadras hokwantse clacker andybeckwith penrod peterdonaldbadalamentiii cottonsparrotvoice christopherscapp captainteague keithrichards captainjocard hakeemkaekazim captainammand ghassanmassoud",
         "crew": "goreverbinski jerrybruckheimer tedelliott terryrossio stephenerivkin craigwood mikestenson ericmcleod chadoman peterkohn patsandston",
         "genres": "adventure fantasy action",
         "id": "285",
         "keywords": "ocean drug abuse exotic island east india trading company love of one's life traitor shipwreck strong woman ship alliance calypso afterlife fighter pirate swashbuckler aftercreditsstinger",
         "overview": "Captain Barbossa, long believed to be dead, has come back to life and is headed to the edge of the Earth with Will Turner and Elizabeth Swann. But nothing is quite as it seems.",
         "production_companies": "waltdisneypictures jerrybruckheimerfilms secondmateproductions",
         "tagline": "At the end of the world, the adventure begins.",
         "title": "Pirates of the Caribbean: At World's End"
        },
        {
         "_deepnote_index_column": "2",
         "cast": "jamesbond danielcraig blofeld christophwaltz madeleine léaseydoux m ralphfiennes lucia monicabellucci q benwhishaw moneypenny naomieharris hinx davebautista c andrewscott tanner rorykinnear mrwhite jesperchristensen marcosciarra alessandrocremona estrella stephaniesigman mexicanmaninlift tenochhuerta mexicanwomaninlift adrianapaz gallo domenicofortunato gallosaccomplice marcozingaro gallosaccomplice stefanoelfidiclaudia qsassistant ianbonar moneypennysboyfriend tamwilliams blofeldslondonhelicopterpilot richardbanham sc019policecommander pipcarter sc019policeofficer simonlenagan priest alessandrobressanello moreau marczinga vogel brigittemillar abrika adelbencherif blofeldsrighthandman gediminasadomaitis lorenzo peppelanzetta francesco francescoarca marco matteotaranto palazzosecurity emilioaniba guerra benitosagredo businessman daitabuchi businessman georgelasha businessman sargonyelda businessman andycheung marshall erickhayden valerian olegmirochnikov fiatdriver antoniosalines stree…",
         "crew": "sammendes johnlogan johnlogan leesmith barbarabroccoli robertwade robertwade nealpurvis nealpurvis callummcdougall jezbutterworth michaelgwilson lauraschultz kendailey kiloupicard timkeene leslielerman",
         "genres": "action adventure crime",
         "id": "206647",
         "keywords": "spy based on novel secret agent sequel mi6 british secret service united kingdom",
         "overview": "A cryptic message from Bond’s past sends him on a trail to uncover a sinister organization. While M battles political forces to keep the secret service alive, Bond peels back the layers of deceit to reveal the terrible truth behind SPECTRE.",
         "production_companies": "columbiapictures danjaq b24",
         "tagline": "A Plan No One Escapes",
         "title": "Spectre"
        },
        {
         "_deepnote_index_column": "3",
         "cast": "brucewaynebatman christianbale alfredpennyworth michaelcaine jamesgordon garyoldman selinakylecatwoman annehathaway bane tomhardy mirandatate marioncotillard blake josephgordonlevitt luciusfox morganfreeman drjonathancranescarecrow cillianmurphy jen junotemple rasalghul liamneeson deputycommissionerfoley matthewmodine drpavel alonaboutboul daggett benmendelsohn themayor nestorcarbonell youngrasalghul joshpence prisoner tomconti youngtaliaalghul joeyking mercenarysecurity1 warrenbrown captainjones danielsunjata specialopssergeant samkennard hoodedman2 aliashtepina caterer nickjulian maid mirandanolan maid clairejulien ciaop aidangillen stryver burngorman congressman brettcullen ross reggielee dwpman josephlyletaylor frreilly chrisellis swatindivebar duanehenry swatinalley jamesharveyward copinmanhole gonzalomenendez sewerthug1 cameronjack sewerthug2 lexdaniel mark tylerdeanflores doctor thomaslennon yuppie trevorwhite allen robbrown exchangesecuritychief fredriclehne femalesecurityguar…",
         "crew": "charlesroven christophernolan christophernolan christophernolan christophernolan jonathannolan emmathomas davidsgoyer leesmith michaeluslan benjaminmelniker thomastull kevindelanoy karlmcmillan mikechambers emmanuelpappas michaelmurray thomashayslip claudiadehmel",
         "genres": "action crime drama thriller",
         "id": "49026",
         "keywords": "dc comics crime fighter terrorist secret identity burglar hostage drama time bomb gotham city vigilante cover-up superhero villainess tragic hero terrorism destruction catwoman cat burglar imax flood criminal underworld batman",
         "overview": "Following the death of District Attorney Harvey Dent, Batman assumes responsibility for Dent's crimes to protect the late attorney's reputation and is subsequently hunted by the Gotham City Police Department. Eight years later, Batman encounters the mysterious Selina Kyle and the villainous Bane, a new terrorist leader who overwhelms Gotham's finest. The Dark Knight resurfaces to protect a city that has branded him an enemy.",
         "production_companies": "legendarypictures warnerbros dcentertainment syncopy",
         "tagline": "The Legend Ends",
         "title": "The Dark Knight Rises"
        },
        {
         "_deepnote_index_column": "4",
         "cast": "flynnridervoice zacharylevi rapunzelvoice mandymoore mothergothelvoice donnamurphy stabbingtonbrothervoice ronperlman captainoftheguardvoice mcgainey bignosethugvoice jeffreytambor hookhandthugvoice bradgarrett shortthugvoice paulftompkins vladvoice richardkiel youngrapunzellittlegirlvoice delaneyrosestein guard1thug1voice nathangreno guard2thug2voice byronhoward guard3voice timmertens",
         "crew": "johnlasseter danfogelman royconli markkennedy timmertens byronhoward nathangreno glenkeane doeriwelchgreiner",
         "genres": "animation family",
         "id": "38757",
         "keywords": "hostage magic horse fairy tale musical princess animation tower blonde woman selfishness healing power based on fairy tale duringcreditsstinger healing gift animal sidekick",
         "overview": "When the kingdom's most wanted-and most charming-bandit Flynn Rider hides out in a mysterious tower, he's taken hostage by Rapunzel, a beautiful and feisty tower-bound teen with 70 feet of magical, golden hair. Flynn's curious captor, who's looking for her ticket out of the tower where she's been locked away for years, strikes a deal with the handsome thief and the unlikely duo sets off on an action-packed escapade, complete with a super-cop horse, an over-protective chameleon and a gruff gang of pub thugs.",
         "production_companies": "waltdisneypictures waltdisneyanimationstudios",
         "tagline": "They're taking adventure to new lengths.",
         "title": "Tangled"
        }
       ]
      },
      "text/html": [
       "<div>\n",
       "<style scoped>\n",
       "    .dataframe tbody tr th:only-of-type {\n",
       "        vertical-align: middle;\n",
       "    }\n",
       "\n",
       "    .dataframe tbody tr th {\n",
       "        vertical-align: top;\n",
       "    }\n",
       "\n",
       "    .dataframe thead th {\n",
       "        text-align: right;\n",
       "    }\n",
       "</style>\n",
       "<table border=\"1\" class=\"dataframe\">\n",
       "  <thead>\n",
       "    <tr style=\"text-align: right;\">\n",
       "      <th></th>\n",
       "      <th>id</th>\n",
       "      <th>title</th>\n",
       "      <th>overview</th>\n",
       "      <th>tagline</th>\n",
       "      <th>genres</th>\n",
       "      <th>keywords</th>\n",
       "      <th>cast</th>\n",
       "      <th>crew</th>\n",
       "      <th>production_companies</th>\n",
       "    </tr>\n",
       "  </thead>\n",
       "  <tbody>\n",
       "    <tr>\n",
       "      <th>0</th>\n",
       "      <td>19995</td>\n",
       "      <td>Avatar</td>\n",
       "      <td>In the 22nd century, a paraplegic Marine is di...</td>\n",
       "      <td>Enter the World of Pandora.</td>\n",
       "      <td>action adventure fantasy science fiction</td>\n",
       "      <td>culture clash future space war space colony so...</td>\n",
       "      <td>jakesully samworthington neytiri zoesaldana dr...</td>\n",
       "      <td>stephenerivkin jamescameron jamescameron james...</td>\n",
       "      <td>ingeniousfilmpartners twentiethcenturyfoxfilmc...</td>\n",
       "    </tr>\n",
       "    <tr>\n",
       "      <th>1</th>\n",
       "      <td>285</td>\n",
       "      <td>Pirates of the Caribbean: At World's End</td>\n",
       "      <td>Captain Barbossa, long believed to be dead, ha...</td>\n",
       "      <td>At the end of the world, the adventure begins.</td>\n",
       "      <td>adventure fantasy action</td>\n",
       "      <td>ocean drug abuse exotic island east india trad...</td>\n",
       "      <td>captainjacksparrow johnnydepp willturner orlan...</td>\n",
       "      <td>goreverbinski jerrybruckheimer tedelliott terr...</td>\n",
       "      <td>waltdisneypictures jerrybruckheimerfilms secon...</td>\n",
       "    </tr>\n",
       "    <tr>\n",
       "      <th>2</th>\n",
       "      <td>206647</td>\n",
       "      <td>Spectre</td>\n",
       "      <td>A cryptic message from Bond’s past sends him o...</td>\n",
       "      <td>A Plan No One Escapes</td>\n",
       "      <td>action adventure crime</td>\n",
       "      <td>spy based on novel secret agent sequel mi6 bri...</td>\n",
       "      <td>jamesbond danielcraig blofeld christophwaltz m...</td>\n",
       "      <td>sammendes johnlogan johnlogan leesmith barbara...</td>\n",
       "      <td>columbiapictures danjaq b24</td>\n",
       "    </tr>\n",
       "    <tr>\n",
       "      <th>3</th>\n",
       "      <td>49026</td>\n",
       "      <td>The Dark Knight Rises</td>\n",
       "      <td>Following the death of District Attorney Harve...</td>\n",
       "      <td>The Legend Ends</td>\n",
       "      <td>action crime drama thriller</td>\n",
       "      <td>dc comics crime fighter terrorist secret ident...</td>\n",
       "      <td>brucewaynebatman christianbale alfredpennywort...</td>\n",
       "      <td>charlesroven christophernolan christophernolan...</td>\n",
       "      <td>legendarypictures warnerbros dcentertainment s...</td>\n",
       "    </tr>\n",
       "    <tr>\n",
       "      <th>4</th>\n",
       "      <td>38757</td>\n",
       "      <td>Tangled</td>\n",
       "      <td>When the kingdom's most wanted-and most charmi...</td>\n",
       "      <td>They're taking adventure to new lengths.</td>\n",
       "      <td>animation family</td>\n",
       "      <td>hostage magic horse fairy tale musical princes...</td>\n",
       "      <td>flynnridervoice zacharylevi rapunzelvoice mand...</td>\n",
       "      <td>johnlasseter danfogelman royconli markkennedy ...</td>\n",
       "      <td>waltdisneypictures waltdisneyanimationstudios</td>\n",
       "    </tr>\n",
       "  </tbody>\n",
       "</table>\n",
       "</div>"
      ],
      "text/plain": [
       "       id                                     title  \\\n",
       "0   19995                                    Avatar   \n",
       "1     285  Pirates of the Caribbean: At World's End   \n",
       "2  206647                                   Spectre   \n",
       "3   49026                     The Dark Knight Rises   \n",
       "4   38757                                   Tangled   \n",
       "\n",
       "                                            overview  \\\n",
       "0  In the 22nd century, a paraplegic Marine is di...   \n",
       "1  Captain Barbossa, long believed to be dead, ha...   \n",
       "2  A cryptic message from Bond’s past sends him o...   \n",
       "3  Following the death of District Attorney Harve...   \n",
       "4  When the kingdom's most wanted-and most charmi...   \n",
       "\n",
       "                                          tagline  \\\n",
       "0                     Enter the World of Pandora.   \n",
       "1  At the end of the world, the adventure begins.   \n",
       "2                           A Plan No One Escapes   \n",
       "3                                 The Legend Ends   \n",
       "4        They're taking adventure to new lengths.   \n",
       "\n",
       "                                     genres  \\\n",
       "0  action adventure fantasy science fiction   \n",
       "1                  adventure fantasy action   \n",
       "2                    action adventure crime   \n",
       "3               action crime drama thriller   \n",
       "4                          animation family   \n",
       "\n",
       "                                            keywords  \\\n",
       "0  culture clash future space war space colony so...   \n",
       "1  ocean drug abuse exotic island east india trad...   \n",
       "2  spy based on novel secret agent sequel mi6 bri...   \n",
       "3  dc comics crime fighter terrorist secret ident...   \n",
       "4  hostage magic horse fairy tale musical princes...   \n",
       "\n",
       "                                                cast  \\\n",
       "0  jakesully samworthington neytiri zoesaldana dr...   \n",
       "1  captainjacksparrow johnnydepp willturner orlan...   \n",
       "2  jamesbond danielcraig blofeld christophwaltz m...   \n",
       "3  brucewaynebatman christianbale alfredpennywort...   \n",
       "4  flynnridervoice zacharylevi rapunzelvoice mand...   \n",
       "\n",
       "                                                crew  \\\n",
       "0  stephenerivkin jamescameron jamescameron james...   \n",
       "1  goreverbinski jerrybruckheimer tedelliott terr...   \n",
       "2  sammendes johnlogan johnlogan leesmith barbara...   \n",
       "3  charlesroven christophernolan christophernolan...   \n",
       "4  johnlasseter danfogelman royconli markkennedy ...   \n",
       "\n",
       "                                production_companies  \n",
       "0  ingeniousfilmpartners twentiethcenturyfoxfilmc...  \n",
       "1  waltdisneypictures jerrybruckheimerfilms secon...  \n",
       "2                        columbiapictures danjaq b24  \n",
       "3  legendarypictures warnerbros dcentertainment s...  \n",
       "4      waltdisneypictures waltdisneyanimationstudios  "
      ]
     },
     "execution_count": 41,
     "metadata": {},
     "output_type": "execute_result"
    }
   ],
   "source": [
    "# The data we will use for ML\n",
    "text_df.head(5)"
   ]
  },
  {
   "cell_type": "code",
   "execution_count": 42,
   "metadata": {
    "cell_id": "62d0d428f76d4322a149ebe390f954be",
    "deepnote_cell_type": "code",
    "deepnote_to_be_reexecuted": false,
    "execution_millis": 11,
    "execution_start": 1683247660064,
    "source_hash": "bd133f7a"
   },
   "outputs": [],
   "source": [
    "# Initialzie the Potter Stemmer\n",
    "ps = PorterStemmer()"
   ]
  },
  {
   "cell_type": "code",
   "execution_count": 43,
   "metadata": {
    "cell_id": "52135ef52d0d4543ba6af6ade4dbf6ae",
    "deepnote_cell_type": "code",
    "deepnote_to_be_reexecuted": false,
    "execution_millis": 5,
    "execution_start": 1683247660072,
    "source_hash": "d68f448c"
   },
   "outputs": [],
   "source": [
    "# Replace missing taglines\n",
    "text_df['tagline'].loc[text_df['tagline'].isna()] = ''"
   ]
  },
  {
   "cell_type": "code",
   "execution_count": 44,
   "metadata": {
    "cell_id": "19f41fe85e404b97a67c05553618c36f",
    "deepnote_cell_type": "code",
    "deepnote_table_loading": false,
    "deepnote_table_state": {
     "filters": [],
     "pageIndex": 0,
     "pageSize": 10,
     "sortBy": []
    },
    "deepnote_to_be_reexecuted": false,
    "execution_millis": 36,
    "execution_start": 1683247660077,
    "source_hash": "7fb2358"
   },
   "outputs": [
    {
     "data": {
      "application/vnd.deepnote.dataframe.v3+json": {
       "column_count": 9,
       "columns": [
        {
         "dtype": "int64",
         "name": "id",
         "stats": {
          "histogram": [
           {
            "bin_end": 0.1,
            "bin_start": 0,
            "count": 0
           },
           {
            "bin_end": 0.2,
            "bin_start": 0.1,
            "count": 0
           },
           {
            "bin_end": 0.30000000000000004,
            "bin_start": 0.2,
            "count": 0
           },
           {
            "bin_end": 0.4,
            "bin_start": 0.30000000000000004,
            "count": 0
           },
           {
            "bin_end": 0.5,
            "bin_start": 0.4,
            "count": 0
           },
           {
            "bin_end": 0.6000000000000001,
            "bin_start": 0.5,
            "count": 0
           },
           {
            "bin_end": 0.7000000000000001,
            "bin_start": 0.6000000000000001,
            "count": 0
           },
           {
            "bin_end": 0.8,
            "bin_start": 0.7000000000000001,
            "count": 0
           },
           {
            "bin_end": 0.9,
            "bin_start": 0.8,
            "count": 0
           },
           {
            "bin_end": 1,
            "bin_start": 0.9,
            "count": 0
           }
          ],
          "max": null,
          "min": null,
          "nan_count": 0,
          "unique_count": 0
         }
        },
        {
         "dtype": "object",
         "name": "title",
         "stats": {
          "categories": [],
          "nan_count": 0,
          "unique_count": 0
         }
        },
        {
         "dtype": "object",
         "name": "overview",
         "stats": {
          "categories": [],
          "nan_count": 0,
          "unique_count": 0
         }
        },
        {
         "dtype": "object",
         "name": "tagline",
         "stats": {
          "categories": [],
          "nan_count": 0,
          "unique_count": 0
         }
        },
        {
         "dtype": "object",
         "name": "genres",
         "stats": {
          "categories": [],
          "nan_count": 0,
          "unique_count": 0
         }
        },
        {
         "dtype": "object",
         "name": "keywords",
         "stats": {
          "categories": [],
          "nan_count": 0,
          "unique_count": 0
         }
        },
        {
         "dtype": "object",
         "name": "cast",
         "stats": {
          "categories": [],
          "nan_count": 0,
          "unique_count": 0
         }
        },
        {
         "dtype": "object",
         "name": "crew",
         "stats": {
          "categories": [],
          "nan_count": 0,
          "unique_count": 0
         }
        },
        {
         "dtype": "object",
         "name": "production_companies",
         "stats": {
          "categories": [],
          "nan_count": 0,
          "unique_count": 0
         }
        },
        {
         "dtype": "int64",
         "name": "_deepnote_index_column"
        }
       ],
       "row_count": 0,
       "rows": []
      },
      "text/html": [
       "<div>\n",
       "<style scoped>\n",
       "    .dataframe tbody tr th:only-of-type {\n",
       "        vertical-align: middle;\n",
       "    }\n",
       "\n",
       "    .dataframe tbody tr th {\n",
       "        vertical-align: top;\n",
       "    }\n",
       "\n",
       "    .dataframe thead th {\n",
       "        text-align: right;\n",
       "    }\n",
       "</style>\n",
       "<table border=\"1\" class=\"dataframe\">\n",
       "  <thead>\n",
       "    <tr style=\"text-align: right;\">\n",
       "      <th></th>\n",
       "      <th>id</th>\n",
       "      <th>title</th>\n",
       "      <th>overview</th>\n",
       "      <th>tagline</th>\n",
       "      <th>genres</th>\n",
       "      <th>keywords</th>\n",
       "      <th>cast</th>\n",
       "      <th>crew</th>\n",
       "      <th>production_companies</th>\n",
       "    </tr>\n",
       "  </thead>\n",
       "  <tbody>\n",
       "  </tbody>\n",
       "</table>\n",
       "</div>"
      ],
      "text/plain": [
       "Empty DataFrame\n",
       "Columns: [id, title, overview, tagline, genres, keywords, cast, crew, production_companies]\n",
       "Index: []"
      ]
     },
     "execution_count": 44,
     "metadata": {},
     "output_type": "execute_result"
    }
   ],
   "source": [
    "# All of the taglines are now not missing which will not affect the ML process\n",
    "text_df.loc[text_df.overview.isna()]"
   ]
  },
  {
   "attachments": {},
   "cell_type": "markdown",
   "metadata": {
    "cell_id": "9683a493faf2489ba63e1cd997581c01",
    "deepnote_cell_type": "markdown"
   },
   "source": [
    "## Stemming"
   ]
  },
  {
   "cell_type": "code",
   "execution_count": 45,
   "metadata": {
    "cell_id": "5190c2e1b0d74d00b740f0c147342ea3",
    "deepnote_cell_type": "code",
    "deepnote_to_be_reexecuted": false,
    "execution_millis": 11,
    "execution_start": 1683247660102,
    "source_hash": "fccbcad6"
   },
   "outputs": [],
   "source": [
    "# Stemming and cleaning process for text data\n",
    "def text_cleaner(text, stemmer):\n",
    "    tokens = re.split('\\W+', text)\n",
    "    clean = \" \".join([stemmer.stem(word).lower() for word in tokens\\\n",
    "                        if word not in stopwords.words('english') and\\\n",
    "                        word not in punc])\n",
    "    return clean"
   ]
  },
  {
   "cell_type": "code",
   "execution_count": 46,
   "metadata": {
    "cell_id": "8082efe3435b46d085958f9c9881de88",
    "deepnote_cell_type": "code",
    "deepnote_to_be_reexecuted": false,
    "execution_millis": 4631,
    "execution_start": 1683247660107,
    "source_hash": "c2ceef9e"
   },
   "outputs": [],
   "source": [
    "# Calling the text cleaner\n",
    "text_df['ps_o'] = text_df['overview'].apply(lambda x: text_cleaner(x, stemmer=ps))\n",
    "text_df['ps_t'] = text_df['tagline'].apply(lambda x: text_cleaner(x, stemmer=ps))"
   ]
  },
  {
   "cell_type": "code",
   "execution_count": 47,
   "metadata": {
    "cell_id": "4a58be44f07b42c2a04d401c646fd88d",
    "deepnote_cell_type": "code",
    "deepnote_to_be_reexecuted": false,
    "execution_millis": 16,
    "execution_start": 1683247664771,
    "source_hash": "67085791"
   },
   "outputs": [
    {
     "data": {
      "application/vnd.deepnote.dataframe.v3+json": {
       "column_count": 9,
       "columns": [
        {
         "dtype": "object",
         "name": "title",
         "stats": {
          "categories": [
           {
            "count": 1,
            "name": "Avatar"
           },
           {
            "count": 1,
            "name": "Pirates of the Caribbean: At World's End"
           },
           {
            "count": 3,
            "name": "3 others"
           }
          ],
          "nan_count": 0,
          "unique_count": 5
         }
        },
        {
         "dtype": "object",
         "name": "cast",
         "stats": {
          "categories": [
           {
            "count": 1,
            "name": "jakesully samworthington neytiri zoesaldana drgraceaugustine sigourneyweaver colquaritch stephenlang trudychacon michellerodriguez selfridge giovanniribisi normspellman joeldavidmoore moat cchpounder eytukan wesstudi tsutey lazalonso drmaxpatel dileeprao lylewainfleet mattgerald privatefike seananthonymoran cryovaultmedtech jasonwhyte venturestarcrewchief scottlawrence lockuptrooper kellykilgour shuttlepilot jamespatrickpitt shuttlecopilot seanpatrickmurphy shuttlecrewchief peterdillon tractoroperatortroupe kevindorman dragongunshippilot kelsonhenderson dragongunshipgunner davidvanhorn dragongunshipnavigator jacobtomuri suit1 michaelblainrozgay suit2 joncurry ambientroomtech lukehawker ambientroomtechtroupe woodyschultz horseclanleader petermensah linkroomtech soniayee basketballavatartroupe jahnelcurfman basketballavatar ilramchoi navichild kylawarren troupe lisaroumain troupe debrawilson troupe chrismala troupe taylorkibby troupe jodielandau troupe julielamm troupe cullenbmadden troupe josephbradymadden troupe frankietorres troupe austinwilson troupe sarawilson troupe tamicawashingtonmiller opcenterstaff lucybriant opcenterstaff nathanmeister opcenterstaff gerryblair opcenterstaff matthewchamberlain opcenterstaff paulyates opcenterdutyofficer wraywilson opcenterstaff jamesgaylyn dancer melvinlenoclarkiii dancer carvonfutrell dancer brandonjelkes dancer micahmoch dancer hanniyahmuhammad dancer christophernolen dancer christaoliver dancer aprilmariethomas dancer bravitaathreatt miningchiefuncredited colinbleasdale veteranmineruncredited mikebodnar richarduncredited mattclayton naviuncredited nicoledionne trooperuncredited jamieharrison trooperuncredited allanhenry groundtechnicianuncredited anthonyingruber flightcrewmechanicuncredited ashleyjeffery samsonpilot deanknowsley trooperuncredited josephmikahunt bansheeuncredited terrynotary soldieruncredited kaipantano blasttechnicianuncredited loganpithyou vindumraahuncredited stuartpollock herouncredited raja opscentreworkeruncredited garethruck engineeruncredited rhiansheehan colquaritchsmechsuituncredited tjstorm femalemarineuncredited jodietaylor ikranclanleaderuncredited aliciavelabailey geologistuncredited richardwhiteside naviuncredited nikiezambo ambientroomtechtroupe julenerenee"
           },
           {
            "count": 1,
            "name": "captainjacksparrow johnnydepp willturner orlandobloom elizabethswann keiraknightley williambootstrapbillturner stellanskarsgård captainsaofeng chowyunfat captaindavyjones billnighy captainhectorbarbossa geoffreyrush admiraljamesnorrington jackdavenport joshameegibbs kevinmcnally lordcutlerbeckett tomhollander tiadalma naomieharris governorweatherbyswann jonathanpryce captainteaguesparrow keithrichards pintel leearenberg ragetti mackenziecrook lieutenanttheodoregroves gregellis cotton davidbailie marty martinklebba ianmercer davidschofield scarlett laurenmaher giselle vanessabranch mullroy angusbarnett murtogg gilesnew taihuang reggielee henryturner dominicscottkay mistressching takayofischer lieutenantgreitzer davidmeunier hadras hokwantse clacker andybeckwith penrod peterdonaldbadalamentiii cottonsparrotvoice christopherscapp captainteague keithrichards captainjocard hakeemkaekazim captainammand ghassanmassoud"
           },
           {
            "count": 3,
            "name": "3 others"
           }
          ],
          "nan_count": 0,
          "unique_count": 5
         }
        },
        {
         "dtype": "object",
         "name": "crew",
         "stats": {
          "categories": [
           {
            "count": 1,
            "name": "stephenerivkin jamescameron jamescameron jamescameron jamescameron jamescameron jillbrooks jonlandau laetakalogridis johnrefoua alainlalanne chrisdelconte brigitteyorke joycecox jennyfoster cyndiochs"
           },
           {
            "count": 1,
            "name": "goreverbinski jerrybruckheimer tedelliott terryrossio stephenerivkin craigwood mikestenson ericmcleod chadoman peterkohn patsandston"
           },
           {
            "count": 3,
            "name": "3 others"
           }
          ],
          "nan_count": 0,
          "unique_count": 5
         }
        },
        {
         "dtype": "object",
         "name": "ps_o",
         "stats": {
          "categories": [
           {
            "count": 1,
            "name": "in 22nd centuri parapleg marin dispatch moon pandora uniqu mission becom torn follow order protect alien civil"
           },
           {
            "count": 1,
            "name": "captain barbossa long believ dead come back life head edg earth will turner elizabeth swann but noth quit seem"
           },
           {
            "count": 3,
            "name": "3 others"
           }
          ],
          "nan_count": 0,
          "unique_count": 5
         }
        },
        {
         "dtype": "object",
         "name": "ps_t",
         "stats": {
          "categories": [
           {
            "count": 1,
            "name": "enter world pandora"
           },
           {
            "count": 1,
            "name": "at end world adventur begin"
           },
           {
            "count": 3,
            "name": "3 others"
           }
          ],
          "nan_count": 0,
          "unique_count": 5
         }
        },
        {
         "dtype": "object",
         "name": "genres",
         "stats": {
          "categories": [
           {
            "count": 1,
            "name": "action adventure fantasy science fiction"
           },
           {
            "count": 1,
            "name": "adventure fantasy action"
           },
           {
            "count": 3,
            "name": "3 others"
           }
          ],
          "nan_count": 0,
          "unique_count": 5
         }
        },
        {
         "dtype": "object",
         "name": "keywords",
         "stats": {
          "categories": [
           {
            "count": 1,
            "name": "culture clash future space war space colony society space travel futuristic romance space alien tribe alien planet cgi marine soldier battle love affair anti war power relations mind and soul 3d"
           },
           {
            "count": 1,
            "name": "ocean drug abuse exotic island east india trading company love of one's life traitor shipwreck strong woman ship alliance calypso afterlife fighter pirate swashbuckler aftercreditsstinger"
           },
           {
            "count": 3,
            "name": "3 others"
           }
          ],
          "nan_count": 0,
          "unique_count": 5
         }
        },
        {
         "dtype": "object",
         "name": "production_companies",
         "stats": {
          "categories": [
           {
            "count": 1,
            "name": "ingeniousfilmpartners twentiethcenturyfoxfilmcorporation duneentertainment lightstormentertainment"
           },
           {
            "count": 1,
            "name": "waltdisneypictures jerrybruckheimerfilms secondmateproductions"
           },
           {
            "count": 3,
            "name": "3 others"
           }
          ],
          "nan_count": 0,
          "unique_count": 5
         }
        },
        {
         "dtype": "object",
         "name": "combined",
         "stats": {
          "categories": [
           {
            "count": 1,
            "name": "jakesully samworthington neytiri zoesaldana drgraceaugustine sigourneyweaver colquaritch stephenlang trudychacon michellerodriguez selfridge giovanniribisi normspellman joeldavidmoore moat cchpounder eytukan wesstudi tsutey lazalonso drmaxpatel dileeprao lylewainfleet mattgerald privatefike seananthonymoran cryovaultmedtech jasonwhyte venturestarcrewchief scottlawrence lockuptrooper kellykilgour shuttlepilot jamespatrickpitt shuttlecopilot seanpatrickmurphy shuttlecrewchief peterdillon tractoroperatortroupe kevindorman dragongunshippilot kelsonhenderson dragongunshipgunner davidvanhorn dragongunshipnavigator jacobtomuri suit1 michaelblainrozgay suit2 joncurry ambientroomtech lukehawker ambientroomtechtroupe woodyschultz horseclanleader petermensah linkroomtech soniayee basketballavatartroupe jahnelcurfman basketballavatar ilramchoi navichild kylawarren troupe lisaroumain troupe debrawilson troupe chrismala troupe taylorkibby troupe jodielandau troupe julielamm troupe cullenbmadden troupe josephbradymadden troupe frankietorres troupe austinwilson troupe sarawilson troupe tamicawashingtonmiller opcenterstaff lucybriant opcenterstaff nathanmeister opcenterstaff gerryblair opcenterstaff matthewchamberlain opcenterstaff paulyates opcenterdutyofficer wraywilson opcenterstaff jamesgaylyn dancer melvinlenoclarkiii dancer carvonfutrell dancer brandonjelkes dancer micahmoch dancer hanniyahmuhammad dancer christophernolen dancer christaoliver dancer aprilmariethomas dancer bravitaathreatt miningchiefuncredited colinbleasdale veteranmineruncredited mikebodnar richarduncredited mattclayton naviuncredited nicoledionne trooperuncredited jamieharrison trooperuncredited allanhenry groundtechnicianuncredited anthonyingruber flightcrewmechanicuncredited ashleyjeffery samsonpilot deanknowsley trooperuncredited josephmikahunt bansheeuncredited terrynotary soldieruncredited kaipantano blasttechnicianuncredited loganpithyou vindumraahuncredited stuartpollock herouncredited raja opscentreworkeruncredited garethruck engineeruncredited rhiansheehan colquaritchsmechsuituncredited tjstorm femalemarineuncredited jodietaylor ikranclanleaderuncredited aliciavelabailey geologistuncredited richardwhiteside naviuncredited nikiezambo ambientroomtechtroupe julenerenee stephenerivkin jamescameron jamescameron jamescameron jamescameron jamescameron jillbrooks jonlandau laetakalogridis johnrefoua alainlalanne chrisdelconte brigitteyorke joycecox jennyfoster cyndiochs in 22nd centuri parapleg marin dispatch moon pandora uniqu mission becom torn follow order protect alien civil enter world pandora action adventure fantasy science fiction culture clash future space war space colony society space travel futuristic romance space alien tribe alien planet cgi marine soldier battle love affair anti war power relations mind and soul 3d ingeniousfilmpartners twentiethcenturyfoxfilmcorporation duneentertainment lightstormentertainment"
           },
           {
            "count": 1,
            "name": "captainjacksparrow johnnydepp willturner orlandobloom elizabethswann keiraknightley williambootstrapbillturner stellanskarsgård captainsaofeng chowyunfat captaindavyjones billnighy captainhectorbarbossa geoffreyrush admiraljamesnorrington jackdavenport joshameegibbs kevinmcnally lordcutlerbeckett tomhollander tiadalma naomieharris governorweatherbyswann jonathanpryce captainteaguesparrow keithrichards pintel leearenberg ragetti mackenziecrook lieutenanttheodoregroves gregellis cotton davidbailie marty martinklebba ianmercer davidschofield scarlett laurenmaher giselle vanessabranch mullroy angusbarnett murtogg gilesnew taihuang reggielee henryturner dominicscottkay mistressching takayofischer lieutenantgreitzer davidmeunier hadras hokwantse clacker andybeckwith penrod peterdonaldbadalamentiii cottonsparrotvoice christopherscapp captainteague keithrichards captainjocard hakeemkaekazim captainammand ghassanmassoud goreverbinski jerrybruckheimer tedelliott terryrossio stephenerivkin craigwood mikestenson ericmcleod chadoman peterkohn patsandston captain barbossa long believ dead come back life head edg earth will turner elizabeth swann but noth quit seem at end world adventur begin adventure fantasy action ocean drug abuse exotic island east india trading company love of one's life traitor shipwreck strong woman ship alliance calypso afterlife fighter pirate swashbuckler aftercreditsstinger waltdisneypictures jerrybruckheimerfilms secondmateproductions"
           },
           {
            "count": 3,
            "name": "3 others"
           }
          ],
          "nan_count": 0,
          "unique_count": 5
         }
        },
        {
         "dtype": "int64",
         "name": "_deepnote_index_column"
        }
       ],
       "row_count": 5,
       "rows": [
        {
         "_deepnote_index_column": "0",
         "cast": "jakesully samworthington neytiri zoesaldana drgraceaugustine sigourneyweaver colquaritch stephenlang trudychacon michellerodriguez selfridge giovanniribisi normspellman joeldavidmoore moat cchpounder eytukan wesstudi tsutey lazalonso drmaxpatel dileeprao lylewainfleet mattgerald privatefike seananthonymoran cryovaultmedtech jasonwhyte venturestarcrewchief scottlawrence lockuptrooper kellykilgour shuttlepilot jamespatrickpitt shuttlecopilot seanpatrickmurphy shuttlecrewchief peterdillon tractoroperatortroupe kevindorman dragongunshippilot kelsonhenderson dragongunshipgunner davidvanhorn dragongunshipnavigator jacobtomuri suit1 michaelblainrozgay suit2 joncurry ambientroomtech lukehawker ambientroomtechtroupe woodyschultz horseclanleader petermensah linkroomtech soniayee basketballavatartroupe jahnelcurfman basketballavatar ilramchoi navichild kylawarren troupe lisaroumain troupe debrawilson troupe chrismala troupe taylorkibby troupe jodielandau troupe julielamm troupe cullenbmadden tro…",
         "combined": "jakesully samworthington neytiri zoesaldana drgraceaugustine sigourneyweaver colquaritch stephenlang trudychacon michellerodriguez selfridge giovanniribisi normspellman joeldavidmoore moat cchpounder eytukan wesstudi tsutey lazalonso drmaxpatel dileeprao lylewainfleet mattgerald privatefike seananthonymoran cryovaultmedtech jasonwhyte venturestarcrewchief scottlawrence lockuptrooper kellykilgour shuttlepilot jamespatrickpitt shuttlecopilot seanpatrickmurphy shuttlecrewchief peterdillon tractoroperatortroupe kevindorman dragongunshippilot kelsonhenderson dragongunshipgunner davidvanhorn dragongunshipnavigator jacobtomuri suit1 michaelblainrozgay suit2 joncurry ambientroomtech lukehawker ambientroomtechtroupe woodyschultz horseclanleader petermensah linkroomtech soniayee basketballavatartroupe jahnelcurfman basketballavatar ilramchoi navichild kylawarren troupe lisaroumain troupe debrawilson troupe chrismala troupe taylorkibby troupe jodielandau troupe julielamm troupe cullenbmadden tro…",
         "crew": "stephenerivkin jamescameron jamescameron jamescameron jamescameron jamescameron jillbrooks jonlandau laetakalogridis johnrefoua alainlalanne chrisdelconte brigitteyorke joycecox jennyfoster cyndiochs",
         "genres": "action adventure fantasy science fiction",
         "keywords": "culture clash future space war space colony society space travel futuristic romance space alien tribe alien planet cgi marine soldier battle love affair anti war power relations mind and soul 3d",
         "production_companies": "ingeniousfilmpartners twentiethcenturyfoxfilmcorporation duneentertainment lightstormentertainment",
         "ps_o": "in 22nd centuri parapleg marin dispatch moon pandora uniqu mission becom torn follow order protect alien civil",
         "ps_t": "enter world pandora",
         "title": "Avatar"
        },
        {
         "_deepnote_index_column": "1",
         "cast": "captainjacksparrow johnnydepp willturner orlandobloom elizabethswann keiraknightley williambootstrapbillturner stellanskarsgård captainsaofeng chowyunfat captaindavyjones billnighy captainhectorbarbossa geoffreyrush admiraljamesnorrington jackdavenport joshameegibbs kevinmcnally lordcutlerbeckett tomhollander tiadalma naomieharris governorweatherbyswann jonathanpryce captainteaguesparrow keithrichards pintel leearenberg ragetti mackenziecrook lieutenanttheodoregroves gregellis cotton davidbailie marty martinklebba ianmercer davidschofield scarlett laurenmaher giselle vanessabranch mullroy angusbarnett murtogg gilesnew taihuang reggielee henryturner dominicscottkay mistressching takayofischer lieutenantgreitzer davidmeunier hadras hokwantse clacker andybeckwith penrod peterdonaldbadalamentiii cottonsparrotvoice christopherscapp captainteague keithrichards captainjocard hakeemkaekazim captainammand ghassanmassoud",
         "combined": "captainjacksparrow johnnydepp willturner orlandobloom elizabethswann keiraknightley williambootstrapbillturner stellanskarsgård captainsaofeng chowyunfat captaindavyjones billnighy captainhectorbarbossa geoffreyrush admiraljamesnorrington jackdavenport joshameegibbs kevinmcnally lordcutlerbeckett tomhollander tiadalma naomieharris governorweatherbyswann jonathanpryce captainteaguesparrow keithrichards pintel leearenberg ragetti mackenziecrook lieutenanttheodoregroves gregellis cotton davidbailie marty martinklebba ianmercer davidschofield scarlett laurenmaher giselle vanessabranch mullroy angusbarnett murtogg gilesnew taihuang reggielee henryturner dominicscottkay mistressching takayofischer lieutenantgreitzer davidmeunier hadras hokwantse clacker andybeckwith penrod peterdonaldbadalamentiii cottonsparrotvoice christopherscapp captainteague keithrichards captainjocard hakeemkaekazim captainammand ghassanmassoud goreverbinski jerrybruckheimer tedelliott terryrossio stephenerivkin craig…",
         "crew": "goreverbinski jerrybruckheimer tedelliott terryrossio stephenerivkin craigwood mikestenson ericmcleod chadoman peterkohn patsandston",
         "genres": "adventure fantasy action",
         "keywords": "ocean drug abuse exotic island east india trading company love of one's life traitor shipwreck strong woman ship alliance calypso afterlife fighter pirate swashbuckler aftercreditsstinger",
         "production_companies": "waltdisneypictures jerrybruckheimerfilms secondmateproductions",
         "ps_o": "captain barbossa long believ dead come back life head edg earth will turner elizabeth swann but noth quit seem",
         "ps_t": "at end world adventur begin",
         "title": "Pirates of the Caribbean: At World's End"
        },
        {
         "_deepnote_index_column": "2",
         "cast": "jamesbond danielcraig blofeld christophwaltz madeleine léaseydoux m ralphfiennes lucia monicabellucci q benwhishaw moneypenny naomieharris hinx davebautista c andrewscott tanner rorykinnear mrwhite jesperchristensen marcosciarra alessandrocremona estrella stephaniesigman mexicanmaninlift tenochhuerta mexicanwomaninlift adrianapaz gallo domenicofortunato gallosaccomplice marcozingaro gallosaccomplice stefanoelfidiclaudia qsassistant ianbonar moneypennysboyfriend tamwilliams blofeldslondonhelicopterpilot richardbanham sc019policecommander pipcarter sc019policeofficer simonlenagan priest alessandrobressanello moreau marczinga vogel brigittemillar abrika adelbencherif blofeldsrighthandman gediminasadomaitis lorenzo peppelanzetta francesco francescoarca marco matteotaranto palazzosecurity emilioaniba guerra benitosagredo businessman daitabuchi businessman georgelasha businessman sargonyelda businessman andycheung marshall erickhayden valerian olegmirochnikov fiatdriver antoniosalines stree…",
         "combined": "jamesbond danielcraig blofeld christophwaltz madeleine léaseydoux m ralphfiennes lucia monicabellucci q benwhishaw moneypenny naomieharris hinx davebautista c andrewscott tanner rorykinnear mrwhite jesperchristensen marcosciarra alessandrocremona estrella stephaniesigman mexicanmaninlift tenochhuerta mexicanwomaninlift adrianapaz gallo domenicofortunato gallosaccomplice marcozingaro gallosaccomplice stefanoelfidiclaudia qsassistant ianbonar moneypennysboyfriend tamwilliams blofeldslondonhelicopterpilot richardbanham sc019policecommander pipcarter sc019policeofficer simonlenagan priest alessandrobressanello moreau marczinga vogel brigittemillar abrika adelbencherif blofeldsrighthandman gediminasadomaitis lorenzo peppelanzetta francesco francescoarca marco matteotaranto palazzosecurity emilioaniba guerra benitosagredo businessman daitabuchi businessman georgelasha businessman sargonyelda businessman andycheung marshall erickhayden valerian olegmirochnikov fiatdriver antoniosalines stree…",
         "crew": "sammendes johnlogan johnlogan leesmith barbarabroccoli robertwade robertwade nealpurvis nealpurvis callummcdougall jezbutterworth michaelgwilson lauraschultz kendailey kiloupicard timkeene leslielerman",
         "genres": "action adventure crime",
         "keywords": "spy based on novel secret agent sequel mi6 british secret service united kingdom",
         "production_companies": "columbiapictures danjaq b24",
         "ps_o": "a cryptic messag bond past send trail uncov sinist organ while m battl polit forc keep secret servic aliv bond peel back layer deceit reveal terribl truth behind spectr",
         "ps_t": "a plan no one escap",
         "title": "Spectre"
        },
        {
         "_deepnote_index_column": "3",
         "cast": "brucewaynebatman christianbale alfredpennyworth michaelcaine jamesgordon garyoldman selinakylecatwoman annehathaway bane tomhardy mirandatate marioncotillard blake josephgordonlevitt luciusfox morganfreeman drjonathancranescarecrow cillianmurphy jen junotemple rasalghul liamneeson deputycommissionerfoley matthewmodine drpavel alonaboutboul daggett benmendelsohn themayor nestorcarbonell youngrasalghul joshpence prisoner tomconti youngtaliaalghul joeyking mercenarysecurity1 warrenbrown captainjones danielsunjata specialopssergeant samkennard hoodedman2 aliashtepina caterer nickjulian maid mirandanolan maid clairejulien ciaop aidangillen stryver burngorman congressman brettcullen ross reggielee dwpman josephlyletaylor frreilly chrisellis swatindivebar duanehenry swatinalley jamesharveyward copinmanhole gonzalomenendez sewerthug1 cameronjack sewerthug2 lexdaniel mark tylerdeanflores doctor thomaslennon yuppie trevorwhite allen robbrown exchangesecuritychief fredriclehne femalesecurityguar…",
         "combined": "brucewaynebatman christianbale alfredpennyworth michaelcaine jamesgordon garyoldman selinakylecatwoman annehathaway bane tomhardy mirandatate marioncotillard blake josephgordonlevitt luciusfox morganfreeman drjonathancranescarecrow cillianmurphy jen junotemple rasalghul liamneeson deputycommissionerfoley matthewmodine drpavel alonaboutboul daggett benmendelsohn themayor nestorcarbonell youngrasalghul joshpence prisoner tomconti youngtaliaalghul joeyking mercenarysecurity1 warrenbrown captainjones danielsunjata specialopssergeant samkennard hoodedman2 aliashtepina caterer nickjulian maid mirandanolan maid clairejulien ciaop aidangillen stryver burngorman congressman brettcullen ross reggielee dwpman josephlyletaylor frreilly chrisellis swatindivebar duanehenry swatinalley jamesharveyward copinmanhole gonzalomenendez sewerthug1 cameronjack sewerthug2 lexdaniel mark tylerdeanflores doctor thomaslennon yuppie trevorwhite allen robbrown exchangesecuritychief fredriclehne femalesecurityguar…",
         "crew": "charlesroven christophernolan christophernolan christophernolan christophernolan jonathannolan emmathomas davidsgoyer leesmith michaeluslan benjaminmelniker thomastull kevindelanoy karlmcmillan mikechambers emmanuelpappas michaelmurray thomashayslip claudiadehmel",
         "genres": "action crime drama thriller",
         "keywords": "dc comics crime fighter terrorist secret identity burglar hostage drama time bomb gotham city vigilante cover-up superhero villainess tragic hero terrorism destruction catwoman cat burglar imax flood criminal underworld batman",
         "production_companies": "legendarypictures warnerbros dcentertainment syncopy",
         "ps_o": "follow death district attorney harvey dent batman assum respons dent crime protect late attorney reput subsequ hunt gotham citi polic depart eight year later batman encount mysteri selina kyle villain bane new terrorist leader overwhelm gotham finest the dark knight resurfac protect citi brand enemi",
         "ps_t": "the legend end",
         "title": "The Dark Knight Rises"
        },
        {
         "_deepnote_index_column": "4",
         "cast": "flynnridervoice zacharylevi rapunzelvoice mandymoore mothergothelvoice donnamurphy stabbingtonbrothervoice ronperlman captainoftheguardvoice mcgainey bignosethugvoice jeffreytambor hookhandthugvoice bradgarrett shortthugvoice paulftompkins vladvoice richardkiel youngrapunzellittlegirlvoice delaneyrosestein guard1thug1voice nathangreno guard2thug2voice byronhoward guard3voice timmertens",
         "combined": "flynnridervoice zacharylevi rapunzelvoice mandymoore mothergothelvoice donnamurphy stabbingtonbrothervoice ronperlman captainoftheguardvoice mcgainey bignosethugvoice jeffreytambor hookhandthugvoice bradgarrett shortthugvoice paulftompkins vladvoice richardkiel youngrapunzellittlegirlvoice delaneyrosestein guard1thug1voice nathangreno guard2thug2voice byronhoward guard3voice timmertens johnlasseter danfogelman royconli markkennedy timmertens byronhoward nathangreno glenkeane doeriwelchgreiner when kingdom want charm bandit flynn rider hide mysteri tower taken hostag rapunzel beauti feisti tower bound teen 70 feet magic golden hair flynn curiou captor look ticket tower lock away year strike deal handsom thief unlik duo set action pack escapad complet super cop hors protect chameleon gruff gang pub thug they take adventur new length animation family hostage magic horse fairy tale musical princess animation tower blonde woman selfishness healing power based on fairy tale duringcreditssti…",
         "crew": "johnlasseter danfogelman royconli markkennedy timmertens byronhoward nathangreno glenkeane doeriwelchgreiner",
         "genres": "animation family",
         "keywords": "hostage magic horse fairy tale musical princess animation tower blonde woman selfishness healing power based on fairy tale duringcreditsstinger healing gift animal sidekick",
         "production_companies": "waltdisneypictures waltdisneyanimationstudios",
         "ps_o": "when kingdom want charm bandit flynn rider hide mysteri tower taken hostag rapunzel beauti feisti tower bound teen 70 feet magic golden hair flynn curiou captor look ticket tower lock away year strike deal handsom thief unlik duo set action pack escapad complet super cop hors protect chameleon gruff gang pub thug",
         "ps_t": "they take adventur new length",
         "title": "Tangled"
        }
       ]
      },
      "text/html": [
       "<div>\n",
       "<style scoped>\n",
       "    .dataframe tbody tr th:only-of-type {\n",
       "        vertical-align: middle;\n",
       "    }\n",
       "\n",
       "    .dataframe tbody tr th {\n",
       "        vertical-align: top;\n",
       "    }\n",
       "\n",
       "    .dataframe thead th {\n",
       "        text-align: right;\n",
       "    }\n",
       "</style>\n",
       "<table border=\"1\" class=\"dataframe\">\n",
       "  <thead>\n",
       "    <tr style=\"text-align: right;\">\n",
       "      <th></th>\n",
       "      <th>title</th>\n",
       "      <th>cast</th>\n",
       "      <th>crew</th>\n",
       "      <th>ps_o</th>\n",
       "      <th>ps_t</th>\n",
       "      <th>genres</th>\n",
       "      <th>keywords</th>\n",
       "      <th>production_companies</th>\n",
       "      <th>combined</th>\n",
       "    </tr>\n",
       "  </thead>\n",
       "  <tbody>\n",
       "    <tr>\n",
       "      <th>0</th>\n",
       "      <td>Avatar</td>\n",
       "      <td>jakesully samworthington neytiri zoesaldana dr...</td>\n",
       "      <td>stephenerivkin jamescameron jamescameron james...</td>\n",
       "      <td>in 22nd centuri parapleg marin dispatch moon p...</td>\n",
       "      <td>enter world pandora</td>\n",
       "      <td>action adventure fantasy science fiction</td>\n",
       "      <td>culture clash future space war space colony so...</td>\n",
       "      <td>ingeniousfilmpartners twentiethcenturyfoxfilmc...</td>\n",
       "      <td>jakesully samworthington neytiri zoesaldana dr...</td>\n",
       "    </tr>\n",
       "    <tr>\n",
       "      <th>1</th>\n",
       "      <td>Pirates of the Caribbean: At World's End</td>\n",
       "      <td>captainjacksparrow johnnydepp willturner orlan...</td>\n",
       "      <td>goreverbinski jerrybruckheimer tedelliott terr...</td>\n",
       "      <td>captain barbossa long believ dead come back li...</td>\n",
       "      <td>at end world adventur begin</td>\n",
       "      <td>adventure fantasy action</td>\n",
       "      <td>ocean drug abuse exotic island east india trad...</td>\n",
       "      <td>waltdisneypictures jerrybruckheimerfilms secon...</td>\n",
       "      <td>captainjacksparrow johnnydepp willturner orlan...</td>\n",
       "    </tr>\n",
       "    <tr>\n",
       "      <th>2</th>\n",
       "      <td>Spectre</td>\n",
       "      <td>jamesbond danielcraig blofeld christophwaltz m...</td>\n",
       "      <td>sammendes johnlogan johnlogan leesmith barbara...</td>\n",
       "      <td>a cryptic messag bond past send trail uncov si...</td>\n",
       "      <td>a plan no one escap</td>\n",
       "      <td>action adventure crime</td>\n",
       "      <td>spy based on novel secret agent sequel mi6 bri...</td>\n",
       "      <td>columbiapictures danjaq b24</td>\n",
       "      <td>jamesbond danielcraig blofeld christophwaltz m...</td>\n",
       "    </tr>\n",
       "    <tr>\n",
       "      <th>3</th>\n",
       "      <td>The Dark Knight Rises</td>\n",
       "      <td>brucewaynebatman christianbale alfredpennywort...</td>\n",
       "      <td>charlesroven christophernolan christophernolan...</td>\n",
       "      <td>follow death district attorney harvey dent bat...</td>\n",
       "      <td>the legend end</td>\n",
       "      <td>action crime drama thriller</td>\n",
       "      <td>dc comics crime fighter terrorist secret ident...</td>\n",
       "      <td>legendarypictures warnerbros dcentertainment s...</td>\n",
       "      <td>brucewaynebatman christianbale alfredpennywort...</td>\n",
       "    </tr>\n",
       "    <tr>\n",
       "      <th>4</th>\n",
       "      <td>Tangled</td>\n",
       "      <td>flynnridervoice zacharylevi rapunzelvoice mand...</td>\n",
       "      <td>johnlasseter danfogelman royconli markkennedy ...</td>\n",
       "      <td>when kingdom want charm bandit flynn rider hid...</td>\n",
       "      <td>they take adventur new length</td>\n",
       "      <td>animation family</td>\n",
       "      <td>hostage magic horse fairy tale musical princes...</td>\n",
       "      <td>waltdisneypictures waltdisneyanimationstudios</td>\n",
       "      <td>flynnridervoice zacharylevi rapunzelvoice mand...</td>\n",
       "    </tr>\n",
       "  </tbody>\n",
       "</table>\n",
       "</div>"
      ],
      "text/plain": [
       "                                      title  \\\n",
       "0                                    Avatar   \n",
       "1  Pirates of the Caribbean: At World's End   \n",
       "2                                   Spectre   \n",
       "3                     The Dark Knight Rises   \n",
       "4                                   Tangled   \n",
       "\n",
       "                                                cast  \\\n",
       "0  jakesully samworthington neytiri zoesaldana dr...   \n",
       "1  captainjacksparrow johnnydepp willturner orlan...   \n",
       "2  jamesbond danielcraig blofeld christophwaltz m...   \n",
       "3  brucewaynebatman christianbale alfredpennywort...   \n",
       "4  flynnridervoice zacharylevi rapunzelvoice mand...   \n",
       "\n",
       "                                                crew  \\\n",
       "0  stephenerivkin jamescameron jamescameron james...   \n",
       "1  goreverbinski jerrybruckheimer tedelliott terr...   \n",
       "2  sammendes johnlogan johnlogan leesmith barbara...   \n",
       "3  charlesroven christophernolan christophernolan...   \n",
       "4  johnlasseter danfogelman royconli markkennedy ...   \n",
       "\n",
       "                                                ps_o  \\\n",
       "0  in 22nd centuri parapleg marin dispatch moon p...   \n",
       "1  captain barbossa long believ dead come back li...   \n",
       "2  a cryptic messag bond past send trail uncov si...   \n",
       "3  follow death district attorney harvey dent bat...   \n",
       "4  when kingdom want charm bandit flynn rider hid...   \n",
       "\n",
       "                            ps_t                                    genres  \\\n",
       "0            enter world pandora  action adventure fantasy science fiction   \n",
       "1    at end world adventur begin                  adventure fantasy action   \n",
       "2            a plan no one escap                    action adventure crime   \n",
       "3                 the legend end               action crime drama thriller   \n",
       "4  they take adventur new length                          animation family   \n",
       "\n",
       "                                            keywords  \\\n",
       "0  culture clash future space war space colony so...   \n",
       "1  ocean drug abuse exotic island east india trad...   \n",
       "2  spy based on novel secret agent sequel mi6 bri...   \n",
       "3  dc comics crime fighter terrorist secret ident...   \n",
       "4  hostage magic horse fairy tale musical princes...   \n",
       "\n",
       "                                production_companies  \\\n",
       "0  ingeniousfilmpartners twentiethcenturyfoxfilmc...   \n",
       "1  waltdisneypictures jerrybruckheimerfilms secon...   \n",
       "2                        columbiapictures danjaq b24   \n",
       "3  legendarypictures warnerbros dcentertainment s...   \n",
       "4      waltdisneypictures waltdisneyanimationstudios   \n",
       "\n",
       "                                            combined  \n",
       "0  jakesully samworthington neytiri zoesaldana dr...  \n",
       "1  captainjacksparrow johnnydepp willturner orlan...  \n",
       "2  jamesbond danielcraig blofeld christophwaltz m...  \n",
       "3  brucewaynebatman christianbale alfredpennywort...  \n",
       "4  flynnridervoice zacharylevi rapunzelvoice mand...  "
      ]
     },
     "execution_count": 47,
     "metadata": {},
     "output_type": "execute_result"
    }
   ],
   "source": [
    "# Final dataframe for the Machine Learning process\n",
    "ml_df = text_df[['title','cast', 'crew', 'ps_o', 'ps_t', 'genres', 'keywords', 'production_companies']]\n",
    "ml_df['combined'] = text_df['cast']+\" \"+text_df['crew']+\" \"+text_df['ps_o']+\" \"+text_df['ps_t']+\" \"\\\n",
    "                    +text_df['genres']+\" \"+text_df['keywords']+\" \"+text_df['production_companies']\n",
    "ml_df.head()"
   ]
  },
  {
   "attachments": {},
   "cell_type": "markdown",
   "metadata": {
    "cell_id": "d8717f0a4ee54cc693476d413c4a7ae2",
    "deepnote_cell_type": "markdown"
   },
   "source": [
    "## TFIDF Vectorizer"
   ]
  },
  {
   "cell_type": "code",
   "execution_count": 48,
   "metadata": {
    "cell_id": "a93341f173624b72845b7e76ed94592a",
    "deepnote_cell_type": "code",
    "deepnote_to_be_reexecuted": false,
    "execution_millis": 9,
    "execution_start": 1683247664785,
    "source_hash": "a143c185"
   },
   "outputs": [],
   "source": [
    "# Initialize the TFIDF\n",
    "tfidf = TfidfVectorizer()"
   ]
  },
  {
   "cell_type": "code",
   "execution_count": 49,
   "metadata": {
    "cell_id": "dbbdea3576a44b19bb20abcf8e6c97b5",
    "deepnote_cell_type": "code",
    "deepnote_to_be_reexecuted": false,
    "execution_millis": 169,
    "execution_start": 1683247664835,
    "source_hash": "176c8c00"
   },
   "outputs": [],
   "source": [
    "# Fitting into seperate TFIDFs\n",
    "tfidf_matrix = tfidf.fit_transform(ml_df['combined'])"
   ]
  },
  {
   "cell_type": "code",
   "execution_count": 50,
   "metadata": {
    "cell_id": "e7a46f315c0a42efb6b9344d236e1328",
    "deepnote_cell_type": "code",
    "deepnote_to_be_reexecuted": false,
    "execution_millis": 30,
    "execution_start": 1683247665005,
    "source_hash": "66cf516a"
   },
   "outputs": [],
   "source": [
    "cosine = cosine_similarity(tfidf_matrix)"
   ]
  },
  {
   "cell_type": "code",
   "execution_count": 51,
   "metadata": {
    "cell_id": "17ed91a565ab48d588411e0c2aea7778",
    "deepnote_cell_type": "code",
    "deepnote_to_be_reexecuted": false,
    "execution_millis": 44,
    "execution_start": 1683247665039,
    "source_hash": "f4042af1"
   },
   "outputs": [],
   "source": [
    "# Function to look up the movie\n",
    "def get_movie_recommendation(lookup):\n",
    "    print (f\"Your recommended movies for {lookup} are:\\n\")\n",
    "    for index, name in enumerate(cosine):\n",
    "        if ml_df.title.loc[index] == lookup:\n",
    "            [print (ml_df.title.loc[i]) for i in name.argsort()[:-7:-1][1:]]"
   ]
  },
  {
   "attachments": {},
   "cell_type": "markdown",
   "metadata": {
    "cell_id": "c72f479e076d4337b257c555bc28a99c",
    "deepnote_cell_type": "markdown"
   },
   "source": [
    "# Results"
   ]
  },
  {
   "cell_type": "code",
   "execution_count": 52,
   "metadata": {
    "cell_id": "066651c79f13413bb6c44f5d72a5a02c",
    "deepnote_cell_type": "code",
    "deepnote_to_be_reexecuted": false,
    "execution_millis": 4,
    "execution_start": 1683247665081,
    "source_hash": "72c8c157"
   },
   "outputs": [
    {
     "name": "stdout",
     "output_type": "stream",
     "text": [
      "Your recommended movies for The Dark Knight are:\n",
      "\n",
      "Batman Returns\n",
      "The Dark Knight Rises\n",
      "Batman\n",
      "Batman Begins\n",
      "Man of Steel\n"
     ]
    }
   ],
   "source": [
    "get_movie_recommendation(\"The Dark Knight\")"
   ]
  },
  {
   "cell_type": "code",
   "execution_count": 53,
   "metadata": {
    "cell_id": "8f419ccbcd2646a68b558f7dae4f248b",
    "deepnote_cell_type": "code",
    "deepnote_to_be_reexecuted": false,
    "execution_millis": 1,
    "execution_start": 1683247665126,
    "source_hash": "938cac90"
   },
   "outputs": [
    {
     "name": "stdout",
     "output_type": "stream",
     "text": [
      "Your recommended movies for The Shawshank Redemption are:\n",
      "\n",
      "The Green Mile\n",
      "Prison\n",
      "Penitentiary\n",
      "Escape Plan\n",
      "The Mist\n"
     ]
    }
   ],
   "source": [
    "get_movie_recommendation(\"The Shawshank Redemption\")"
   ]
  },
  {
   "cell_type": "code",
   "execution_count": 54,
   "metadata": {
    "cell_id": "2e15d38f424b4e1ca6edaa2365f977da",
    "deepnote_cell_type": "code",
    "deepnote_to_be_reexecuted": false,
    "execution_millis": 3,
    "execution_start": 1683247665126,
    "source_hash": "b972c61e"
   },
   "outputs": [
    {
     "name": "stdout",
     "output_type": "stream",
     "text": [
      "Your recommended movies for Frozen are:\n",
      "\n",
      "Wreck-It Ralph\n",
      "The Princess and the Frog\n",
      "Pocahontas\n",
      "Brave\n",
      "Snow White and the Seven Dwarfs\n"
     ]
    }
   ],
   "source": [
    "get_movie_recommendation(\"Frozen\")"
   ]
  }
 ],
 "metadata": {
  "deepnote": {},
  "deepnote_execution_queue": [],
  "deepnote_full_width": true,
  "deepnote_notebook_id": "07014b1a9e3b4258b59eb5e74dd1501b",
  "deepnote_persisted_session": {
   "createdAt": "2023-05-04T02:01:12.865Z"
  },
  "kernelspec": {
   "display_name": "Python 3 (ipykernel)",
   "language": "python",
   "name": "python3"
  },
  "language_info": {
   "codemirror_mode": {
    "name": "ipython",
    "version": 3
   },
   "file_extension": ".py",
   "mimetype": "text/x-python",
   "name": "python",
   "nbconvert_exporter": "python",
   "pygments_lexer": "ipython3",
   "version": "3.10.8"
  },
  "vscode": {
   "interpreter": {
    "hash": "d2d0a2f1beb3256eb411c5438c8012e17c3dad85f0692b805ef96ef6d83b4a89"
   }
  }
 },
 "nbformat": 4,
 "nbformat_minor": 0
}
