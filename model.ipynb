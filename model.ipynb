{
 "cells": [
  {
   "attachments": {},
   "cell_type": "markdown",
   "metadata": {
    "cell_id": "b77dd2a895fb4c2fadeb2d5a81d9e781",
    "deepnote_cell_type": "markdown",
    "jp-MarkdownHeadingCollapsed": true
   },
   "source": [
    "# Project Overview\n",
    "\n",
    "A recommender system that recommends similar movies using textual data.\n",
    "\n",
    "## Table of Content\n",
    "1. [Exploratory Data Analysis](#eda)\n",
    "2. [Data Preprocessing](#data_preprocessing)\n",
    "3. [Machine Learning](#ml)\n",
    "4. [Results](#results)"
   ]
  },
  {
   "cell_type": "code",
   "execution_count": 1,
   "metadata": {
    "cell_id": "a28bb7f08b7d4c67a173f57019e823f2",
    "deepnote_cell_type": "code",
    "deepnote_to_be_reexecuted": false,
    "execution_millis": 1247,
    "execution_start": 1683247646065,
    "source_hash": "7e0b4d3c"
   },
   "outputs": [],
   "source": [
    "import re\n",
    "import ast\n",
    "import pandas as pd\n",
    "import matplotlib.pyplot as plt\n",
    "from nltk.corpus import stopwords\n",
    "from nltk.stem import PorterStemmer\n",
    "from string import punctuation as punc\n",
    "from sklearn.metrics.pairwise import cosine_similarity\n",
    "from sklearn.feature_extraction.text import TfidfVectorizer"
   ]
  },
  {
   "cell_type": "code",
   "execution_count": 2,
   "metadata": {
    "cell_id": "230dbd904b674da385758b4ed5bec473",
    "deepnote_cell_type": "code",
    "deepnote_to_be_reexecuted": false,
    "execution_millis": 752,
    "execution_start": 1683247647315,
    "source_hash": "a236eabd"
   },
   "outputs": [],
   "source": [
    "# Importing files\n",
    "credits_df = pd.read_csv(\"tmdb_5000_credits.csv\")\n",
    "movies_df = pd.read_csv(\"tmdb_5000_movies.csv\")"
   ]
  },
  {
   "attachments": {},
   "cell_type": "markdown",
   "metadata": {
    "cell_id": "2bd7fd5494e44b579902024e69009cd2",
    "deepnote_cell_type": "markdown"
   },
   "source": [
    "<a id=\"eda\"></a>\n",
    "# Exploratory Data Analysis"
   ]
  },
  {
   "cell_type": "code",
   "execution_count": 3,
   "metadata": {},
   "outputs": [
    {
     "data": {
      "text/html": [
       "<div>\n",
       "<style scoped>\n",
       "    .dataframe tbody tr th:only-of-type {\n",
       "        vertical-align: middle;\n",
       "    }\n",
       "\n",
       "    .dataframe tbody tr th {\n",
       "        vertical-align: top;\n",
       "    }\n",
       "\n",
       "    .dataframe thead th {\n",
       "        text-align: right;\n",
       "    }\n",
       "</style>\n",
       "<table border=\"1\" class=\"dataframe\">\n",
       "  <thead>\n",
       "    <tr style=\"text-align: right;\">\n",
       "      <th></th>\n",
       "      <th>movie_id</th>\n",
       "      <th>title</th>\n",
       "      <th>cast</th>\n",
       "      <th>crew</th>\n",
       "    </tr>\n",
       "  </thead>\n",
       "  <tbody>\n",
       "    <tr>\n",
       "      <th>0</th>\n",
       "      <td>19995</td>\n",
       "      <td>Avatar</td>\n",
       "      <td>[{\"cast_id\": 242, \"character\": \"Jake Sully\", \"...</td>\n",
       "      <td>[{\"credit_id\": \"52fe48009251416c750aca23\", \"de...</td>\n",
       "    </tr>\n",
       "    <tr>\n",
       "      <th>1</th>\n",
       "      <td>285</td>\n",
       "      <td>Pirates of the Caribbean: At World's End</td>\n",
       "      <td>[{\"cast_id\": 4, \"character\": \"Captain Jack Spa...</td>\n",
       "      <td>[{\"credit_id\": \"52fe4232c3a36847f800b579\", \"de...</td>\n",
       "    </tr>\n",
       "  </tbody>\n",
       "</table>\n",
       "</div>"
      ],
      "text/plain": [
       "   movie_id                                     title  \\\n",
       "0     19995                                    Avatar   \n",
       "1       285  Pirates of the Caribbean: At World's End   \n",
       "\n",
       "                                                cast  \\\n",
       "0  [{\"cast_id\": 242, \"character\": \"Jake Sully\", \"...   \n",
       "1  [{\"cast_id\": 4, \"character\": \"Captain Jack Spa...   \n",
       "\n",
       "                                                crew  \n",
       "0  [{\"credit_id\": \"52fe48009251416c750aca23\", \"de...  \n",
       "1  [{\"credit_id\": \"52fe4232c3a36847f800b579\", \"de...  "
      ]
     },
     "execution_count": 3,
     "metadata": {},
     "output_type": "execute_result"
    }
   ],
   "source": [
    "# How is the data structured?\n",
    "credits_df.head(2)"
   ]
  },
  {
   "cell_type": "code",
   "execution_count": 4,
   "metadata": {},
   "outputs": [
    {
     "data": {
      "text/html": [
       "<div>\n",
       "<style scoped>\n",
       "    .dataframe tbody tr th:only-of-type {\n",
       "        vertical-align: middle;\n",
       "    }\n",
       "\n",
       "    .dataframe tbody tr th {\n",
       "        vertical-align: top;\n",
       "    }\n",
       "\n",
       "    .dataframe thead th {\n",
       "        text-align: right;\n",
       "    }\n",
       "</style>\n",
       "<table border=\"1\" class=\"dataframe\">\n",
       "  <thead>\n",
       "    <tr style=\"text-align: right;\">\n",
       "      <th></th>\n",
       "      <th>budget</th>\n",
       "      <th>genres</th>\n",
       "      <th>homepage</th>\n",
       "      <th>id</th>\n",
       "      <th>keywords</th>\n",
       "      <th>original_language</th>\n",
       "      <th>original_title</th>\n",
       "      <th>overview</th>\n",
       "      <th>popularity</th>\n",
       "      <th>production_companies</th>\n",
       "      <th>production_countries</th>\n",
       "      <th>release_date</th>\n",
       "      <th>revenue</th>\n",
       "      <th>runtime</th>\n",
       "      <th>spoken_languages</th>\n",
       "      <th>status</th>\n",
       "      <th>tagline</th>\n",
       "      <th>title</th>\n",
       "      <th>vote_average</th>\n",
       "      <th>vote_count</th>\n",
       "    </tr>\n",
       "  </thead>\n",
       "  <tbody>\n",
       "    <tr>\n",
       "      <th>0</th>\n",
       "      <td>237000000</td>\n",
       "      <td>[{\"id\": 28, \"name\": \"Action\"}, {\"id\": 12, \"nam...</td>\n",
       "      <td>http://www.avatarmovie.com/</td>\n",
       "      <td>19995</td>\n",
       "      <td>[{\"id\": 1463, \"name\": \"culture clash\"}, {\"id\":...</td>\n",
       "      <td>en</td>\n",
       "      <td>Avatar</td>\n",
       "      <td>In the 22nd century, a paraplegic Marine is di...</td>\n",
       "      <td>150.437577</td>\n",
       "      <td>[{\"name\": \"Ingenious Film Partners\", \"id\": 289...</td>\n",
       "      <td>[{\"iso_3166_1\": \"US\", \"name\": \"United States o...</td>\n",
       "      <td>2009-12-10</td>\n",
       "      <td>2787965087</td>\n",
       "      <td>162.0</td>\n",
       "      <td>[{\"iso_639_1\": \"en\", \"name\": \"English\"}, {\"iso...</td>\n",
       "      <td>Released</td>\n",
       "      <td>Enter the World of Pandora.</td>\n",
       "      <td>Avatar</td>\n",
       "      <td>7.2</td>\n",
       "      <td>11800</td>\n",
       "    </tr>\n",
       "    <tr>\n",
       "      <th>1</th>\n",
       "      <td>300000000</td>\n",
       "      <td>[{\"id\": 12, \"name\": \"Adventure\"}, {\"id\": 14, \"...</td>\n",
       "      <td>http://disney.go.com/disneypictures/pirates/</td>\n",
       "      <td>285</td>\n",
       "      <td>[{\"id\": 270, \"name\": \"ocean\"}, {\"id\": 726, \"na...</td>\n",
       "      <td>en</td>\n",
       "      <td>Pirates of the Caribbean: At World's End</td>\n",
       "      <td>Captain Barbossa, long believed to be dead, ha...</td>\n",
       "      <td>139.082615</td>\n",
       "      <td>[{\"name\": \"Walt Disney Pictures\", \"id\": 2}, {\"...</td>\n",
       "      <td>[{\"iso_3166_1\": \"US\", \"name\": \"United States o...</td>\n",
       "      <td>2007-05-19</td>\n",
       "      <td>961000000</td>\n",
       "      <td>169.0</td>\n",
       "      <td>[{\"iso_639_1\": \"en\", \"name\": \"English\"}]</td>\n",
       "      <td>Released</td>\n",
       "      <td>At the end of the world, the adventure begins.</td>\n",
       "      <td>Pirates of the Caribbean: At World's End</td>\n",
       "      <td>6.9</td>\n",
       "      <td>4500</td>\n",
       "    </tr>\n",
       "  </tbody>\n",
       "</table>\n",
       "</div>"
      ],
      "text/plain": [
       "      budget                                             genres  \\\n",
       "0  237000000  [{\"id\": 28, \"name\": \"Action\"}, {\"id\": 12, \"nam...   \n",
       "1  300000000  [{\"id\": 12, \"name\": \"Adventure\"}, {\"id\": 14, \"...   \n",
       "\n",
       "                                       homepage     id  \\\n",
       "0                   http://www.avatarmovie.com/  19995   \n",
       "1  http://disney.go.com/disneypictures/pirates/    285   \n",
       "\n",
       "                                            keywords original_language  \\\n",
       "0  [{\"id\": 1463, \"name\": \"culture clash\"}, {\"id\":...                en   \n",
       "1  [{\"id\": 270, \"name\": \"ocean\"}, {\"id\": 726, \"na...                en   \n",
       "\n",
       "                             original_title  \\\n",
       "0                                    Avatar   \n",
       "1  Pirates of the Caribbean: At World's End   \n",
       "\n",
       "                                            overview  popularity  \\\n",
       "0  In the 22nd century, a paraplegic Marine is di...  150.437577   \n",
       "1  Captain Barbossa, long believed to be dead, ha...  139.082615   \n",
       "\n",
       "                                production_companies  \\\n",
       "0  [{\"name\": \"Ingenious Film Partners\", \"id\": 289...   \n",
       "1  [{\"name\": \"Walt Disney Pictures\", \"id\": 2}, {\"...   \n",
       "\n",
       "                                production_countries release_date     revenue  \\\n",
       "0  [{\"iso_3166_1\": \"US\", \"name\": \"United States o...   2009-12-10  2787965087   \n",
       "1  [{\"iso_3166_1\": \"US\", \"name\": \"United States o...   2007-05-19   961000000   \n",
       "\n",
       "   runtime                                   spoken_languages    status  \\\n",
       "0    162.0  [{\"iso_639_1\": \"en\", \"name\": \"English\"}, {\"iso...  Released   \n",
       "1    169.0           [{\"iso_639_1\": \"en\", \"name\": \"English\"}]  Released   \n",
       "\n",
       "                                          tagline  \\\n",
       "0                     Enter the World of Pandora.   \n",
       "1  At the end of the world, the adventure begins.   \n",
       "\n",
       "                                      title  vote_average  vote_count  \n",
       "0                                    Avatar           7.2       11800  \n",
       "1  Pirates of the Caribbean: At World's End           6.9        4500  "
      ]
     },
     "execution_count": 4,
     "metadata": {},
     "output_type": "execute_result"
    }
   ],
   "source": [
    "movies_df.head(2)"
   ]
  },
  {
   "cell_type": "code",
   "execution_count": 5,
   "metadata": {
    "cell_id": "4b155f4d9248416f85bdfb1094b78a58",
    "deepnote_cell_type": "code",
    "deepnote_to_be_reexecuted": false,
    "execution_millis": 4,
    "execution_start": 1683247648075,
    "source_hash": "d960324d"
   },
   "outputs": [
    {
     "name": "stdout",
     "output_type": "stream",
     "text": [
      "Movie's file shape: (4803, 20)\n",
      "Credit's file shape: (4803, 4)\n"
     ]
    }
   ],
   "source": [
    "# Dataframe shape\n",
    "movies_df_shape = movies_df.shape\n",
    "credits_df_shape = credits_df.shape\n",
    "\n",
    "print(f\"Movie's file shape: {movies_df_shape}\")\n",
    "print(f\"Credit's file shape: {credits_df_shape}\")"
   ]
  },
  {
   "cell_type": "code",
   "execution_count": 6,
   "metadata": {
    "cell_id": "f26c434cc34041b9ac2617e5fd377771",
    "deepnote_cell_type": "code",
    "deepnote_to_be_reexecuted": false,
    "execution_millis": 21,
    "execution_start": 1683247648090,
    "source_hash": "46986aed"
   },
   "outputs": [
    {
     "data": {
      "text/plain": [
       "budget                    int64\n",
       "genres                   object\n",
       "homepage                 object\n",
       "id                        int64\n",
       "keywords                 object\n",
       "original_language        object\n",
       "original_title           object\n",
       "overview                 object\n",
       "popularity              float64\n",
       "production_companies     object\n",
       "production_countries     object\n",
       "release_date             object\n",
       "revenue                   int64\n",
       "runtime                 float64\n",
       "spoken_languages         object\n",
       "status                   object\n",
       "tagline                  object\n",
       "title                    object\n",
       "vote_average            float64\n",
       "vote_count                int64\n",
       "dtype: object"
      ]
     },
     "execution_count": 6,
     "metadata": {},
     "output_type": "execute_result"
    }
   ],
   "source": [
    "# Data types of the movies file\n",
    "movies_df.dtypes"
   ]
  },
  {
   "cell_type": "code",
   "execution_count": 7,
   "metadata": {
    "cell_id": "8b8c3eaf0ba84b349ef2371827994bb0",
    "deepnote_cell_type": "code",
    "deepnote_to_be_reexecuted": false,
    "execution_millis": 2,
    "execution_start": 1683247648150,
    "source_hash": "65c07c6b"
   },
   "outputs": [
    {
     "data": {
      "text/plain": [
       "movie_id     int64\n",
       "title       object\n",
       "cast        object\n",
       "crew        object\n",
       "dtype: object"
      ]
     },
     "execution_count": 7,
     "metadata": {},
     "output_type": "execute_result"
    }
   ],
   "source": [
    "# Data types of the credits file\n",
    "credits_df.dtypes"
   ]
  },
  {
   "cell_type": "code",
   "execution_count": 8,
   "metadata": {
    "cell_id": "66e47156c76d41459edde07771948a76",
    "deepnote_cell_type": "code",
    "deepnote_to_be_reexecuted": false,
    "execution_millis": 3,
    "execution_start": 1683247648150,
    "source_hash": "f8a7874c"
   },
   "outputs": [
    {
     "data": {
      "text/plain": [
       "budget                     0\n",
       "genres                     0\n",
       "homepage                3091\n",
       "id                         0\n",
       "keywords                   0\n",
       "original_language          0\n",
       "original_title             0\n",
       "overview                  31\n",
       "popularity                 0\n",
       "production_companies       0\n",
       "production_countries       0\n",
       "release_date               1\n",
       "revenue                    0\n",
       "runtime                    2\n",
       "spoken_languages           0\n",
       "status                     0\n",
       "tagline                  844\n",
       "title                      0\n",
       "vote_average               0\n",
       "vote_count                 0\n",
       "dtype: int64"
      ]
     },
     "execution_count": 8,
     "metadata": {},
     "output_type": "execute_result"
    }
   ],
   "source": [
    "# Check for any missing values\n",
    "movies_df.isna().sum()"
   ]
  },
  {
   "cell_type": "code",
   "execution_count": 9,
   "metadata": {
    "cell_id": "d0244fae7a9a4912b9b42188468ca2fa",
    "deepnote_cell_type": "code",
    "deepnote_to_be_reexecuted": false,
    "execution_millis": 3,
    "execution_start": 1683247648308,
    "source_hash": "196982db"
   },
   "outputs": [
    {
     "data": {
      "text/plain": [
       "movie_id    0\n",
       "title       0\n",
       "cast        0\n",
       "crew        0\n",
       "dtype: int64"
      ]
     },
     "execution_count": 9,
     "metadata": {},
     "output_type": "execute_result"
    }
   ],
   "source": [
    "# Credits file missing values\n",
    "credits_df.isna().sum()"
   ]
  },
  {
   "cell_type": "code",
   "execution_count": 10,
   "metadata": {
    "cell_id": "1348eee9178d402e9e06bedaee949674",
    "deepnote_cell_type": "code",
    "deepnote_to_be_reexecuted": false,
    "execution_millis": 86,
    "execution_start": 1683247648308,
    "source_hash": "dfa868d0",
    "tags": []
   },
   "outputs": [
    {
     "data": {
      "text/html": [
       "<div>\n",
       "<style scoped>\n",
       "    .dataframe tbody tr th:only-of-type {\n",
       "        vertical-align: middle;\n",
       "    }\n",
       "\n",
       "    .dataframe tbody tr th {\n",
       "        vertical-align: top;\n",
       "    }\n",
       "\n",
       "    .dataframe thead th {\n",
       "        text-align: right;\n",
       "    }\n",
       "</style>\n",
       "<table border=\"1\" class=\"dataframe\">\n",
       "  <thead>\n",
       "    <tr style=\"text-align: right;\">\n",
       "      <th></th>\n",
       "      <th>original_title</th>\n",
       "    </tr>\n",
       "  </thead>\n",
       "  <tbody>\n",
       "    <tr>\n",
       "      <th>546</th>\n",
       "      <td>Minions</td>\n",
       "    </tr>\n",
       "    <tr>\n",
       "      <th>95</th>\n",
       "      <td>Interstellar</td>\n",
       "    </tr>\n",
       "    <tr>\n",
       "      <th>788</th>\n",
       "      <td>Deadpool</td>\n",
       "    </tr>\n",
       "  </tbody>\n",
       "</table>\n",
       "</div>"
      ],
      "text/plain": [
       "    original_title\n",
       "546        Minions\n",
       "95    Interstellar\n",
       "788       Deadpool"
      ]
     },
     "execution_count": 10,
     "metadata": {},
     "output_type": "execute_result"
    }
   ],
   "source": [
    "# Top 3 movies based on popularity\n",
    "movies_df.sort_values(by='popularity', ascending=False).head(3)[[\"original_title\"]]"
   ]
  },
  {
   "attachments": {},
   "cell_type": "markdown",
   "metadata": {
    "cell_id": "6e945c3baacd401fb2287b32ea928619",
    "deepnote_cell_type": "markdown"
   },
   "source": [
    "<a id=\"data_preprocessing\"></a>\n",
    "# Data Preprocessing\n",
    "\n",
    "This section contains changes and manipulations made to the data."
   ]
  },
  {
   "cell_type": "code",
   "execution_count": 11,
   "metadata": {
    "cell_id": "25245baea9334419a2d8a3875a29cc8a",
    "deepnote_cell_type": "code",
    "deepnote_to_be_reexecuted": false,
    "execution_millis": 51,
    "execution_start": 1683247648165,
    "source_hash": "585f2e0a",
    "tags": []
   },
   "outputs": [],
   "source": [
    "# Fix missing overviews values\n",
    "movies_df.loc[movies_df.original_title == 'The Dark Knight','overview'] = \"When the menace known as the Joker wreaks havoc and chaos on the people of Gotham, Batman must accept one of the greatest psychological and physical tests of his ability to fight injustice.\"\n",
    "movies_df.loc[movies_df.original_title == 'Inside Out','overview'] = \"After young Riley is uprooted from her Midwest life and moved to San Francisco, her emotions - Joy, Fear, Anger, Disgust and Sadness - conflict on how best to navigate a new city, house, and school.\"\n",
    "movies_df.loc[movies_df.original_title == 'Guardians of the Galaxy','overview'] = \"A group of intergalactic criminals must pull together to stop a fanatical warrior with plans to purge the universe.\"\n",
    "movies_df.loc[movies_df.original_title == 'Interstellar','overview'] = \"A team of explorers travel through a wormhole in space in an attempt to ensure humanity's survival.\"\n",
    "movies_df.loc[movies_df.original_title == 'Inception','overview'] = \"A thief who steals corporate secrets through the use of dream-sharing technology is given the inverse task of planting an idea into the mind of a C.E.O., but his tragic past may doom the project and his team to disaster.\"\n",
    "movies_df.loc[movies_df.original_title == 'The Lord of the Rings: The Fellowship of the Ring','overview'] = \"A meek Hobbit from the Shire and eight companions set out on a journey to destroy the powerful One Ring and save Middle-earth from the Dark Lord Sauron.\"\n",
    "movies_df.loc[movies_df.original_title == 'Django Unchained','overview'] = \"With the help of a German bounty-hunter, a freed slave sets out to rescue his wife from a brutal plantation owner in Mississippi.\"\n",
    "movies_df.loc[movies_df.original_title == 'The Wolf of Wall Street','overview'] = \"Based on the true story of Jordan Belfort, from his rise to a wealthy stock-broker living the high life to his fall involving crime, corruption and the federal government.\"\n",
    "movies_df.loc[movies_df.original_title == 'The Lord of the Rings: The Return of the King','overview'] = \"Gandalf and Aragorn lead the World of Men against Sauron's army to draw his gaze from Frodo and Sam as they approach Mount Doom with the One Ring.\"\n",
    "movies_df.loc[movies_df.original_title == 'The Lord of the Rings: The Two Towers','overview'] = \"While Frodo and Sam edge closer to Mordor with the help of the shifty Gollum, the divided fellowship makes a stand against Sauron's new ally, Saruman, and his hordes of Isengard.\"\n",
    "movies_df.loc[movies_df.original_title == 'The Lion King','overview'] = \"After the murder of his father, a young lion prince flees his kingdom only to learn the true meaning of responsibility and bravery.\"\n",
    "movies_df.loc[movies_df.original_title == 'The Matrix','overview'] = \"When a beautiful stranger leads computer hacker Neo to a forbidding underworld, he discovers the shocking truth--the life he knows is the elaborate deception of an evil cyber-intelligence.\"\n",
    "movies_df.loc[movies_df.original_title == 'Fight Club','overview'] = \"An insomniac office worker and a devil-may-care soap maker form an underground fight club that evolves into much more.\"\n",
    "movies_df.loc[movies_df.original_title == 'The Green Mile','overview'] = \"The lives of guards on Death Row are affected by one of their charges: a black man accused of child murder and rape, yet who has a mysterious gift.\"\n",
    "movies_df.loc[movies_df.original_title == 'Forrest Gump','overview'] = \"The presidencies of Kennedy and Johnson, the Vietnam War, the Watergate scandal and other historical events unfold from the perspective of an Alabama man with an IQ of 75, whose only desire is to be reunited with his childhood sweetheart\"\n",
    "movies_df.loc[movies_df.original_title == 'Se7en','overview'] = \"Two detectives, a rookie and a veteran, hunt a serial killer who uses the seven deadly sins as his motives.\"\n",
    "movies_df.loc[movies_df.original_title == \"Schindler's List\",'overview'] = \"In German-occupied Poland during World War II, industrialist Oskar Schindler gradually becomes concerned for his Jewish workforce after witnessing their persecution by the Nazis.\"\n",
    "movies_df.loc[movies_df.original_title == 'The Shawshank Redemption','overview'] = \"Over the course of several years, two convicts form a friendship, seeking consolation and, eventually, redemption through basic compassion.\"\n",
    "movies_df.loc[movies_df.original_title == 'The Empire Strikes Back','overview'] = \"After the Rebels are overpowered by the Empire, Luke Skywalker begins Jedi training with Yoda, while his friends are pursued across the galaxy by Darth Vader and bounty hunter Boba Fett.\"\n",
    "movies_df.loc[movies_df.original_title == 'The Silence of the Lambs','overview'] = \"A young F.B.I. cadet must receive the help of an incarcerated and manipulative cannibal killer to help catch another serial killer, a madman who skins his victims.\"\n",
    "movies_df.loc[movies_df.original_title == 'Back to the Future','overview'] = \"Marty McFly, a 17-year-old high school student, is accidentally sent 30 years into the past in a time-traveling DeLorean invented by his close friend, the maverick scientist Doc Brown.\"\n",
    "movies_df.loc[movies_df.original_title == '千と千尋の神隠し','overview'] = \"During her family's move to the suburbs, a sullen 10-year-old girl wanders into a world ruled by gods, witches, and spirits, and where humans are changed into beasts.\"\n",
    "movies_df.loc[movies_df.original_title == 'The Imitation Game','overview'] = \"During World War II, the English mathematical genius Alan Turing tries to crack the German Enigma code with help from fellow mathematicians while attempting to come to terms with his troubled private life.\"\n",
    "movies_df.loc[movies_df.original_title == 'Chiamatemi Francesco - Il Papa della gente','overview'] = \"The story of Pope Francis' life.\"\n",
    "movies_df.loc[movies_df.original_title == 'The Godfather: Part II','overview'] = \"The early life and career of Vito Corleone in 1920s New York City is portrayed, while his son, Michael, expands and tightens his grip on the family crime syndicate.\"\n",
    "movies_df.loc[movies_df.original_title == 'Star Wars','overview'] = \"Luke Skywalker joins forces with a Jedi Knight, a cocky pilot, a Wookiee and two droids to save the galaxy from the Empire's world-destroying battle station, while also attempting to rescue Princess Leia from the mysterious Darth Vader.\"\n",
    "movies_df.loc[movies_df.original_title == 'Pulp Fiction','overview'] = \"The lives of two mob hitmen, a boxer, a gangster and his wife, and a pair of diner bandits intertwine in four tales of violence and redemption.\"\n",
    "movies_df.loc[movies_df.original_title == 'The Godfather','overview'] = \"The aging patriarch of an organized crime dynasty in postwar New York City transfers control of his clandestine empire to his reluctant youngest son.\"\n",
    "movies_df.loc[movies_df.original_title == 'Whiplash','overview'] = \"A promising young drummer enrolls at a cut-throat music conservatory where his dreams of greatness are mentored by an instructor who will stop at nothing to realize a student's potential.\"\n",
    "movies_df.loc[movies_df.original_title == 'To Be Frank, Sinatra at 100','overview'] = \"The life of Frank Sinatra, as an actor and singer and the steps along the way that led him to become such an icon.\"\n",
    "movies_df.loc[movies_df.original_title == 'Food Chains','overview'] = \"There is so much interest in food these days yet there is almost no interest in the hands that pick that food. In the US, farm labor has always been one of the most difficult and poorly paid jobs and has relied on some of the nation's most vulnerable people. While the legal restrictions which kept people bound to farms, like slavery, have been abolished, exploitation still exists, ranging from wage theft to modern-day slavery. These days, this exploitation is perpetuated by the corporations at the top of the food chain: supermarkets. Their buying power has kept wages pitifully low and has created a scenario where desperately poor people are willing to put up with anything to keep their jobs.\""
   ]
  },
  {
   "cell_type": "code",
   "execution_count": 12,
   "metadata": {
    "cell_id": "2b3ef95914184a65a8f5c7eeaf3971eb",
    "deepnote_cell_type": "code",
    "deepnote_to_be_reexecuted": false,
    "execution_millis": 4,
    "execution_start": 1683247648504,
    "source_hash": "1e52bc4e"
   },
   "outputs": [
    {
     "data": {
      "text/plain": [
       "original_language\n",
       "en    4505\n",
       "Name: count, dtype: int64"
      ]
     },
     "execution_count": 12,
     "metadata": {},
     "output_type": "execute_result"
    }
   ],
   "source": [
    "# Filtering to only English movies\n",
    "movies_df = movies_df.loc[movies_df.original_language=='en']\n",
    "\n",
    "# Dataset now contains only movies that are English\n",
    "movies_df.original_language.value_counts()"
   ]
  },
  {
   "attachments": {},
   "cell_type": "markdown",
   "metadata": {
    "cell_id": "9c477bd582bc4532952d45ba675423c7",
    "deepnote_cell_type": "markdown"
   },
   "source": [
    "Create a threshold to subset for only popular movies.\n",
    "\n",
    "**Note**: This adds bias"
   ]
  },
  {
   "cell_type": "code",
   "execution_count": 13,
   "metadata": {
    "cell_id": "1e6b66dc502f4369a79c77c9ab025ff0",
    "deepnote_cell_type": "code",
    "deepnote_to_be_reexecuted": false,
    "execution_millis": 44,
    "execution_start": 1683247648524,
    "source_hash": "2faefd8e"
   },
   "outputs": [
    {
     "data": {
      "text/plain": [
       "count    4505.000000\n",
       "mean       22.177435\n",
       "std        32.512782\n",
       "min         0.000000\n",
       "25%         5.000500\n",
       "50%        13.668633\n",
       "75%        29.253833\n",
       "max       875.581305\n",
       "Name: popularity, dtype: float64"
      ]
     },
     "execution_count": 13,
     "metadata": {},
     "output_type": "execute_result"
    }
   ],
   "source": [
    "# Statistical data before filtering popularity column\n",
    "movies_df.popularity.describe()"
   ]
  },
  {
   "cell_type": "code",
   "execution_count": 14,
   "metadata": {
    "cell_id": "05b297d4230c4771927af6cb68d92b8e",
    "deepnote_cell_type": "code",
    "deepnote_to_be_reexecuted": false,
    "execution_millis": 234,
    "execution_start": 1683247648617,
    "source_hash": "9815ffe0"
   },
   "outputs": [
    {
     "data": {
      "image/png": "[encoded data removed]",
      "text/plain": [
       "<Figure size 1500x600 with 1 Axes>"
      ]
     },
     "metadata": {},
     "output_type": "display_data"
    }
   ],
   "source": [
    "# Box plot of the distribution before filtering\n",
    "plt.figure(figsize=(15,6))\n",
    "plt.boxplot(movies_df.popularity, vert=False, widths=.5)\n",
    "plt.title(\"Popularity Rating Distribution\")\n",
    "plt.xlabel(\"Popularity Count\")\n",
    "plt.yticks(ticks=[])\n",
    "plt.show()"
   ]
  },
  {
   "cell_type": "code",
   "execution_count": 15,
   "metadata": {
    "cell_id": "ec5ab31344f24110b3d3bb36d3000e94",
    "deepnote_cell_type": "code",
    "deepnote_to_be_reexecuted": false,
    "execution_millis": 3,
    "execution_start": 1683247648891,
    "source_hash": "319dc4c5"
   },
   "outputs": [
    {
     "data": {
      "text/plain": [
       "count     4505.000000\n",
       "mean       719.023751\n",
       "std       1263.358181\n",
       "min          0.000000\n",
       "25%         58.000000\n",
       "50%        251.000000\n",
       "75%        788.000000\n",
       "max      13752.000000\n",
       "Name: vote_count, dtype: float64"
      ]
     },
     "execution_count": 15,
     "metadata": {},
     "output_type": "execute_result"
    }
   ],
   "source": [
    "# Filter vote counts above the 25th quartile\n",
    "movies_df.vote_count.describe()"
   ]
  },
  {
   "cell_type": "code",
   "execution_count": 16,
   "metadata": {
    "cell_id": "78609996eeac4b278b783f55df615b95",
    "deepnote_cell_type": "code",
    "deepnote_to_be_reexecuted": false,
    "execution_millis": 4,
    "execution_start": 1683247648891,
    "source_hash": "2dc8b286"
   },
   "outputs": [
    {
     "data": {
      "text/plain": [
       "count    4505.000000\n",
       "mean        6.065683\n",
       "std         1.185188\n",
       "min         0.000000\n",
       "25%         5.600000\n",
       "50%         6.200000\n",
       "75%         6.800000\n",
       "max        10.000000\n",
       "Name: vote_average, dtype: float64"
      ]
     },
     "execution_count": 16,
     "metadata": {},
     "output_type": "execute_result"
    }
   ],
   "source": [
    "# Filter vote average above the 50th quartile\n",
    "movies_df.vote_average.describe()"
   ]
  },
  {
   "cell_type": "code",
   "execution_count": 17,
   "metadata": {
    "cell_id": "b71f401cbcb64a9881018b5d57732a81",
    "deepnote_cell_type": "code",
    "deepnote_to_be_reexecuted": false,
    "execution_millis": 2,
    "execution_start": 1683247648925,
    "source_hash": "f7d43313"
   },
   "outputs": [
    {
     "data": {
      "text/plain": [
       "(790, 20)"
      ]
     },
     "execution_count": 17,
     "metadata": {},
     "output_type": "execute_result"
    }
   ],
   "source": [
    "# Movies needed based on project requirements\n",
    "req_movies = [\"The Dark Knight Rises\", \"Batman Begins\", \"Batman Returns\", \"Batman\", \"Batman Forever\", \"Prison\", \"Penitentiary\", \"1982\",\\\n",
    "\"Flying By\", \"Buffalo '66\", \"Aladdin\", \"Spirit: Stallion of the Cimarron\", \"Pocahontas\", \"The Legend of Hercules\", \"The Book of Life\"]\n",
    "\n",
    "# Filter the data\n",
    "movies_df = movies_df.loc[(movies_df.popularity.quantile(.75)<movies_df.popularity) & (movies_df[\"vote_average\"].quantile(.5)<movies_df[\"vote_average\"])\\\n",
    "& (movies_df[\"vote_count\"].quantile(.25)<movies_df[\"vote_count\"]) | (movies_df['original_title'].isin(req_movies))]\n",
    "\n",
    "# The dataset now is 790 rows besides 4803\n",
    "movies_df.shape"
   ]
  },
  {
   "cell_type": "code",
   "execution_count": 18,
   "metadata": {
    "cell_id": "5868a1a77bd4495381498ed1c7c42d8f",
    "deepnote_cell_type": "code",
    "deepnote_to_be_reexecuted": false,
    "execution_millis": 4,
    "execution_start": 1683247648935,
    "source_hash": "756c00b",
    "tags": []
   },
   "outputs": [
    {
     "data": {
      "text/html": [
       "<div>\n",
       "<style scoped>\n",
       "    .dataframe tbody tr th:only-of-type {\n",
       "        vertical-align: middle;\n",
       "    }\n",
       "\n",
       "    .dataframe tbody tr th {\n",
       "        vertical-align: top;\n",
       "    }\n",
       "\n",
       "    .dataframe thead th {\n",
       "        text-align: right;\n",
       "    }\n",
       "</style>\n",
       "<table border=\"1\" class=\"dataframe\">\n",
       "  <thead>\n",
       "    <tr style=\"text-align: right;\">\n",
       "      <th></th>\n",
       "      <th>id</th>\n",
       "      <th>genres</th>\n",
       "      <th>keywords</th>\n",
       "      <th>production_company</th>\n",
       "      <th>title</th>\n",
       "      <th>overview</th>\n",
       "      <th>tagline</th>\n",
       "      <th>popularity</th>\n",
       "    </tr>\n",
       "  </thead>\n",
       "  <tbody>\n",
       "    <tr>\n",
       "      <th>0</th>\n",
       "      <td>19995</td>\n",
       "      <td>[Action, Adventure, Fantasy, Science Fiction]</td>\n",
       "      <td>[culture clash, future, space war, space colon...</td>\n",
       "      <td>[Ingenious Film Partners, Twentieth Century Fo...</td>\n",
       "      <td>Avatar</td>\n",
       "      <td>In the 22nd century, a paraplegic Marine is di...</td>\n",
       "      <td>Enter the World of Pandora.</td>\n",
       "      <td>150.437577</td>\n",
       "    </tr>\n",
       "    <tr>\n",
       "      <th>1</th>\n",
       "      <td>285</td>\n",
       "      <td>[Adventure, Fantasy, Action]</td>\n",
       "      <td>[ocean, drug abuse, exotic island, east india ...</td>\n",
       "      <td>[Walt Disney Pictures, Jerry Bruckheimer Films...</td>\n",
       "      <td>Pirates of the Caribbean: At World's End</td>\n",
       "      <td>Captain Barbossa, long believed to be dead, ha...</td>\n",
       "      <td>At the end of the world, the adventure begins.</td>\n",
       "      <td>139.082615</td>\n",
       "    </tr>\n",
       "  </tbody>\n",
       "</table>\n",
       "</div>"
      ],
      "text/plain": [
       "      id                                         genres  \\\n",
       "0  19995  [Action, Adventure, Fantasy, Science Fiction]   \n",
       "1    285                   [Adventure, Fantasy, Action]   \n",
       "\n",
       "                                            keywords  \\\n",
       "0  [culture clash, future, space war, space colon...   \n",
       "1  [ocean, drug abuse, exotic island, east india ...   \n",
       "\n",
       "                                  production_company  \\\n",
       "0  [Ingenious Film Partners, Twentieth Century Fo...   \n",
       "1  [Walt Disney Pictures, Jerry Bruckheimer Films...   \n",
       "\n",
       "                                      title  \\\n",
       "0                                    Avatar   \n",
       "1  Pirates of the Caribbean: At World's End   \n",
       "\n",
       "                                            overview  \\\n",
       "0  In the 22nd century, a paraplegic Marine is di...   \n",
       "1  Captain Barbossa, long believed to be dead, ha...   \n",
       "\n",
       "                                          tagline  popularity  \n",
       "0                     Enter the World of Pandora.  150.437577  \n",
       "1  At the end of the world, the adventure begins.  139.082615  "
      ]
     },
     "execution_count": 18,
     "metadata": {},
     "output_type": "execute_result"
    }
   ],
   "source": [
    "# Returns a list of the data attributes we need\n",
    "def data_cleaner(data):\n",
    "    parsed = []\n",
    "    for i in ast.literal_eval(data):\n",
    "        parsed.append(i['name'])\n",
    "    return parsed\n",
    "\n",
    "# Create a new dataframe with the transformed data\n",
    "movies_df_transformed = pd.DataFrame()\n",
    "\n",
    "movies_df_transformed['id'] = movies_df['id']\n",
    "movies_df_transformed['genres'] = movies_df['genres'].apply(data_cleaner)\n",
    "movies_df_transformed['keywords'] = movies_df['keywords'].apply(data_cleaner)\n",
    "movies_df_transformed['production_company'] = movies_df['production_companies'].apply(data_cleaner)\n",
    "movies_df_transformed['title'] = movies_df['original_title']\n",
    "movies_df_transformed['overview'] = movies_df['overview']\n",
    "movies_df_transformed['tagline'] = movies_df['tagline']\n",
    "movies_df_transformed['popularity'] = movies_df['popularity']\n",
    "\n",
    "movies_df_transformed.head(2)"
   ]
  },
  {
   "cell_type": "code",
   "execution_count": 19,
   "metadata": {
    "cell_id": "be438a8508774c0b8d4cbe54bc4c2cf5",
    "deepnote_cell_type": "code",
    "deepnote_to_be_reexecuted": false,
    "execution_millis": 4,
    "execution_start": 1683247649178,
    "source_hash": "d1cd0980"
   },
   "outputs": [],
   "source": [
    "# Find cast members\n",
    "def cast_finder(lis):\n",
    "    parsed = []\n",
    "    for i in ast.literal_eval(lis):\n",
    "        if i['character'] != \"Additional Voices (voice)\":\n",
    "            parsed.append(i['character'])\n",
    "        parsed.append(i['name'])\n",
    "    return parsed\n",
    "\n",
    "# Find crew members\n",
    "def crew_finder(lis):\n",
    "    parsed = []\n",
    "    for i in ast.literal_eval(lis):\n",
    "        if (\n",
    "            i['job'] == \"Director\" or i['job'] == \"Producer\" or i['job'] == \"Writer\" or\n",
    "            i['job'] == \"Editor\" or i['job'] == \"Visual Effects Producer\" or i['job'] == \"Executive Producer\" or i['job'] == \"Story\" or\n",
    "            i['job'] == \"Production Manager\" or i['job'] == \"Screenplay\" or i['job'] == \"Visual Effects\"\n",
    "            ):\n",
    "            parsed.append(i['name'])\n",
    "    return parsed\n",
    "\n",
    "\n",
    "# Cast column\n",
    "credits_df['cast'] = credits_df['cast'].apply(cast_finder)\n",
    "\n",
    "# Crew members\n",
    "credits_df['crew'] = credits_df['crew'].apply(crew_finder)"
   ]
  },
  {
   "cell_type": "code",
   "execution_count": 20,
   "metadata": {
    "cell_id": "9f13575d252d478fa8c40b776902a514",
    "deepnote_cell_type": "code",
    "deepnote_to_be_reexecuted": false,
    "execution_millis": 7,
    "execution_start": 1683247657013,
    "source_hash": "957ef31c"
   },
   "outputs": [
    {
     "data": {
      "text/html": [
       "<div>\n",
       "<style scoped>\n",
       "    .dataframe tbody tr th:only-of-type {\n",
       "        vertical-align: middle;\n",
       "    }\n",
       "\n",
       "    .dataframe tbody tr th {\n",
       "        vertical-align: top;\n",
       "    }\n",
       "\n",
       "    .dataframe thead th {\n",
       "        text-align: right;\n",
       "    }\n",
       "</style>\n",
       "<table border=\"1\" class=\"dataframe\">\n",
       "  <thead>\n",
       "    <tr style=\"text-align: right;\">\n",
       "      <th></th>\n",
       "      <th>id</th>\n",
       "      <th>genres</th>\n",
       "      <th>keywords</th>\n",
       "      <th>production_company</th>\n",
       "      <th>title</th>\n",
       "      <th>overview</th>\n",
       "      <th>tagline</th>\n",
       "      <th>popularity</th>\n",
       "      <th>cast</th>\n",
       "      <th>crew</th>\n",
       "    </tr>\n",
       "  </thead>\n",
       "  <tbody>\n",
       "    <tr>\n",
       "      <th>0</th>\n",
       "      <td>19995</td>\n",
       "      <td>[Action, Adventure, Fantasy, Science Fiction]</td>\n",
       "      <td>[culture clash, future, space war, space colon...</td>\n",
       "      <td>[Ingenious Film Partners, Twentieth Century Fo...</td>\n",
       "      <td>Avatar</td>\n",
       "      <td>In the 22nd century, a paraplegic Marine is di...</td>\n",
       "      <td>Enter the World of Pandora.</td>\n",
       "      <td>150.437577</td>\n",
       "      <td>[Jake Sully, Sam Worthington, Neytiri, Zoe Sal...</td>\n",
       "      <td>[Stephen E. Rivkin, James Cameron, James Camer...</td>\n",
       "    </tr>\n",
       "    <tr>\n",
       "      <th>1</th>\n",
       "      <td>285</td>\n",
       "      <td>[Adventure, Fantasy, Action]</td>\n",
       "      <td>[ocean, drug abuse, exotic island, east india ...</td>\n",
       "      <td>[Walt Disney Pictures, Jerry Bruckheimer Films...</td>\n",
       "      <td>Pirates of the Caribbean: At World's End</td>\n",
       "      <td>Captain Barbossa, long believed to be dead, ha...</td>\n",
       "      <td>At the end of the world, the adventure begins.</td>\n",
       "      <td>139.082615</td>\n",
       "      <td>[Captain Jack Sparrow, Johnny Depp, Will Turne...</td>\n",
       "      <td>[Gore Verbinski, Jerry Bruckheimer, Ted Elliot...</td>\n",
       "    </tr>\n",
       "  </tbody>\n",
       "</table>\n",
       "</div>"
      ],
      "text/plain": [
       "      id                                         genres  \\\n",
       "0  19995  [Action, Adventure, Fantasy, Science Fiction]   \n",
       "1    285                   [Adventure, Fantasy, Action]   \n",
       "\n",
       "                                            keywords  \\\n",
       "0  [culture clash, future, space war, space colon...   \n",
       "1  [ocean, drug abuse, exotic island, east india ...   \n",
       "\n",
       "                                  production_company  \\\n",
       "0  [Ingenious Film Partners, Twentieth Century Fo...   \n",
       "1  [Walt Disney Pictures, Jerry Bruckheimer Films...   \n",
       "\n",
       "                                      title  \\\n",
       "0                                    Avatar   \n",
       "1  Pirates of the Caribbean: At World's End   \n",
       "\n",
       "                                            overview  \\\n",
       "0  In the 22nd century, a paraplegic Marine is di...   \n",
       "1  Captain Barbossa, long believed to be dead, ha...   \n",
       "\n",
       "                                          tagline  popularity  \\\n",
       "0                     Enter the World of Pandora.  150.437577   \n",
       "1  At the end of the world, the adventure begins.  139.082615   \n",
       "\n",
       "                                                cast  \\\n",
       "0  [Jake Sully, Sam Worthington, Neytiri, Zoe Sal...   \n",
       "1  [Captain Jack Sparrow, Johnny Depp, Will Turne...   \n",
       "\n",
       "                                                crew  \n",
       "0  [Stephen E. Rivkin, James Cameron, James Camer...  \n",
       "1  [Gore Verbinski, Jerry Bruckheimer, Ted Elliot...  "
      ]
     },
     "execution_count": 20,
     "metadata": {},
     "output_type": "execute_result"
    }
   ],
   "source": [
    "credits_df.drop(columns=['title'], inplace=True)\n",
    "\n",
    "# Creating a training dataframe\n",
    "merged_df = movies_df_transformed.merge(credits_df, left_on='id', right_on='movie_id', how='left')\n",
    "\n",
    "# Droping the extra id\n",
    "merged_df.drop(columns='movie_id', inplace=True)\n",
    "\n",
    "merged_df.head(2)"
   ]
  },
  {
   "attachments": {},
   "cell_type": "markdown",
   "metadata": {
    "cell_id": "d94af96439e14075ac9c999948b10c9b",
    "deepnote_cell_type": "markdown"
   },
   "source": [
    "<a id=\"ml\"></a>\n",
    "# Machine Learning\n",
    "\n",
    "- Remove stop words\n",
    "- Porter Stemmer (NLTK)\n",
    "- TFIDF-Vectorizer (Scikit-Learn)\n",
    "- Cosine Similarities (Scikit-Learn)"
   ]
  },
  {
   "cell_type": "code",
   "execution_count": 21,
   "metadata": {
    "cell_id": "3e4e1e98814c49b19e53873f0976f466",
    "deepnote_cell_type": "code",
    "deepnote_to_be_reexecuted": false,
    "execution_millis": 5,
    "execution_start": 1683247658801,
    "source_hash": "f4c645f3"
   },
   "outputs": [
    {
     "data": {
      "text/html": [
       "<div>\n",
       "<style scoped>\n",
       "    .dataframe tbody tr th:only-of-type {\n",
       "        vertical-align: middle;\n",
       "    }\n",
       "\n",
       "    .dataframe tbody tr th {\n",
       "        vertical-align: top;\n",
       "    }\n",
       "\n",
       "    .dataframe thead th {\n",
       "        text-align: right;\n",
       "    }\n",
       "</style>\n",
       "<table border=\"1\" class=\"dataframe\">\n",
       "  <thead>\n",
       "    <tr style=\"text-align: right;\">\n",
       "      <th></th>\n",
       "      <th>id</th>\n",
       "      <th>title</th>\n",
       "      <th>overview</th>\n",
       "      <th>tagline</th>\n",
       "      <th>genres</th>\n",
       "      <th>keywords</th>\n",
       "      <th>cast</th>\n",
       "      <th>crew</th>\n",
       "      <th>production_companies</th>\n",
       "    </tr>\n",
       "  </thead>\n",
       "  <tbody>\n",
       "    <tr>\n",
       "      <th>0</th>\n",
       "      <td>19995</td>\n",
       "      <td>Avatar</td>\n",
       "      <td>In the 22nd century, a paraplegic Marine is di...</td>\n",
       "      <td>Enter the World of Pandora.</td>\n",
       "      <td>action adventure fantasy science fiction</td>\n",
       "      <td>culture clash future space war space colony so...</td>\n",
       "      <td>jakesully samworthington neytiri zoesaldana dr...</td>\n",
       "      <td>stephenerivkin jamescameron jamescameron james...</td>\n",
       "      <td>ingeniousfilmpartners twentiethcenturyfoxfilmc...</td>\n",
       "    </tr>\n",
       "    <tr>\n",
       "      <th>1</th>\n",
       "      <td>285</td>\n",
       "      <td>Pirates of the Caribbean: At World's End</td>\n",
       "      <td>Captain Barbossa, long believed to be dead, ha...</td>\n",
       "      <td>At the end of the world, the adventure begins.</td>\n",
       "      <td>adventure fantasy action</td>\n",
       "      <td>ocean drug abuse exotic island east india trad...</td>\n",
       "      <td>captainjacksparrow johnnydepp willturner orlan...</td>\n",
       "      <td>goreverbinski jerrybruckheimer tedelliott terr...</td>\n",
       "      <td>waltdisneypictures jerrybruckheimerfilms secon...</td>\n",
       "    </tr>\n",
       "    <tr>\n",
       "      <th>2</th>\n",
       "      <td>206647</td>\n",
       "      <td>Spectre</td>\n",
       "      <td>A cryptic message from Bond’s past sends him o...</td>\n",
       "      <td>A Plan No One Escapes</td>\n",
       "      <td>action adventure crime</td>\n",
       "      <td>spy based on novel secret agent sequel mi6 bri...</td>\n",
       "      <td>jamesbond danielcraig blofeld christophwaltz m...</td>\n",
       "      <td>sammendes johnlogan johnlogan leesmith barbara...</td>\n",
       "      <td>columbiapictures danjaq b24</td>\n",
       "    </tr>\n",
       "  </tbody>\n",
       "</table>\n",
       "</div>"
      ],
      "text/plain": [
       "       id                                     title  \\\n",
       "0   19995                                    Avatar   \n",
       "1     285  Pirates of the Caribbean: At World's End   \n",
       "2  206647                                   Spectre   \n",
       "\n",
       "                                            overview  \\\n",
       "0  In the 22nd century, a paraplegic Marine is di...   \n",
       "1  Captain Barbossa, long believed to be dead, ha...   \n",
       "2  A cryptic message from Bond’s past sends him o...   \n",
       "\n",
       "                                          tagline  \\\n",
       "0                     Enter the World of Pandora.   \n",
       "1  At the end of the world, the adventure begins.   \n",
       "2                           A Plan No One Escapes   \n",
       "\n",
       "                                     genres  \\\n",
       "0  action adventure fantasy science fiction   \n",
       "1                  adventure fantasy action   \n",
       "2                    action adventure crime   \n",
       "\n",
       "                                            keywords  \\\n",
       "0  culture clash future space war space colony so...   \n",
       "1  ocean drug abuse exotic island east india trad...   \n",
       "2  spy based on novel secret agent sequel mi6 bri...   \n",
       "\n",
       "                                                cast  \\\n",
       "0  jakesully samworthington neytiri zoesaldana dr...   \n",
       "1  captainjacksparrow johnnydepp willturner orlan...   \n",
       "2  jamesbond danielcraig blofeld christophwaltz m...   \n",
       "\n",
       "                                                crew  \\\n",
       "0  stephenerivkin jamescameron jamescameron james...   \n",
       "1  goreverbinski jerrybruckheimer tedelliott terr...   \n",
       "2  sammendes johnlogan johnlogan leesmith barbara...   \n",
       "\n",
       "                                production_companies  \n",
       "0  ingeniousfilmpartners twentiethcenturyfoxfilmc...  \n",
       "1  waltdisneypictures jerrybruckheimerfilms secon...  \n",
       "2                        columbiapictures danjaq b24  "
      ]
     },
     "execution_count": 21,
     "metadata": {},
     "output_type": "execute_result"
    }
   ],
   "source": [
    "# Loops through a column and removes stop words and lowers text\n",
    "def column_unpacker(lis):\n",
    "    parsed = \" \".join([word.lower() for word in lis if word not in stopwords.words('english')])\n",
    "    return parsed\n",
    "\n",
    "# Cleans the cast and crew names\n",
    "def cast_crew(name):\n",
    "    new_name = \" \".join([\"\".join(letter.lower().replace(\" \", '') for letter in word if letter not in punc) for word in name])\n",
    "    return new_name\n",
    "\n",
    "# Store text data\n",
    "textual_df = pd.DataFrame()\n",
    "\n",
    "textual_df['id'] = merged_df['id']\n",
    "textual_df['title'] = merged_df['title']\n",
    "textual_df['overview'] = merged_df['overview']\n",
    "textual_df['tagline'] = merged_df['tagline']\n",
    "textual_df['genres'] = merged_df['genres'].apply(lambda x: column_unpacker(x))\n",
    "textual_df['keywords'] = merged_df['keywords'].apply(lambda x: column_unpacker(x))\n",
    "textual_df['cast'] = merged_df['cast'].apply(lambda x: cast_crew(x))\n",
    "textual_df['crew'] = merged_df['crew'].apply(lambda x: cast_crew(x))\n",
    "textual_df['production_companies'] = merged_df['production_company'].apply(lambda x: cast_crew(x))\n",
    "\n",
    "# The data we will use for ML\n",
    "textual_df.head(3)"
   ]
  },
  {
   "cell_type": "code",
   "execution_count": 22,
   "metadata": {
    "cell_id": "52135ef52d0d4543ba6af6ade4dbf6ae",
    "deepnote_cell_type": "code",
    "deepnote_to_be_reexecuted": false,
    "execution_millis": 5,
    "execution_start": 1683247660072,
    "source_hash": "d68f448c"
   },
   "outputs": [
    {
     "data": {
      "text/html": [
       "<div>\n",
       "<style scoped>\n",
       "    .dataframe tbody tr th:only-of-type {\n",
       "        vertical-align: middle;\n",
       "    }\n",
       "\n",
       "    .dataframe tbody tr th {\n",
       "        vertical-align: top;\n",
       "    }\n",
       "\n",
       "    .dataframe thead th {\n",
       "        text-align: right;\n",
       "    }\n",
       "</style>\n",
       "<table border=\"1\" class=\"dataframe\">\n",
       "  <thead>\n",
       "    <tr style=\"text-align: right;\">\n",
       "      <th></th>\n",
       "      <th>title</th>\n",
       "      <th>cast</th>\n",
       "      <th>crew</th>\n",
       "      <th>overview_cleaned</th>\n",
       "      <th>tagline_cleaned</th>\n",
       "      <th>genres</th>\n",
       "      <th>keywords</th>\n",
       "      <th>production_companies</th>\n",
       "      <th>combined</th>\n",
       "    </tr>\n",
       "  </thead>\n",
       "  <tbody>\n",
       "    <tr>\n",
       "      <th>0</th>\n",
       "      <td>Avatar</td>\n",
       "      <td>jakesully samworthington neytiri zoesaldana dr...</td>\n",
       "      <td>stephenerivkin jamescameron jamescameron james...</td>\n",
       "      <td>in 22nd centuri parapleg marin dispatch moon p...</td>\n",
       "      <td>enter world pandora</td>\n",
       "      <td>action adventure fantasy science fiction</td>\n",
       "      <td>culture clash future space war space colony so...</td>\n",
       "      <td>ingeniousfilmpartners twentiethcenturyfoxfilmc...</td>\n",
       "      <td>jakesully samworthington neytiri zoesaldana dr...</td>\n",
       "    </tr>\n",
       "    <tr>\n",
       "      <th>1</th>\n",
       "      <td>Pirates of the Caribbean: At World's End</td>\n",
       "      <td>captainjacksparrow johnnydepp willturner orlan...</td>\n",
       "      <td>goreverbinski jerrybruckheimer tedelliott terr...</td>\n",
       "      <td>captain barbossa long believ dead come back li...</td>\n",
       "      <td>at end world adventur begin</td>\n",
       "      <td>adventure fantasy action</td>\n",
       "      <td>ocean drug abuse exotic island east india trad...</td>\n",
       "      <td>waltdisneypictures jerrybruckheimerfilms secon...</td>\n",
       "      <td>captainjacksparrow johnnydepp willturner orlan...</td>\n",
       "    </tr>\n",
       "    <tr>\n",
       "      <th>2</th>\n",
       "      <td>Spectre</td>\n",
       "      <td>jamesbond danielcraig blofeld christophwaltz m...</td>\n",
       "      <td>sammendes johnlogan johnlogan leesmith barbara...</td>\n",
       "      <td>a cryptic messag bond past send trail uncov si...</td>\n",
       "      <td>a plan no one escap</td>\n",
       "      <td>action adventure crime</td>\n",
       "      <td>spy based on novel secret agent sequel mi6 bri...</td>\n",
       "      <td>columbiapictures danjaq b24</td>\n",
       "      <td>jamesbond danielcraig blofeld christophwaltz m...</td>\n",
       "    </tr>\n",
       "  </tbody>\n",
       "</table>\n",
       "</div>"
      ],
      "text/plain": [
       "                                      title  \\\n",
       "0                                    Avatar   \n",
       "1  Pirates of the Caribbean: At World's End   \n",
       "2                                   Spectre   \n",
       "\n",
       "                                                cast  \\\n",
       "0  jakesully samworthington neytiri zoesaldana dr...   \n",
       "1  captainjacksparrow johnnydepp willturner orlan...   \n",
       "2  jamesbond danielcraig blofeld christophwaltz m...   \n",
       "\n",
       "                                                crew  \\\n",
       "0  stephenerivkin jamescameron jamescameron james...   \n",
       "1  goreverbinski jerrybruckheimer tedelliott terr...   \n",
       "2  sammendes johnlogan johnlogan leesmith barbara...   \n",
       "\n",
       "                                    overview_cleaned  \\\n",
       "0  in 22nd centuri parapleg marin dispatch moon p...   \n",
       "1  captain barbossa long believ dead come back li...   \n",
       "2  a cryptic messag bond past send trail uncov si...   \n",
       "\n",
       "               tagline_cleaned                                    genres  \\\n",
       "0          enter world pandora  action adventure fantasy science fiction   \n",
       "1  at end world adventur begin                  adventure fantasy action   \n",
       "2          a plan no one escap                    action adventure crime   \n",
       "\n",
       "                                            keywords  \\\n",
       "0  culture clash future space war space colony so...   \n",
       "1  ocean drug abuse exotic island east india trad...   \n",
       "2  spy based on novel secret agent sequel mi6 bri...   \n",
       "\n",
       "                                production_companies  \\\n",
       "0  ingeniousfilmpartners twentiethcenturyfoxfilmc...   \n",
       "1  waltdisneypictures jerrybruckheimerfilms secon...   \n",
       "2                        columbiapictures danjaq b24   \n",
       "\n",
       "                                            combined  \n",
       "0  jakesully samworthington neytiri zoesaldana dr...  \n",
       "1  captainjacksparrow johnnydepp willturner orlan...  \n",
       "2  jamesbond danielcraig blofeld christophwaltz m...  "
      ]
     },
     "execution_count": 22,
     "metadata": {},
     "output_type": "execute_result"
    }
   ],
   "source": [
    "pd.options.mode.chained_assignment = None\n",
    "\n",
    "# Initialzie the Potter Stemmer\n",
    "porter_stemmer = PorterStemmer()\n",
    "\n",
    "# Replace missing taglines\n",
    "textual_df['tagline'].loc[textual_df['tagline'].isna()] = ''\n",
    "\n",
    "# Stemming and cleaning process for text data\n",
    "def text_cleaner(text, stemmer):\n",
    "    tokens = re.split(r'\\W+', text)\n",
    "    clean = \" \".join([stemmer.stem(word).lower() for word in tokens\\\n",
    "                        if word not in stopwords.words('english') and\\\n",
    "                        word not in punc])\n",
    "    return clean\n",
    "\n",
    "# Calling the text cleaner\n",
    "textual_df['overview_cleaned'] = textual_df['overview'].apply(lambda x: text_cleaner(x, stemmer=porter_stemmer))\n",
    "textual_df['tagline_cleaned'] = textual_df['tagline'].apply(lambda x: text_cleaner(x, stemmer=porter_stemmer))\n",
    "\n",
    "# Dataframe for the ML algo\n",
    "ml_df = textual_df[['title','cast', 'crew', 'overview_cleaned', 'tagline_cleaned', 'genres', 'keywords', 'production_companies']]\n",
    "ml_df['combined'] = textual_df['cast']+\" \"+textual_df['crew']+\" \"+textual_df['overview_cleaned']+\" \"+textual_df['tagline_cleaned']+\" \"\\\n",
    "                    +textual_df['genres']+\" \"+textual_df['keywords']+\" \"+textual_df['production_companies']\n",
    "ml_df.head(3)"
   ]
  },
  {
   "cell_type": "code",
   "execution_count": 23,
   "metadata": {
    "cell_id": "a93341f173624b72845b7e76ed94592a",
    "deepnote_cell_type": "code",
    "deepnote_to_be_reexecuted": false,
    "execution_millis": 9,
    "execution_start": 1683247664785,
    "source_hash": "a143c185"
   },
   "outputs": [],
   "source": [
    "tfidf = TfidfVectorizer()\n",
    "\n",
    "# Fitting into seperate TFIDFs\n",
    "tfidf_matrix = tfidf.fit_transform(ml_df['combined'])\n",
    "\n",
    "cosine = cosine_similarity(tfidf_matrix)\n",
    "\n",
    "# Function to look up the movie\n",
    "def get_movie_recommendation(lookup):\n",
    "    print (f\"Recommendations for {lookup}: \\n\")\n",
    "    for index, name in enumerate(cosine):\n",
    "        if ml_df.title.loc[index] == lookup:\n",
    "            [print (ml_df.title.loc[i]) for i in name.argsort()[:-7:-1][1:]]"
   ]
  },
  {
   "attachments": {},
   "cell_type": "markdown",
   "metadata": {
    "cell_id": "c72f479e076d4337b257c555bc28a99c",
    "deepnote_cell_type": "markdown"
   },
   "source": [
    "<a id=\"results\"></a>\n",
    "# Results"
   ]
  },
  {
   "cell_type": "code",
   "execution_count": 24,
   "metadata": {
    "cell_id": "066651c79f13413bb6c44f5d72a5a02c",
    "deepnote_cell_type": "code",
    "deepnote_to_be_reexecuted": false,
    "execution_millis": 4,
    "execution_start": 1683247665081,
    "source_hash": "72c8c157"
   },
   "outputs": [
    {
     "name": "stdout",
     "output_type": "stream",
     "text": [
      "Recommendations for The Dark Knight: \n",
      "\n",
      "Batman Returns\n",
      "The Dark Knight Rises\n",
      "Batman\n",
      "Batman Begins\n",
      "Man of Steel\n"
     ]
    }
   ],
   "source": [
    "get_movie_recommendation(\"The Dark Knight\")"
   ]
  },
  {
   "cell_type": "code",
   "execution_count": 25,
   "metadata": {
    "cell_id": "8f419ccbcd2646a68b558f7dae4f248b",
    "deepnote_cell_type": "code",
    "deepnote_to_be_reexecuted": false,
    "execution_millis": 1,
    "execution_start": 1683247665126,
    "source_hash": "938cac90"
   },
   "outputs": [
    {
     "name": "stdout",
     "output_type": "stream",
     "text": [
      "Recommendations for The Shawshank Redemption: \n",
      "\n",
      "The Green Mile\n",
      "Prison\n",
      "Penitentiary\n",
      "Escape Plan\n",
      "The Mist\n"
     ]
    }
   ],
   "source": [
    "get_movie_recommendation(\"The Shawshank Redemption\")"
   ]
  },
  {
   "cell_type": "code",
   "execution_count": 26,
   "metadata": {
    "cell_id": "2e15d38f424b4e1ca6edaa2365f977da",
    "deepnote_cell_type": "code",
    "deepnote_to_be_reexecuted": false,
    "execution_millis": 3,
    "execution_start": 1683247665126,
    "source_hash": "b972c61e"
   },
   "outputs": [
    {
     "name": "stdout",
     "output_type": "stream",
     "text": [
      "Recommendations for Frozen: \n",
      "\n",
      "Wreck-It Ralph\n",
      "The Princess and the Frog\n",
      "Pocahontas\n",
      "Brave\n",
      "Snow White and the Seven Dwarfs\n"
     ]
    }
   ],
   "source": [
    "get_movie_recommendation(\"Frozen\")"
   ]
  },
  {
   "cell_type": "markdown",
   "metadata": {},
   "source": [
    "## Credits\n",
    "- [Kazi Shahria](https://www.linkedin.com/in/kazishahria/)\n",
    "- [Maham Rasheda](https://www.linkedin.com/in/mahamrasheda/)\n",
    "- [Muhammad Elbadri](https://www.linkedin.com/in/muhammadelbadri/)\n",
    "- [Sumaiya Gulshan](https://www.linkedin.com/in/sumaiya-gulshan-285289232/)"
   ]
  }
 ],
 "metadata": {
  "deepnote": {},
  "deepnote_execution_queue": [],
  "deepnote_full_width": true,
  "deepnote_notebook_id": "07014b1a9e3b4258b59eb5e74dd1501b",
  "deepnote_persisted_session": {
   "createdAt": "2023-05-04T02:01:12.865Z"
  },
  "kernelspec": {
   "display_name": ".venv",
   "language": "python",
   "name": "python3"
  },
  "language_info": {
   "codemirror_mode": {
    "name": "ipython",
    "version": 3
   },
   "file_extension": ".py",
   "mimetype": "text/x-python",
   "name": "python",
   "nbconvert_exporter": "python",
   "pygments_lexer": "ipython3",
   "version": "3.12.0"
  }
 },
 "nbformat": 4,
 "nbformat_minor": 4
}
